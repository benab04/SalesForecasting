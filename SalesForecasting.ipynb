{
  "nbformat": 4,
  "nbformat_minor": 0,
  "metadata": {
    "colab": {
      "provenance": [],
      "authorship_tag": "ABX9TyOLOH8agThT0Dc88OjvdD4j",
      "include_colab_link": true
    },
    "kernelspec": {
      "name": "python3",
      "display_name": "Python 3"
    },
    "language_info": {
      "name": "python"
    }
  },
  "cells": [
    {
      "cell_type": "markdown",
      "metadata": {
        "id": "view-in-github",
        "colab_type": "text"
      },
      "source": [
        "<a href=\"https://colab.research.google.com/github/benab04/SalesForecasting/blob/main/SalesForecasting.ipynb\" target=\"_parent\"><img src=\"https://colab.research.google.com/assets/colab-badge.svg\" alt=\"Open In Colab\"/></a>"
      ]
    },
    {
      "cell_type": "code",
      "source": [
        "%pip install  pandas"
      ],
      "metadata": {
        "colab": {
          "base_uri": "https://localhost:8080/"
        },
        "id": "W6y_DOcbZO_U",
        "outputId": "c3f435e4-d327-4800-b1e2-fc78f63f6574"
      },
      "execution_count": 1,
      "outputs": [
        {
          "output_type": "stream",
          "name": "stdout",
          "text": [
            "Requirement already satisfied: pandas in /usr/local/lib/python3.10/dist-packages (1.5.3)\n",
            "Requirement already satisfied: python-dateutil>=2.8.1 in /usr/local/lib/python3.10/dist-packages (from pandas) (2.8.2)\n",
            "Requirement already satisfied: pytz>=2020.1 in /usr/local/lib/python3.10/dist-packages (from pandas) (2023.3.post1)\n",
            "Requirement already satisfied: numpy>=1.21.0 in /usr/local/lib/python3.10/dist-packages (from pandas) (1.23.5)\n",
            "Requirement already satisfied: six>=1.5 in /usr/local/lib/python3.10/dist-packages (from python-dateutil>=2.8.1->pandas) (1.16.0)\n"
          ]
        }
      ]
    },
    {
      "cell_type": "code",
      "execution_count": 2,
      "metadata": {
        "colab": {
          "base_uri": "https://localhost:8080/"
        },
        "id": "igXPgMOOWCzb",
        "outputId": "361487d5-dc8d-4c5e-a3b5-ce28c6d2fdb0"
      },
      "outputs": [
        {
          "output_type": "stream",
          "name": "stdout",
          "text": [
            "\u001b[2K     \u001b[90m━━━━━━━━━━━━━━━━━━━━━━━━━━━━━━━━━━━━━━━━\u001b[0m \u001b[32m151.3/151.3 kB\u001b[0m \u001b[31m4.0 MB/s\u001b[0m eta \u001b[36m0:00:00\u001b[0m\n",
            "\u001b[2K     \u001b[90m━━━━━━━━━━━━━━━━━━━━━━━━━━━━━━━━━━━━━━━━\u001b[0m \u001b[32m98.7/98.7 MB\u001b[0m \u001b[31m9.1 MB/s\u001b[0m eta \u001b[36m0:00:00\u001b[0m\n",
            "\u001b[2K     \u001b[90m━━━━━━━━━━━━━━━━━━━━━━━━━━━━━━━━━━━━━━━━\u001b[0m \u001b[32m1.7/1.7 MB\u001b[0m \u001b[31m72.9 MB/s\u001b[0m eta \u001b[36m0:00:00\u001b[0m\n",
            "\u001b[2K     \u001b[90m━━━━━━━━━━━━━━━━━━━━━━━━━━━━━━━━━━━━━━━━\u001b[0m \u001b[32m108.3/108.3 kB\u001b[0m \u001b[31m11.7 MB/s\u001b[0m eta \u001b[36m0:00:00\u001b[0m\n",
            "\u001b[?25h  Preparing metadata (setup.py) ... \u001b[?25l\u001b[?25hdone\n",
            "\u001b[2K     \u001b[90m━━━━━━━━━━━━━━━━━━━━━━━━━━━━━━━━━━━━━━━━\u001b[0m \u001b[32m139.4/139.4 kB\u001b[0m \u001b[31m14.8 MB/s\u001b[0m eta \u001b[36m0:00:00\u001b[0m\n",
            "\u001b[2K     \u001b[90m━━━━━━━━━━━━━━━━━━━━━━━━━━━━━━━━━━━━━━━━\u001b[0m \u001b[32m433.2/433.2 kB\u001b[0m \u001b[31m36.6 MB/s\u001b[0m eta \u001b[36m0:00:00\u001b[0m\n",
            "\u001b[2K     \u001b[90m━━━━━━━━━━━━━━━━━━━━━━━━━━━━━━━━━━━━━━━━\u001b[0m \u001b[32m109.3/109.3 kB\u001b[0m \u001b[31m12.9 MB/s\u001b[0m eta \u001b[36m0:00:00\u001b[0m\n",
            "\u001b[2K     \u001b[90m━━━━━━━━━━━━━━━━━━━━━━━━━━━━━━━━━━━━━━━━\u001b[0m \u001b[32m277.6/277.6 kB\u001b[0m \u001b[31m30.4 MB/s\u001b[0m eta \u001b[36m0:00:00\u001b[0m\n",
            "\u001b[2K     \u001b[90m━━━━━━━━━━━━━━━━━━━━━━━━━━━━━━━━━━━━━━━━\u001b[0m \u001b[32m2.8/2.8 MB\u001b[0m \u001b[31m54.8 MB/s\u001b[0m eta \u001b[36m0:00:00\u001b[0m\n",
            "\u001b[2K     \u001b[90m━━━━━━━━━━━━━━━━━━━━━━━━━━━━━━━━━━━━━━━━\u001b[0m \u001b[32m913.9/913.9 kB\u001b[0m \u001b[31m43.9 MB/s\u001b[0m eta \u001b[36m0:00:00\u001b[0m\n",
            "\u001b[?25h  Preparing metadata (setup.py) ... \u001b[?25l\u001b[?25hdone\n",
            "\u001b[2K     \u001b[90m━━━━━━━━━━━━━━━━━━━━━━━━━━━━━━━━━━━━━━━━\u001b[0m \u001b[32m1.6/1.6 MB\u001b[0m \u001b[31m58.5 MB/s\u001b[0m eta \u001b[36m0:00:00\u001b[0m\n",
            "\u001b[2K     \u001b[90m━━━━━━━━━━━━━━━━━━━━━━━━━━━━━━━━━━━━━━━━\u001b[0m \u001b[32m2.3/2.3 MB\u001b[0m \u001b[31m70.6 MB/s\u001b[0m eta \u001b[36m0:00:00\u001b[0m\n",
            "\u001b[2K     \u001b[90m━━━━━━━━━━━━━━━━━━━━━━━━━━━━━━━━━━━━━━━━\u001b[0m \u001b[32m1.6/1.6 MB\u001b[0m \u001b[31m60.8 MB/s\u001b[0m eta \u001b[36m0:00:00\u001b[0m\n",
            "\u001b[2K     \u001b[90m━━━━━━━━━━━━━━━━━━━━━━━━━━━━━━━━━━━━━━━━\u001b[0m \u001b[32m105.0/105.0 kB\u001b[0m \u001b[31m10.2 MB/s\u001b[0m eta \u001b[36m0:00:00\u001b[0m\n",
            "\u001b[2K     \u001b[90m━━━━━━━━━━━━━━━━━━━━━━━━━━━━━━━━━━━━━━━━\u001b[0m \u001b[32m46.2/46.2 kB\u001b[0m \u001b[31m5.4 MB/s\u001b[0m eta \u001b[36m0:00:00\u001b[0m\n",
            "\u001b[2K     \u001b[90m━━━━━━━━━━━━━━━━━━━━━━━━━━━━━━━━━━━━━━━━\u001b[0m \u001b[32m194.6/194.6 kB\u001b[0m \u001b[31m18.3 MB/s\u001b[0m eta \u001b[36m0:00:00\u001b[0m\n",
            "\u001b[2K     \u001b[90m━━━━━━━━━━━━━━━━━━━━━━━━━━━━━━━━━━━━━━━━\u001b[0m \u001b[32m58.1/58.1 kB\u001b[0m \u001b[31m4.9 MB/s\u001b[0m eta \u001b[36m0:00:00\u001b[0m\n",
            "\u001b[?25h  Building wheel for xhtml2pdf (setup.py) ... \u001b[?25l\u001b[?25hdone\n",
            "  Building wheel for svglib (setup.py) ... \u001b[?25l\u001b[?25hdone\n"
          ]
        }
      ],
      "source": [
        "%pip install -Uq upgini catboost"
      ]
    },
    {
      "cell_type": "markdown",
      "source": [
        "Prepare Input data\n"
      ],
      "metadata": {
        "id": "75djobYOWbIJ"
      }
    },
    {
      "cell_type": "code",
      "source": [
        "from os.path import exists\n",
        "import pandas as pd\n",
        "\n",
        "\n",
        "df_path=\"train.csv.zip\" if exists(\"train.csv.zip\") else \"https://github.com/upgini/upgini/raw/main/notebooks/train.csv.zip\"\n",
        "\n",
        "df=pd.read_csv(df_path)\n",
        "df = df.sample(n=19_000,random_state=0)\n",
        "\n",
        "df[\"store\"]=df[\"store\"].astype(str)\n",
        "df[\"item\"]=df[\"item\"].astype(str)\n",
        "\n",
        "df[\"date\"]=pd.to_datetime(df[\"date\"])\n",
        "\n",
        "df.sort_values(\"date\",inplace=True)\n",
        "\n",
        "df.reset_index(inplace=True, drop=True)\n",
        "\n",
        "df.head()\n",
        "\n"
      ],
      "metadata": {
        "colab": {
          "base_uri": "https://localhost:8080/",
          "height": 206
        },
        "id": "AuqyBBKbWc01",
        "outputId": "559d8bec-13b5-4ae8-a303-f40bbaa6754e"
      },
      "execution_count": 3,
      "outputs": [
        {
          "output_type": "execute_result",
          "data": {
            "text/plain": [
              "        date store item  sales\n",
              "0 2013-01-01     7    5      5\n",
              "1 2013-01-01     4    9     19\n",
              "2 2013-01-01     1   33     37\n",
              "3 2013-01-01     3   41     14\n",
              "4 2013-01-01     5   24     26"
            ],
            "text/html": [
              "\n",
              "  <div id=\"df-2d11d1cb-3aa8-4dd3-a60b-1761b15643eb\" class=\"colab-df-container\">\n",
              "    <div>\n",
              "<style scoped>\n",
              "    .dataframe tbody tr th:only-of-type {\n",
              "        vertical-align: middle;\n",
              "    }\n",
              "\n",
              "    .dataframe tbody tr th {\n",
              "        vertical-align: top;\n",
              "    }\n",
              "\n",
              "    .dataframe thead th {\n",
              "        text-align: right;\n",
              "    }\n",
              "</style>\n",
              "<table border=\"1\" class=\"dataframe\">\n",
              "  <thead>\n",
              "    <tr style=\"text-align: right;\">\n",
              "      <th></th>\n",
              "      <th>date</th>\n",
              "      <th>store</th>\n",
              "      <th>item</th>\n",
              "      <th>sales</th>\n",
              "    </tr>\n",
              "  </thead>\n",
              "  <tbody>\n",
              "    <tr>\n",
              "      <th>0</th>\n",
              "      <td>2013-01-01</td>\n",
              "      <td>7</td>\n",
              "      <td>5</td>\n",
              "      <td>5</td>\n",
              "    </tr>\n",
              "    <tr>\n",
              "      <th>1</th>\n",
              "      <td>2013-01-01</td>\n",
              "      <td>4</td>\n",
              "      <td>9</td>\n",
              "      <td>19</td>\n",
              "    </tr>\n",
              "    <tr>\n",
              "      <th>2</th>\n",
              "      <td>2013-01-01</td>\n",
              "      <td>1</td>\n",
              "      <td>33</td>\n",
              "      <td>37</td>\n",
              "    </tr>\n",
              "    <tr>\n",
              "      <th>3</th>\n",
              "      <td>2013-01-01</td>\n",
              "      <td>3</td>\n",
              "      <td>41</td>\n",
              "      <td>14</td>\n",
              "    </tr>\n",
              "    <tr>\n",
              "      <th>4</th>\n",
              "      <td>2013-01-01</td>\n",
              "      <td>5</td>\n",
              "      <td>24</td>\n",
              "      <td>26</td>\n",
              "    </tr>\n",
              "  </tbody>\n",
              "</table>\n",
              "</div>\n",
              "    <div class=\"colab-df-buttons\">\n",
              "\n",
              "  <div class=\"colab-df-container\">\n",
              "    <button class=\"colab-df-convert\" onclick=\"convertToInteractive('df-2d11d1cb-3aa8-4dd3-a60b-1761b15643eb')\"\n",
              "            title=\"Convert this dataframe to an interactive table.\"\n",
              "            style=\"display:none;\">\n",
              "\n",
              "  <svg xmlns=\"http://www.w3.org/2000/svg\" height=\"24px\" viewBox=\"0 -960 960 960\">\n",
              "    <path d=\"M120-120v-720h720v720H120Zm60-500h600v-160H180v160Zm220 220h160v-160H400v160Zm0 220h160v-160H400v160ZM180-400h160v-160H180v160Zm440 0h160v-160H620v160ZM180-180h160v-160H180v160Zm440 0h160v-160H620v160Z\"/>\n",
              "  </svg>\n",
              "    </button>\n",
              "\n",
              "  <style>\n",
              "    .colab-df-container {\n",
              "      display:flex;\n",
              "      gap: 12px;\n",
              "    }\n",
              "\n",
              "    .colab-df-convert {\n",
              "      background-color: #E8F0FE;\n",
              "      border: none;\n",
              "      border-radius: 50%;\n",
              "      cursor: pointer;\n",
              "      display: none;\n",
              "      fill: #1967D2;\n",
              "      height: 32px;\n",
              "      padding: 0 0 0 0;\n",
              "      width: 32px;\n",
              "    }\n",
              "\n",
              "    .colab-df-convert:hover {\n",
              "      background-color: #E2EBFA;\n",
              "      box-shadow: 0px 1px 2px rgba(60, 64, 67, 0.3), 0px 1px 3px 1px rgba(60, 64, 67, 0.15);\n",
              "      fill: #174EA6;\n",
              "    }\n",
              "\n",
              "    .colab-df-buttons div {\n",
              "      margin-bottom: 4px;\n",
              "    }\n",
              "\n",
              "    [theme=dark] .colab-df-convert {\n",
              "      background-color: #3B4455;\n",
              "      fill: #D2E3FC;\n",
              "    }\n",
              "\n",
              "    [theme=dark] .colab-df-convert:hover {\n",
              "      background-color: #434B5C;\n",
              "      box-shadow: 0px 1px 3px 1px rgba(0, 0, 0, 0.15);\n",
              "      filter: drop-shadow(0px 1px 2px rgba(0, 0, 0, 0.3));\n",
              "      fill: #FFFFFF;\n",
              "    }\n",
              "  </style>\n",
              "\n",
              "    <script>\n",
              "      const buttonEl =\n",
              "        document.querySelector('#df-2d11d1cb-3aa8-4dd3-a60b-1761b15643eb button.colab-df-convert');\n",
              "      buttonEl.style.display =\n",
              "        google.colab.kernel.accessAllowed ? 'block' : 'none';\n",
              "\n",
              "      async function convertToInteractive(key) {\n",
              "        const element = document.querySelector('#df-2d11d1cb-3aa8-4dd3-a60b-1761b15643eb');\n",
              "        const dataTable =\n",
              "          await google.colab.kernel.invokeFunction('convertToInteractive',\n",
              "                                                    [key], {});\n",
              "        if (!dataTable) return;\n",
              "\n",
              "        const docLinkHtml = 'Like what you see? Visit the ' +\n",
              "          '<a target=\"_blank\" href=https://colab.research.google.com/notebooks/data_table.ipynb>data table notebook</a>'\n",
              "          + ' to learn more about interactive tables.';\n",
              "        element.innerHTML = '';\n",
              "        dataTable['output_type'] = 'display_data';\n",
              "        await google.colab.output.renderOutput(dataTable, element);\n",
              "        const docLink = document.createElement('div');\n",
              "        docLink.innerHTML = docLinkHtml;\n",
              "        element.appendChild(docLink);\n",
              "      }\n",
              "    </script>\n",
              "  </div>\n",
              "\n",
              "\n",
              "<div id=\"df-84838f22-0eb9-4dae-ab3b-acbefb1d7bfc\">\n",
              "  <button class=\"colab-df-quickchart\" onclick=\"quickchart('df-84838f22-0eb9-4dae-ab3b-acbefb1d7bfc')\"\n",
              "            title=\"Suggest charts\"\n",
              "            style=\"display:none;\">\n",
              "\n",
              "<svg xmlns=\"http://www.w3.org/2000/svg\" height=\"24px\"viewBox=\"0 0 24 24\"\n",
              "     width=\"24px\">\n",
              "    <g>\n",
              "        <path d=\"M19 3H5c-1.1 0-2 .9-2 2v14c0 1.1.9 2 2 2h14c1.1 0 2-.9 2-2V5c0-1.1-.9-2-2-2zM9 17H7v-7h2v7zm4 0h-2V7h2v10zm4 0h-2v-4h2v4z\"/>\n",
              "    </g>\n",
              "</svg>\n",
              "  </button>\n",
              "\n",
              "<style>\n",
              "  .colab-df-quickchart {\n",
              "      --bg-color: #E8F0FE;\n",
              "      --fill-color: #1967D2;\n",
              "      --hover-bg-color: #E2EBFA;\n",
              "      --hover-fill-color: #174EA6;\n",
              "      --disabled-fill-color: #AAA;\n",
              "      --disabled-bg-color: #DDD;\n",
              "  }\n",
              "\n",
              "  [theme=dark] .colab-df-quickchart {\n",
              "      --bg-color: #3B4455;\n",
              "      --fill-color: #D2E3FC;\n",
              "      --hover-bg-color: #434B5C;\n",
              "      --hover-fill-color: #FFFFFF;\n",
              "      --disabled-bg-color: #3B4455;\n",
              "      --disabled-fill-color: #666;\n",
              "  }\n",
              "\n",
              "  .colab-df-quickchart {\n",
              "    background-color: var(--bg-color);\n",
              "    border: none;\n",
              "    border-radius: 50%;\n",
              "    cursor: pointer;\n",
              "    display: none;\n",
              "    fill: var(--fill-color);\n",
              "    height: 32px;\n",
              "    padding: 0;\n",
              "    width: 32px;\n",
              "  }\n",
              "\n",
              "  .colab-df-quickchart:hover {\n",
              "    background-color: var(--hover-bg-color);\n",
              "    box-shadow: 0 1px 2px rgba(60, 64, 67, 0.3), 0 1px 3px 1px rgba(60, 64, 67, 0.15);\n",
              "    fill: var(--button-hover-fill-color);\n",
              "  }\n",
              "\n",
              "  .colab-df-quickchart-complete:disabled,\n",
              "  .colab-df-quickchart-complete:disabled:hover {\n",
              "    background-color: var(--disabled-bg-color);\n",
              "    fill: var(--disabled-fill-color);\n",
              "    box-shadow: none;\n",
              "  }\n",
              "\n",
              "  .colab-df-spinner {\n",
              "    border: 2px solid var(--fill-color);\n",
              "    border-color: transparent;\n",
              "    border-bottom-color: var(--fill-color);\n",
              "    animation:\n",
              "      spin 1s steps(1) infinite;\n",
              "  }\n",
              "\n",
              "  @keyframes spin {\n",
              "    0% {\n",
              "      border-color: transparent;\n",
              "      border-bottom-color: var(--fill-color);\n",
              "      border-left-color: var(--fill-color);\n",
              "    }\n",
              "    20% {\n",
              "      border-color: transparent;\n",
              "      border-left-color: var(--fill-color);\n",
              "      border-top-color: var(--fill-color);\n",
              "    }\n",
              "    30% {\n",
              "      border-color: transparent;\n",
              "      border-left-color: var(--fill-color);\n",
              "      border-top-color: var(--fill-color);\n",
              "      border-right-color: var(--fill-color);\n",
              "    }\n",
              "    40% {\n",
              "      border-color: transparent;\n",
              "      border-right-color: var(--fill-color);\n",
              "      border-top-color: var(--fill-color);\n",
              "    }\n",
              "    60% {\n",
              "      border-color: transparent;\n",
              "      border-right-color: var(--fill-color);\n",
              "    }\n",
              "    80% {\n",
              "      border-color: transparent;\n",
              "      border-right-color: var(--fill-color);\n",
              "      border-bottom-color: var(--fill-color);\n",
              "    }\n",
              "    90% {\n",
              "      border-color: transparent;\n",
              "      border-bottom-color: var(--fill-color);\n",
              "    }\n",
              "  }\n",
              "</style>\n",
              "\n",
              "  <script>\n",
              "    async function quickchart(key) {\n",
              "      const quickchartButtonEl =\n",
              "        document.querySelector('#' + key + ' button');\n",
              "      quickchartButtonEl.disabled = true;  // To prevent multiple clicks.\n",
              "      quickchartButtonEl.classList.add('colab-df-spinner');\n",
              "      try {\n",
              "        const charts = await google.colab.kernel.invokeFunction(\n",
              "            'suggestCharts', [key], {});\n",
              "      } catch (error) {\n",
              "        console.error('Error during call to suggestCharts:', error);\n",
              "      }\n",
              "      quickchartButtonEl.classList.remove('colab-df-spinner');\n",
              "      quickchartButtonEl.classList.add('colab-df-quickchart-complete');\n",
              "    }\n",
              "    (() => {\n",
              "      let quickchartButtonEl =\n",
              "        document.querySelector('#df-84838f22-0eb9-4dae-ab3b-acbefb1d7bfc button');\n",
              "      quickchartButtonEl.style.display =\n",
              "        google.colab.kernel.accessAllowed ? 'block' : 'none';\n",
              "    })();\n",
              "  </script>\n",
              "</div>\n",
              "    </div>\n",
              "  </div>\n"
            ]
          },
          "metadata": {},
          "execution_count": 3
        }
      ]
    },
    {
      "cell_type": "code",
      "source": [
        "train=df[df[\"date\"] <\"2017-01-01\"]\n",
        "test=df[df[\"date\"] >=\"2017-01-01\"]\n"
      ],
      "metadata": {
        "id": "PxX-MbyGxVqo"
      },
      "execution_count": 4,
      "outputs": []
    },
    {
      "cell_type": "code",
      "source": [
        "train_features=train.drop(columns=[\"sales\"])\n",
        "train_target=train[\"sales\"]\n",
        "test_features=train.drop(columns=[\"sales\"])\n",
        "test_target=train[\"sales\"]"
      ],
      "metadata": {
        "id": "r7BGLO-RxzYP"
      },
      "execution_count": 5,
      "outputs": []
    },
    {
      "cell_type": "markdown",
      "source": [
        "Enrich Data\n"
      ],
      "metadata": {
        "id": "heSJ_Ou6y1Zz"
      }
    },
    {
      "cell_type": "code",
      "source": [
        "from upgini import FeaturesEnricher,SearchKey\n",
        "from upgini.metadata import CVType\n",
        "\n",
        "enricher = FeaturesEnricher(\n",
        "    search_keys={\n",
        "        \"date\":SearchKey.DATE,\n",
        "    },\n",
        "    cv=CVType.time_series\n",
        ")\n",
        "enricher.fit(train_features,\n",
        "             train_target,\n",
        "             eval_set=[(test_features,test_target)]\n",
        "             )"
      ],
      "metadata": {
        "colab": {
          "base_uri": "https://localhost:8080/",
          "height": 1000
        },
        "id": "iUzc3VCrysez",
        "outputId": "18397f68-ca90-4fb6-f497-92d89cf3aef7"
      },
      "execution_count": 6,
      "outputs": [
        {
          "data": {
            "text/html": [
              "<progress style='width:60ex' max='100' value='50'></progress>  50% Automated feature engineering...</br>Approximately 0:01:56 remaining"
            ],
            "text/plain": [
              "[==============================                              ] 50% Automated feature engineering..."
            ]
          },
          "metadata": {},
          "output_type": "display_data"
        },
        {
          "data": {
            "application/javascript": [
              "\n",
              "                        window.visitorId = import('https://openfpcdn.io/fingerprintjs/v3')\n",
              "                            .then(FingerprintJS => FingerprintJS.load())\n",
              "                            .then(fp => fp.get())\n",
              "                            .then(result => result.visitorId);\n",
              "                    "
            ],
            "text/plain": [
              "<IPython.core.display.Javascript object>"
            ]
          },
          "metadata": {},
          "output_type": "display_data"
        },
        {
          "data": {
            "application/javascript": [
              "\n",
              "                        window.visitorId = import('https://openfpcdn.io/fingerprintjs/v3')\n",
              "                            .then(FingerprintJS => FingerprintJS.load())\n",
              "                            .then(fp => fp.get())\n",
              "                            .then(result => result.visitorId);\n",
              "                    "
            ],
            "text/plain": [
              "<IPython.core.display.Javascript object>"
            ]
          },
          "metadata": {},
          "output_type": "display_data"
        },
        {
          "data": {
            "application/javascript": [
              "\n",
              "                        window.visitorId = import('https://openfpcdn.io/fingerprintjs/v3')\n",
              "                            .then(FingerprintJS => FingerprintJS.load())\n",
              "                            .then(fp => fp.get())\n",
              "                            .then(result => result.visitorId);\n",
              "                    "
            ],
            "text/plain": [
              "<IPython.core.display.Javascript object>"
            ]
          },
          "metadata": {},
          "output_type": "display_data"
        },
        {
          "data": {
            "application/javascript": [
              "\n",
              "                        window.visitorId = import('https://openfpcdn.io/fingerprintjs/v3')\n",
              "                            .then(FingerprintJS => FingerprintJS.load())\n",
              "                            .then(fp => fp.get())\n",
              "                            .then(result => result.visitorId);\n",
              "                    "
            ],
            "text/plain": [
              "<IPython.core.display.Javascript object>"
            ]
          },
          "metadata": {},
          "output_type": "display_data"
        },
        {
          "data": {
            "application/javascript": [
              "\n",
              "                        window.visitorId = import('https://openfpcdn.io/fingerprintjs/v3')\n",
              "                            .then(FingerprintJS => FingerprintJS.load())\n",
              "                            .then(fp => fp.get())\n",
              "                            .then(result => result.visitorId);\n",
              "                    "
            ],
            "text/plain": [
              "<IPython.core.display.Javascript object>"
            ]
          },
          "metadata": {},
          "output_type": "display_data"
        },
        {
          "data": {
            "application/javascript": [
              "\n",
              "                        window.visitorId = import('https://openfpcdn.io/fingerprintjs/v3')\n",
              "                            .then(FingerprintJS => FingerprintJS.load())\n",
              "                            .then(fp => fp.get())\n",
              "                            .then(result => result.visitorId);\n",
              "                    "
            ],
            "text/plain": [
              "<IPython.core.display.Javascript object>"
            ]
          },
          "metadata": {},
          "output_type": "display_data"
        },
        {
          "metadata": {
            "tags": null
          },
          "name": "stdout",
          "output_type": "stream",
          "text": [
            "\n",
            "WARNING: Search started with DATE search key only\n",
            "Try to add other keys like the COUNTRY, POSTAL_CODE, PHONE NUMBER, EMAIL/HEM, IPv4 to your training dataset\n",
            "for search through all the available data sources.\n",
            "See docs https://github.com/upgini/upgini#-total-239-countries-and-up-to-41-years-of-history\n"
          ]
        },
        {
          "data": {
            "application/javascript": [
              "\n",
              "                        window.visitorId = import('https://openfpcdn.io/fingerprintjs/v3')\n",
              "                            .then(FingerprintJS => FingerprintJS.load())\n",
              "                            .then(fp => fp.get())\n",
              "                            .then(result => result.visitorId);\n",
              "                    "
            ],
            "text/plain": [
              "<IPython.core.display.Javascript object>"
            ]
          },
          "metadata": {},
          "output_type": "display_data"
        },
        {
          "data": {
            "application/javascript": [
              "\n",
              "                        window.visitorId = import('https://openfpcdn.io/fingerprintjs/v3')\n",
              "                            .then(FingerprintJS => FingerprintJS.load())\n",
              "                            .then(fp => fp.get())\n",
              "                            .then(result => result.visitorId);\n",
              "                    "
            ],
            "text/plain": [
              "<IPython.core.display.Javascript object>"
            ]
          },
          "metadata": {},
          "output_type": "display_data"
        },
        {
          "metadata": {
            "tags": null
          },
          "name": "stdout",
          "output_type": "stream",
          "text": [
            "Detected task type: ModelTaskType.REGRESSION\n",
            "\n"
          ]
        },
        {
          "data": {
            "application/javascript": [
              "\n",
              "                        window.visitorId = import('https://openfpcdn.io/fingerprintjs/v3')\n",
              "                            .then(FingerprintJS => FingerprintJS.load())\n",
              "                            .then(fp => fp.get())\n",
              "                            .then(result => result.visitorId);\n",
              "                    "
            ],
            "text/plain": [
              "<IPython.core.display.Javascript object>"
            ]
          },
          "metadata": {},
          "output_type": "display_data"
        },
        {
          "data": {
            "application/javascript": [
              "\n",
              "                        window.visitorId = import('https://openfpcdn.io/fingerprintjs/v3')\n",
              "                            .then(FingerprintJS => FingerprintJS.load())\n",
              "                            .then(fp => fp.get())\n",
              "                            .then(result => result.visitorId);\n",
              "                    "
            ],
            "text/plain": [
              "<IPython.core.display.Javascript object>"
            ]
          },
          "metadata": {},
          "output_type": "display_data"
        },
        {
          "data": {
            "application/javascript": [
              "\n",
              "                        window.visitorId = import('https://openfpcdn.io/fingerprintjs/v3')\n",
              "                            .then(FingerprintJS => FingerprintJS.load())\n",
              "                            .then(fp => fp.get())\n",
              "                            .then(result => result.visitorId);\n",
              "                    "
            ],
            "text/plain": [
              "<IPython.core.display.Javascript object>"
            ]
          },
          "metadata": {},
          "output_type": "display_data"
        },
        {
          "data": {
            "application/javascript": [
              "\n",
              "                        window.visitorId = import('https://openfpcdn.io/fingerprintjs/v3')\n",
              "                            .then(FingerprintJS => FingerprintJS.load())\n",
              "                            .then(fp => fp.get())\n",
              "                            .then(result => result.visitorId);\n",
              "                    "
            ],
            "text/plain": [
              "<IPython.core.display.Javascript object>"
            ]
          },
          "metadata": {},
          "output_type": "display_data"
        },
        {
          "data": {
            "application/javascript": [
              "\n",
              "                        window.visitorId = import('https://openfpcdn.io/fingerprintjs/v3')\n",
              "                            .then(FingerprintJS => FingerprintJS.load())\n",
              "                            .then(fp => fp.get())\n",
              "                            .then(result => result.visitorId);\n",
              "                    "
            ],
            "text/plain": [
              "<IPython.core.display.Javascript object>"
            ]
          },
          "metadata": {},
          "output_type": "display_data"
        },
        {
          "data": {
            "text/html": [
              "<table><tr><th style='font-weight:bold'>Column name</th><th style='font-weight:bold'>Status</th><th style='font-weight:bold'>Errors</th></tr><tr><td>target</td><td style='background-color:#DAF7A6;color:black'>All valid</td><td>-</td></tr><tr><td>date</td><td style='background-color:#DAF7A6;color:black'>All valid</td><td>-</td></tr></table>"
            ],
            "text/plain": [
              "<IPython.core.display.HTML object>"
            ]
          },
          "metadata": {},
          "output_type": "display_data"
        },
        {
          "data": {
            "application/javascript": [
              "\n",
              "                        window.visitorId = import('https://openfpcdn.io/fingerprintjs/v3')\n",
              "                            .then(FingerprintJS => FingerprintJS.load())\n",
              "                            .then(fp => fp.get())\n",
              "                            .then(result => result.visitorId);\n",
              "                    "
            ],
            "text/plain": [
              "<IPython.core.display.Javascript object>"
            ]
          },
          "metadata": {},
          "output_type": "display_data"
        },
        {
          "data": {
            "application/javascript": [
              "\n",
              "                        window.visitorId = import('https://openfpcdn.io/fingerprintjs/v3')\n",
              "                            .then(FingerprintJS => FingerprintJS.load())\n",
              "                            .then(fp => fp.get())\n",
              "                            .then(result => result.visitorId);\n",
              "                    "
            ],
            "text/plain": [
              "<IPython.core.display.Javascript object>"
            ]
          },
          "metadata": {},
          "output_type": "display_data"
        },
        {
          "data": {
            "application/javascript": [
              "\n",
              "                            window.clientIP = fetch(\"https://api.ipify.org\")\n",
              "                                .then(response => response.text())\n",
              "                                .then(data => data);\n",
              "                        "
            ],
            "text/plain": [
              "<IPython.core.display.Javascript object>"
            ]
          },
          "metadata": {},
          "output_type": "display_data"
        },
        {
          "data": {
            "application/javascript": [
              "\n",
              "                            window.clientIP = fetch(\"https://api.ipify.org\")\n",
              "                                .then(response => response.text())\n",
              "                                .then(data => data);\n",
              "                        "
            ],
            "text/plain": [
              "<IPython.core.display.Javascript object>"
            ]
          },
          "metadata": {},
          "output_type": "display_data"
        },
        {
          "data": {
            "application/javascript": [
              "\n",
              "                            window.clientIP = fetch(\"https://api.ipify.org\")\n",
              "                                .then(response => response.text())\n",
              "                                .then(data => data);\n",
              "                        "
            ],
            "text/plain": [
              "<IPython.core.display.Javascript object>"
            ]
          },
          "metadata": {},
          "output_type": "display_data"
        },
        {
          "data": {
            "application/javascript": [
              "\n",
              "                            window.clientIP = fetch(\"https://api.ipify.org\")\n",
              "                                .then(response => response.text())\n",
              "                                .then(data => data);\n",
              "                        "
            ],
            "text/plain": [
              "<IPython.core.display.Javascript object>"
            ]
          },
          "metadata": {},
          "output_type": "display_data"
        },
        {
          "data": {
            "application/javascript": [
              "\n",
              "                            window.clientIP = fetch(\"https://api.ipify.org\")\n",
              "                                .then(response => response.text())\n",
              "                                .then(data => data);\n",
              "                        "
            ],
            "text/plain": [
              "<IPython.core.display.Javascript object>"
            ]
          },
          "metadata": {},
          "output_type": "display_data"
        },
        {
          "data": {
            "application/javascript": [
              "\n",
              "                            window.clientIP = fetch(\"https://api.ipify.org\")\n",
              "                                .then(response => response.text())\n",
              "                                .then(data => data);\n",
              "                        "
            ],
            "text/plain": [
              "<IPython.core.display.Javascript object>"
            ]
          },
          "metadata": {},
          "output_type": "display_data"
        },
        {
          "data": {
            "application/javascript": [
              "\n",
              "                            window.clientIP = fetch(\"https://api.ipify.org\")\n",
              "                                .then(response => response.text())\n",
              "                                .then(data => data);\n",
              "                        "
            ],
            "text/plain": [
              "<IPython.core.display.Javascript object>"
            ]
          },
          "metadata": {},
          "output_type": "display_data"
        },
        {
          "data": {
            "application/javascript": [
              "\n",
              "                            window.clientIP = fetch(\"https://api.ipify.org\")\n",
              "                                .then(response => response.text())\n",
              "                                .then(data => data);\n",
              "                        "
            ],
            "text/plain": [
              "<IPython.core.display.Javascript object>"
            ]
          },
          "metadata": {},
          "output_type": "display_data"
        },
        {
          "data": {
            "application/javascript": [
              "\n",
              "                            window.clientIP = fetch(\"https://api.ipify.org\")\n",
              "                                .then(response => response.text())\n",
              "                                .then(data => data);\n",
              "                        "
            ],
            "text/plain": [
              "<IPython.core.display.Javascript object>"
            ]
          },
          "metadata": {},
          "output_type": "display_data"
        },
        {
          "data": {
            "application/javascript": [
              "\n",
              "                            window.clientIP = fetch(\"https://api.ipify.org\")\n",
              "                                .then(response => response.text())\n",
              "                                .then(data => data);\n",
              "                        "
            ],
            "text/plain": [
              "<IPython.core.display.Javascript object>"
            ]
          },
          "metadata": {},
          "output_type": "display_data"
        },
        {
          "data": {
            "application/javascript": [
              "\n",
              "                            window.clientIP = fetch(\"https://api.ipify.org\")\n",
              "                                .then(response => response.text())\n",
              "                                .then(data => data);\n",
              "                        "
            ],
            "text/plain": [
              "<IPython.core.display.Javascript object>"
            ]
          },
          "metadata": {},
          "output_type": "display_data"
        },
        {
          "data": {
            "application/javascript": [
              "\n",
              "                            window.clientIP = fetch(\"https://api.ipify.org\")\n",
              "                                .then(response => response.text())\n",
              "                                .then(data => data);\n",
              "                        "
            ],
            "text/plain": [
              "<IPython.core.display.Javascript object>"
            ]
          },
          "metadata": {},
          "output_type": "display_data"
        },
        {
          "data": {
            "application/javascript": [
              "\n",
              "                            window.clientIP = fetch(\"https://api.ipify.org\")\n",
              "                                .then(response => response.text())\n",
              "                                .then(data => data);\n",
              "                        "
            ],
            "text/plain": [
              "<IPython.core.display.Javascript object>"
            ]
          },
          "metadata": {},
          "output_type": "display_data"
        },
        {
          "data": {
            "application/javascript": [
              "\n",
              "                            window.clientIP = fetch(\"https://api.ipify.org\")\n",
              "                                .then(response => response.text())\n",
              "                                .then(data => data);\n",
              "                        "
            ],
            "text/plain": [
              "<IPython.core.display.Javascript object>"
            ]
          },
          "metadata": {},
          "output_type": "display_data"
        },
        {
          "data": {
            "application/javascript": [
              "\n",
              "                            window.clientIP = fetch(\"https://api.ipify.org\")\n",
              "                                .then(response => response.text())\n",
              "                                .then(data => data);\n",
              "                        "
            ],
            "text/plain": [
              "<IPython.core.display.Javascript object>"
            ]
          },
          "metadata": {},
          "output_type": "display_data"
        },
        {
          "metadata": {
            "tags": null
          },
          "name": "stdout",
          "output_type": "stream",
          "text": [
            "\n",
            "Running search request, search_id=9d0880aa-d841-47b6-88d3-b10fb0a0bcde\n",
            "We'll send email notification once it's completed, just use your personal api_key from profile.upgini.com\n"
          ]
        },
        {
          "output_type": "display_data",
          "data": {
            "text/plain": [
              "[============================================================] 100% Finished"
            ],
            "text/html": [
              "<progress style='width:60ex' max='100' value='100'></progress>  100% Finished</br>"
            ]
          },
          "metadata": {}
        },
        {
          "output_type": "stream",
          "name": "stdout",
          "text": [
            "\n",
            "\u001b[92m\u001b[1m\n",
            "44 relevant feature(s) found with the search keys: ['date']\u001b[0m\n"
          ]
        },
        {
          "output_type": "display_data",
          "data": {
            "text/plain": [
              "<IPython.core.display.HTML object>"
            ],
            "text/html": [
              "<style>\n",
              "            .upgini-df thead th {\n",
              "                font-weight:bold;\n",
              "                text-align: center;\n",
              "                padding: 0.5em;\n",
              "                border-bottom: 2px solid black;\n",
              "            }\n",
              "\n",
              "            .upgini-df tbody td {\n",
              "                padding: 0.5em;\n",
              "            }\n",
              "\n",
              "            .upgini-df tbody tr:nth-child(odd) {\n",
              "                background-color: #ffffff;\n",
              "            }\n",
              "\n",
              "            .upgini-df tbody tr:nth-child(even) {\n",
              "                background-color: #f2f2f2;\n",
              "            }\n",
              "\n",
              "            .upgini-text {\n",
              "                text-align: left;\n",
              "            }\n",
              "\n",
              "            .upgini-number {\n",
              "                text-align: center;\n",
              "            }\n",
              "        </style>\n",
              "        <h2>Relevant features</h2>\n",
              "        <div style=\"display:flex; flex-direction:column; align-items:flex-end; width: fit-content;\">\n",
              "            <div style=\"text-align: right\">\n",
              "                <button onclick=navigator.clipboard.writeText(decodeURI('Feature%20name%09SHAP%20value%09Coverage%20%25%09Value%20preview%09Provider%09Source%09Feature%20type%0Af_autofe_max_936%090.0563%09100.0%090.7041,%201.0,%200.947%09Upgini%09AutoFE%3A%20features%20from%20%3Ca%20href%3D%27https%3A%2F%2Fupgini.com%2F%23data_sources%27%20target%3D%27_blank%27%20rel%3D%27noopener%20noreferrer%27%3ECalendar%20data%3C%2Fa%3E%09Free%0Af_autofe_min_256%090.0543%09100.0%09-0.1501,%20-0.9416,%20-0.728%09Upgini%09AutoFE%3A%20features%20from%20%3Ca%20href%3D%27https%3A%2F%2Fupgini.com%2F%23data_sources%27%20target%3D%27_blank%27%20rel%3D%27noopener%20noreferrer%27%3ECalendar%20data%3C%2Fa%3E%09Free%0Af_autofe_max_969%090.0211%09100.0%090.9668,%200.9093,%200.5271%09Upgini%09AutoFE%3A%20features%20from%20%3Ca%20href%3D%27https%3A%2F%2Fupgini.com%2F%23data_sources%27%20target%3D%27_blank%27%20rel%3D%27noopener%20noreferrer%27%3ECalendar%20data%3C%2Fa%3E%09Free%0Af_autofe_max_902%090.0168%09100.0%090.8438,%20-0.0257,%200.9821%09Upgini%09AutoFE%3A%20features%20from%20%3Ca%20href%3D%27https%3A%2F%2Fupgini.com%2F%23data_sources%27%20target%3D%27_blank%27%20rel%3D%27noopener%20noreferrer%27%3ECalendar%20data%3C%2Fa%3E%09Free%0Af_weather_date_weather_umap_34_c3ef5b4f%090.0167%09100.0%095.1858,%205.2667,%204.8001%09Upgini%09Weather%20%26%20climate%20normals%20data%09Premium%0Af_autofe_max_1021%090.0059%09100.0%090.112,%200.055,%200.56%09Upgini%09AutoFE%3A%20features%20from%20%3Ca%20href%3D%27https%3A%2F%2Fupgini.com%2F%23data_sources%27%20target%3D%27_blank%27%20rel%3D%27noopener%20noreferrer%27%3ECalendar%20data%3C%2Fa%3E,%3Ca%20href%3D%27https%3A%2F%2Fupgini.com%2F%23data_sources%27%20target%3D%27_blank%27%20rel%3D%27noopener%20noreferrer%27%3EMarkets%20data%3C%2Fa%3E%09Free%0Af_autofe_min_276%090.0053%09100.0%09-0.734,%200.072,%20-0.044%09Upgini%09AutoFE%3A%20features%20from%20%3Ca%20href%3D%27https%3A%2F%2Fupgini.com%2F%23data_sources%27%20target%3D%27_blank%27%20rel%3D%27noopener%20noreferrer%27%3ECalendar%20data%3C%2Fa%3E,%3Ca%20href%3D%27https%3A%2F%2Fupgini.com%2F%23data_sources%27%20target%3D%27_blank%27%20rel%3D%27noopener%20noreferrer%27%3EMarkets%20data%3C%2Fa%3E%09Free%0Af_autofe_div_1703%090.0043%09100.0%09-0.0087,%20-0.0189,%20-0.0239%09Upgini%09AutoFE%3A%20features%20from%20%3Ca%20href%3D%27https%3A%2F%2Fupgini.com%2F%23data_sources%27%20target%3D%27_blank%27%20rel%3D%27noopener%20noreferrer%27%3ECalendar%20data%3C%2Fa%3E,%3Ca%20href%3D%27https%3A%2F%2Fupgini.com%2F%23data_sources%27%20target%3D%27_blank%27%20rel%3D%27noopener%20noreferrer%27%3EMarkets%20data%3C%2Fa%3E%09Free%0Af_autofe_div_1743%090.0031%09100.0%09-0.9589,%20-0.8993,%20-0.6612%09Upgini%09AutoFE%3A%20features%20from%20%3Ca%20href%3D%27https%3A%2F%2Fupgini.com%2F%23data_sources%27%20target%3D%27_blank%27%20rel%3D%27noopener%20noreferrer%27%3ECalendar%20data%3C%2Fa%3E,%3Ca%20href%3D%27https%3A%2F%2Fupgini.com%2F%23data_sources%27%20target%3D%27_blank%27%20rel%3D%27noopener%20noreferrer%27%3EMarkets%20data%3C%2Fa%3E%09Free%0Af_events_date_year_cos1_9014a856%090.0027%09100.0%09-0.8945,%200.2261,%200.0429%09Upgini%09Calendar%20data%09Free%0Af_autofe_min_262%090.002%09100.0%09-0.2967,%20-0.9995,%200.6472%09Upgini%09AutoFE%3A%20features%20from%20%3Ca%20href%3D%27https%3A%2F%2Fupgini.com%2F%23data_sources%27%20target%3D%27_blank%27%20rel%3D%27noopener%20noreferrer%27%3ECalendar%20data%3C%2Fa%3E%09Free%0Af_autofe_div_1741%090.0017%09100.0%090.0001,%200.016,%20-0.0094%09Upgini%09AutoFE%3A%20features%20from%20%3Ca%20href%3D%27https%3A%2F%2Fupgini.com%2F%23data_sources%27%20target%3D%27_blank%27%20rel%3D%27noopener%20noreferrer%27%3ECalendar%20data%3C%2Fa%3E,%3Ca%20href%3D%27https%3A%2F%2Fupgini.com%2F%23data_sources%27%20target%3D%27_blank%27%20rel%3D%27noopener%20noreferrer%27%3EMarkets%20data%3C%2Fa%3E%09Free%0Af_autofe_max_903%090.0016%09100.0%09-0.6839,%20-0.2129,%20-0.4083%09Upgini%09AutoFE%3A%20features%20from%20%3Ca%20href%3D%27https%3A%2F%2Fupgini.com%2F%23data_sources%27%20target%3D%27_blank%27%20rel%3D%27noopener%20noreferrer%27%3ECalendar%20data%3C%2Fa%3E%09Free%0Af_autofe_min_294%090.0015%09100.0%09-0.9537,%20-0.8014,%20-0.1031%09Upgini%09AutoFE%3A%20features%20from%20%3Ca%20href%3D%27https%3A%2F%2Fupgini.com%2F%23data_sources%27%20target%3D%27_blank%27%20rel%3D%27noopener%20noreferrer%27%3ECalendar%20data%3C%2Fa%3E%09Free%0Af_autofe_max_942%090.0011%09100.0%09-0.81,%20-0.4925,%20-0.4015%09Upgini%09AutoFE%3A%20features%20from%20%3Ca%20href%3D%27https%3A%2F%2Fupgini.com%2F%23data_sources%27%20target%3D%27_blank%27%20rel%3D%27noopener%20noreferrer%27%3ECalendar%20data%3C%2Fa%3E%09Free%0Af_autofe_min_283%090.0009%09100.0%090.14,%20-2.39,%20-0.28%09Upgini%09AutoFE%3A%20features%20from%20%3Ca%20href%3D%27https%3A%2F%2Fupgini.com%2F%23data_sources%27%20target%3D%27_blank%27%20rel%3D%27noopener%20noreferrer%27%3ECalendar%20data%3C%2Fa%3E,%3Ca%20href%3D%27https%3A%2F%2Fupgini.com%2F%23data_sources%27%20target%3D%27_blank%27%20rel%3D%27noopener%20noreferrer%27%3EMarkets%20data%3C%2Fa%3E%09Free%0Af_autofe_div_1665%090.0008%09100.0%090.7478,%200.615,%20-0.1835%09Upgini%09AutoFE%3A%20features%20from%20%3Ca%20href%3D%27https%3A%2F%2Fupgini.com%2F%23data_sources%27%20target%3D%27_blank%27%20rel%3D%27noopener%20noreferrer%27%3ECalendar%20data%3C%2Fa%3E,%3Ca%20href%3D%27https%3A%2F%2Fupgini.com%2F%23data_sources%27%20target%3D%27_blank%27%20rel%3D%27noopener%20noreferrer%27%3EMarkets%20data%3C%2Fa%3E%09Free%0Af_weather_date_weather_umap_7_6ef8b038%090.0008%09100.0%093.2331,%203.2147,%205.4996%09Upgini%09Weather%20%26%20climate%20normals%20data%09Premium%0Af_autofe_max_970%090.0008%09100.0%090.815,%20-0.6918,%20-0.5488%09Upgini%09AutoFE%3A%20features%20from%20%3Ca%20href%3D%27https%3A%2F%2Fupgini.com%2F%23data_sources%27%20target%3D%27_blank%27%20rel%3D%27noopener%20noreferrer%27%3ECalendar%20data%3C%2Fa%3E%09Free%0Af_autofe_min_223%090.0007%09100.0%090.9976,%20-0.7667,%20-0.8738%09Upgini%09AutoFE%3A%20features%20from%20%3Ca%20href%3D%27https%3A%2F%2Fupgini.com%2F%23data_sources%27%20target%3D%27_blank%27%20rel%3D%27noopener%20noreferrer%27%3ECalendar%20data%3C%2Fa%3E%09Free%0Af_autofe_max_1161%090.0007%09100.0%091.1178,%200.6869,%201.446%09Upgini%09AutoFE%3A%20features%20from%20%3Ca%20href%3D%27https%3A%2F%2Fupgini.com%2F%23data_sources%27%20target%3D%27_blank%27%20rel%3D%27noopener%20noreferrer%27%3ECalendar%20data%3C%2Fa%3E,%3Ca%20href%3D%27https%3A%2F%2Fupgini.com%2F%23data_sources%27%20target%3D%27_blank%27%20rel%3D%27noopener%20noreferrer%27%3EMarkets%20data%3C%2Fa%3E%09Free%0Af_autofe_max_933%090.0006%09100.0%090.6864,%200.9001,%201.0283%09Upgini%09AutoFE%3A%20features%20from%20%3Ca%20href%3D%27https%3A%2F%2Fupgini.com%2F%23data_sources%27%20target%3D%27_blank%27%20rel%3D%27noopener%20noreferrer%27%3ECalendar%20data%3C%2Fa%3E,%3Ca%20href%3D%27https%3A%2F%2Fupgini.com%2F%23data_sources%27%20target%3D%27_blank%27%20rel%3D%27noopener%20noreferrer%27%3EMarkets%20data%3C%2Fa%3E%09Free%0Af_autofe_min_569%090.0006%09100.0%090.9061,%200.8586,%200.9891%09Upgini%09AutoFE%3A%20features%20from%20%3Ca%20href%3D%27https%3A%2F%2Fupgini.com%2F%23data_sources%27%20target%3D%27_blank%27%20rel%3D%27noopener%20noreferrer%27%3EMarkets%20data%3C%2Fa%3E%09Free%0Af_autofe_div_2383%090.0006%09100.0%090.0026,%200.0035,%200.0037%09Upgini%09AutoFE%3A%20features%20from%20%3Ca%20href%3D%27https%3A%2F%2Fupgini.com%2F%23data_sources%27%20target%3D%27_blank%27%20rel%3D%27noopener%20noreferrer%27%3EMarkets%20data%3C%2Fa%3E%09Free%0Af_autofe_max_935%090.0006%09100.0%09-0.2225,%20-0.2225,%200.6235%09Upgini%09AutoFE%3A%20features%20from%20%3Ca%20href%3D%27https%3A%2F%2Fupgini.com%2F%23data_sources%27%20target%3D%27_blank%27%20rel%3D%27noopener%20noreferrer%27%3ECalendar%20data%3C%2Fa%3E%09Free%0Af_autofe_min_188%090.0006%09100.0%09-0.7818,%200.6235,%200.6235%09Upgini%09AutoFE%3A%20features%20from%20%3Ca%20href%3D%27https%3A%2F%2Fupgini.com%2F%23data_sources%27%20target%3D%27_blank%27%20rel%3D%27noopener%20noreferrer%27%3ECalendar%20data%3C%2Fa%3E%09Free%0Af_autofe_min_576%090.0005%09100.0%090.8346,%200.7518,%200.5915%09Upgini%09AutoFE%3A%20features%20from%20%3Ca%20href%3D%27https%3A%2F%2Fupgini.com%2F%23data_sources%27%20target%3D%27_blank%27%20rel%3D%27noopener%20noreferrer%27%3EMarkets%20data%3C%2Fa%3E%09Free%0Af_financial_date_usd_eur_7d_to_1y_autofe_residual_181%090.0004%09100.0%090.0162,%200.0179,%200.0044%09Upgini%09AutoFE%3A%20feature%20from%20%3Ca%20href%3D%27https%3A%2F%2Fupgini.com%2F%23data_sources%27%20target%3D%27_blank%27%20rel%3D%27noopener%20noreferrer%27%3EMarkets%20data%3C%2Fa%3E%09Free%0Af_autofe_min_293%090.0004%09100.0%09-0.9163,%20-0.7776,%20-0.6187%09Upgini%09AutoFE%3A%20features%20from%20%3Ca%20href%3D%27https%3A%2F%2Fupgini.com%2F%23data_sources%27%20target%3D%27_blank%27%20rel%3D%27noopener%20noreferrer%27%3ECalendar%20data%3C%2Fa%3E%09Free%0Af_financial_date_stoxx_043cbcd4%090.0004%09100.0%09349.71,%20305.34,%20376.55%09Upgini%09Markets%20data%09Free%0Af_autofe_div_2211%090.0003%09100.0%091.1282,%200.9983,%201.1326%09Upgini%09AutoFE%3A%20features%20from%20%3Ca%20href%3D%27https%3A%2F%2Fupgini.com%2F%23data_sources%27%20target%3D%27_blank%27%20rel%3D%27noopener%20noreferrer%27%3EMarkets%20data%3C%2Fa%3E%09Free%0Af_weather_date_weather_umap_39_8df8c9ed%090.0002%09100.0%094.8831,%204.9749,%204.8078%09Upgini%09Weather%20%26%20climate%20normals%20data%09Premium%0Af_economic_date_cbpol_pca_9_bde660b4%090.0002%09100.0%09-2.2763,%20-1.7158,%20-1.9628%09Upgini%09World%20economic%20indicators%09Free%0Af_autofe_div_2210%090.0002%09100.0%091.0846,%201.1269,%201.123%09Upgini%09AutoFE%3A%20features%20from%20%3Ca%20href%3D%27https%3A%2F%2Fupgini.com%2F%23data_sources%27%20target%3D%27_blank%27%20rel%3D%27noopener%20noreferrer%27%3EMarkets%20data%3C%2Fa%3E%09Free%0Af_autofe_max_1007%090.0002%09100.0%090.4317,%200.9993,%200.8827%09Upgini%09AutoFE%3A%20features%20from%20%3Ca%20href%3D%27https%3A%2F%2Fupgini.com%2F%23data_sources%27%20target%3D%27_blank%27%20rel%3D%27noopener%20noreferrer%27%3ECalendar%20data%3C%2Fa%3E%09Free%0Af_autofe_div_2136%090.0002%09100.0%090.0035,%200.0029,%200.0026%09Upgini%09AutoFE%3A%20features%20from%20%3Ca%20href%3D%27https%3A%2F%2Fupgini.com%2F%23data_sources%27%20target%3D%27_blank%27%20rel%3D%27noopener%20noreferrer%27%3EMarkets%20data%3C%2Fa%3E%09Free%0Af_autofe_max_1470%090.0002%09100.0%091.2432,%200.941,%201.6786%09Upgini%09AutoFE%3A%20features%20from%20%3Ca%20href%3D%27https%3A%2F%2Fupgini.com%2F%23data_sources%27%20target%3D%27_blank%27%20rel%3D%27noopener%20noreferrer%27%3EMarkets%20data%3C%2Fa%3E%09Free%0Af_autofe_div_2400%090.0002%09100.0%09338.4034,%20297.5733,%20355.8264%09Upgini%09AutoFE%3A%20features%20from%20%3Ca%20href%3D%27https%3A%2F%2Fupgini.com%2F%23data_sources%27%20target%3D%27_blank%27%20rel%3D%27noopener%20noreferrer%27%3EMarkets%20data%3C%2Fa%3E%09Free%0Af_financial_date_finance_umap_2_a414df3b%090.0002%09100.0%093.3722,%204.236,%206.9632%09Upgini%09Markets%20data%09Free%0Af_economic_date_cbpol_pca_0_ef0bbff4%090.0001%09100.0%090.6352,%200.2754,%20-0.2381%09Upgini%09World%20economic%20indicators%09Free%0Af_autofe_min_322%090.0001%09100.0%09-0.3447,%200.4975,%20-0.2345%09Upgini%09AutoFE%3A%20features%20from%20%3Ca%20href%3D%27https%3A%2F%2Fupgini.com%2F%23data_sources%27%20target%3D%27_blank%27%20rel%3D%27noopener%20noreferrer%27%3ECalendar%20data%3C%2Fa%3E%09Free%0Af_autofe_div_2072%090.0001%09100.0%091.0039,%200.944,%200.8197%09Upgini%09AutoFE%3A%20features%20from%20%3Ca%20href%3D%27https%3A%2F%2Fupgini.com%2F%23data_sources%27%20target%3D%27_blank%27%20rel%3D%27noopener%20noreferrer%27%3EMarkets%20data%3C%2Fa%3E%09Free%0Af_autofe_max_974%090.0001%09100.0%090.7296,%20-0.6085,%200.9995%09Upgini%09AutoFE%3A%20features%20from%20%3Ca%20href%3D%27https%3A%2F%2Fupgini.com%2F%23data_sources%27%20target%3D%27_blank%27%20rel%3D%27noopener%20noreferrer%27%3ECalendar%20data%3C%2Fa%3E%09Free%0Af_weather_date_weather_pca_3_006924ed%090.0001%09100.0%09-4.9063,%20-0.2457,%203.9166%09Upgini%09Weather%20%26%20climate%20normals%20data%09Premium%0A'))>📂 Copy</button>\n",
              "                <a href='mailto:<Share with...>?subject=Relevant external data sources from Upgini.com&body=Feature%20name%09SHAP%20value%09Coverage%20%25%09Value%20preview%09Provider%09Source%09Feature%20type%0Af_autofe_max_936%090.0563%09100.0%090.7041,%201.0,%200.947%09Upgini%09AutoFE%3A%20features%20from%20%3Ca%20href%3D%27https%3A%2F%2Fupgini.com%2F%23data_sources%27%20target%3D%27_blank%27%20rel%3D%27noopener%20noreferrer%27%3ECalendar%20data%3C%2Fa%3E%09Free%0Af_autofe_min_256%090.0543%09100.0%09-0.1501,%20-0.9416,%20-0.728%09Upgini%09AutoFE%3A%20features%20from%20%3Ca%20href%3D%27https%3A%2F%2Fupgini.com%2F%23data_sources%27%20target%3D%27_blank%27%20rel%3D%27noopener%20noreferrer%27%3ECalendar%20data%3C%2Fa%3E%09Free%0Af_autofe_max_969%090.0211%09100.0%090.9668,%200.9093,%200.5271%09Upgini%09AutoFE%3A%20features%20from%20%3Ca%20href%3D%27https%3A%2F%2Fupgini.com%2F%23data_sources%27%20target%3D%27_blank%27%20rel%3D%27noopener%20noreferrer%27%3ECalendar%20data%3C%2Fa%3E%09Free%0Af_autofe_max_902%090.0168%09100.0%090.8438,%20-0.0257,%200.9821%09Upgini%09AutoFE%3A%20features%20from%20%3Ca%20href%3D%27https%3A%2F%2Fupgini.com%2F%23data_sources%27%20target%3D%27_blank%27%20rel%3D%27noopener%20noreferrer%27%3ECalendar%20data%3C%2Fa%3E%09Free%0Af_weather_date_weather_umap_34_c3ef5b4f%090.0167%09100.0%095.1858,%205.2667,%204.8001%09Upgini%09Weather%20%26%20climate%20normals%20data%09Premium%0Af_autofe_max_1021%090.0059%09100.0%090.112,%200.055,%200.56%09Upgini%09AutoFE%3A%20features%20from%20%3Ca%20href%3D%27https%3A%2F%2Fupgini.com%2F%23data_sources%27%20target%3D%27_blank%27%20rel%3D%27noopener%20noreferrer%27%3ECalendar%20data%3C%2Fa%3E,%3Ca%20href%3D%27https%3A%2F%2Fupgini.com%2F%23data_sources%27%20target%3D%27_blank%27%20rel%3D%27noopener%20noreferrer%27%3EMarkets%20data%3C%2Fa%3E%09Free%0Af_autofe_min_276%090.0053%09100.0%09-0.734,%200.072,%20-0.044%09Upgini%09AutoFE%3A%20features%20from%20%3Ca%20href%3D%27https%3A%2F%2Fupgini.com%2F%23data_sources%27%20target%3D%27_blank%27%20rel%3D%27noopener%20noreferrer%27%3ECalendar%20data%3C%2Fa%3E,%3Ca%20href%3D%27https%3A%2F%2Fupgini.com%2F%23data_sources%27%20target%3D%27_blank%27%20rel%3D%27noopener%20noreferrer%27%3EMarkets%20data%3C%2Fa%3E%09Free%0Af_autofe_div_1703%090.0043%09100.0%09-0.0087,%20-0.0189,%20-0.0239%09Upgini%09AutoFE%3A%20features%20from%20%3Ca%20href%3D%27https%3A%2F%2Fupgini.com%2F%23data_sources%27%20target%3D%27_blank%27%20rel%3D%27noopener%20noreferrer%27%3ECalendar%20data%3C%2Fa%3E,%3Ca%20href%3D%27https%3A%2F%2Fupgini.com%2F%23data_sources%27%20target%3D%27_blank%27%20rel%3D%27noopener%20noreferrer%27%3EMarkets%20data%3C%2Fa%3E%09Free%0Af_autofe_div_1743%090.0031%09100.0%09-0.9589,%20-0.8993,%20-0.6612%09Upgini%09AutoFE%3A%20features%20from%20%3Ca%20href%3D%27https%3A%2F%2Fupgini.com%2F%23data_sources%27%20target%3D%27_blank%27%20rel%3D%27noopener%20noreferrer%27%3ECalendar%20data%3C%2Fa%3E,%3Ca%20href%3D%27https%3A%2F%2Fupgini.com%2F%23data_sources%27%20target%3D%27_blank%27%20rel%3D%27noopener%20noreferrer%27%3EMarkets%20data%3C%2Fa%3E%09Free%0Af_events_date_year_cos1_9014a856%090.0027%09100.0%09-0.8945,%200.2261,%200.0429%09Upgini%09Calendar%20data%09Free%0Af_autofe_min_262%090.002%09100.0%09-0.2967,%20-0.9995,%200.6472%09Upgini%09AutoFE%3A%20features%20from%20%3Ca%20href%3D%27https%3A%2F%2Fupgini.com%2F%23data_sources%27%20target%3D%27_blank%27%20rel%3D%27noopener%20noreferrer%27%3ECalendar%20data%3C%2Fa%3E%09Free%0Af_autofe_div_1741%090.0017%09100.0%090.0001,%200.016,%20-0.0094%09Upgini%09AutoFE%3A%20features%20from%20%3Ca%20href%3D%27https%3A%2F%2Fupgini.com%2F%23data_sources%27%20target%3D%27_blank%27%20rel%3D%27noopener%20noreferrer%27%3ECalendar%20data%3C%2Fa%3E,%3Ca%20href%3D%27https%3A%2F%2Fupgini.com%2F%23data_sources%27%20target%3D%27_blank%27%20rel%3D%27noopener%20noreferrer%27%3EMarkets%20data%3C%2Fa%3E%09Free%0Af_autofe_max_903%090.0016%09100.0%09-0.6839,%20-0.2129,%20-0.4083%09Upgini%09AutoFE%3A%20features%20from%20%3Ca%20href%3D%27https%3A%2F%2Fupgini.com%2F%23data_sources%27%20target%3D%27_blank%27%20rel%3D%27noopener%20noreferrer%27%3ECalendar%20data%3C%2Fa%3E%09Free%0Af_autofe_min_294%090.0015%09100.0%09-0.9537,%20-0.8014,%20-0.1031%09Upgini%09AutoFE%3A%20features%20from%20%3Ca%20href%3D%27https%3A%2F%2Fupgini.com%2F%23data_sources%27%20target%3D%27_blank%27%20rel%3D%27noopener%20noreferrer%27%3ECalendar%20data%3C%2Fa%3E%09Free%0Af_autofe_max_942%090.0011%09100.0%09-0.81,%20-0.4925,%20-0.4015%09Upgini%09AutoFE%3A%20features%20from%20%3Ca%20href%3D%27https%3A%2F%2Fupgini.com%2F%23data_sources%27%20target%3D%27_blank%27%20rel%3D%27noopener%20noreferrer%27%3ECalendar%20data%3C%2Fa%3E%09Free%0Af_autofe_min_283%090.0009%09100.0%090.14,%20-2.39,%20-0.28%09Upgini%09AutoFE%3A%20features%20from%20%3Ca%20href%3D%27https%3A%2F%2Fupgini.com%2F%23data_sources%27%20target%3D%27_blank%27%20rel%3D%27noopener%20noreferrer%27%3ECalendar%20data%3C%2Fa%3E,%3Ca%20href%3D%27https%3A%2F%2Fupgini.com%2F%23data_sources%27%20target%3D%27_blank%27%20rel%3D%27noopener%20noreferrer%27%3EMarkets%20data%3C%2Fa%3E%09Free%0Af_autofe_div_1665%090.0008%09100.0%090.7478,%200.615,%20-0.1835%09Upgini%09AutoFE%3A%20features%20from%20%3Ca%20href%3D%27https%3A%2F%2Fupgini.com%2F%23data_sources%27%20target%3D%27_blank%27%20rel%3D%27noopener%20noreferrer%27%3ECalendar%20data%3C%2Fa%3E,%3Ca%20href%3D%27https%3A%2F%2Fupgini.com%2F%23data_sources%27%20target%3D%27_blank%27%20rel%3D%27noopener%20noreferrer%27%3EMarkets%20data%3C%2Fa%3E%09Free%0Af_weather_date_weather_umap_7_6ef8b038%090.0008%09100.0%093.2331,%203.2147,%205.4996%09Upgini%09Weather%20%26%20climate%20normals%20data%09Premium%0Af_autofe_max_970%090.0008%09100.0%090.815,%20-0.6918,%20-0.5488%09Upgini%09AutoFE%3A%20features%20from%20%3Ca%20href%3D%27https%3A%2F%2Fupgini.com%2F%23data_sources%27%20target%3D%27_blank%27%20rel%3D%27noopener%20noreferrer%27%3ECalendar%20data%3C%2Fa%3E%09Free%0Af_autofe_min_223%090.0007%09100.0%090.9976,%20-0.7667,%20-0.8738%09Upgini%09AutoFE%3A%20features%20from%20%3Ca%20href%3D%27https%3A%2F%2Fupgini.com%2F%23data_sources%27%20target%3D%27_blank%27%20rel%3D%27noopener%20noreferrer%27%3ECalendar%20data%3C%2Fa%3E%09Free%0Af_autofe_max_1161%090.0007%09100.0%091.1178,%200.6869,%201.446%09Upgini%09AutoFE%3A%20features%20from%20%3Ca%20href%3D%27https%3A%2F%2Fupgini.com%2F%23data_sources%27%20target%3D%27_blank%27%20rel%3D%27noopener%20noreferrer%27%3ECalendar%20data%3C%2Fa%3E,%3Ca%20href%3D%27https%3A%2F%2Fupgini.com%2F%23data_sources%27%20target%3D%27_blank%27%20rel%3D%27noopener%20noreferrer%27%3EMarkets%20data%3C%2Fa%3E%09Free%0Af_autofe_max_933%090.0006%09100.0%090.6864,%200.9001,%201.0283%09Upgini%09AutoFE%3A%20features%20from%20%3Ca%20href%3D%27https%3A%2F%2Fupgini.com%2F%23data_sources%27%20target%3D%27_blank%27%20rel%3D%27noopener%20noreferrer%27%3ECalendar%20data%3C%2Fa%3E,%3Ca%20href%3D%27https%3A%2F%2Fupgini.com%2F%23data_sources%27%20target%3D%27_blank%27%20rel%3D%27noopener%20noreferrer%27%3EMarkets%20data%3C%2Fa%3E%09Free%0Af_autofe_min_569%090.0006%09100.0%090.9061,%200.8586,%200.9891%09Upgini%09AutoFE%3A%20features%20from%20%3Ca%20href%3D%27https%3A%2F%2Fupgini.com%2F%23data_sources%27%20target%3D%27_blank%27%20rel%3D%27noopener%20noreferrer%27%3EMarkets%20data%3C%2Fa%3E%09Free%0Af_autofe_div_2383%090.0006%09100.0%090.0026,%200.0035,%200.0037%09Upgini%09AutoFE%3A%20features%20from%20%3Ca%20href%3D%27https%3A%2F%2Fupgini.com%2F%23data_sources%27%20target%3D%27_blank%27%20rel%3D%27noopener%20noreferrer%27%3EMarkets%20data%3C%2Fa%3E%09Free%0Af_autofe_max_935%090.0006%09100.0%09-0.2225,%20-0.2225,%200.6235%09Upgini%09AutoFE%3A%20features%20from%20%3Ca%20href%3D%27https%3A%2F%2Fupgini.com%2F%23data_sources%27%20target%3D%27_blank%27%20rel%3D%27noopener%20noreferrer%27%3ECalendar%20data%3C%2Fa%3E%09Free%0Af_autofe_min_188%090.0006%09100.0%09-0.7818,%200.6235,%200.6235%09Upgini%09AutoFE%3A%20features%20from%20%3Ca%20href%3D%27https%3A%2F%2Fupgini.com%2F%23data_sources%27%20target%3D%27_blank%27%20rel%3D%27noopener%20noreferrer%27%3ECalendar%20data%3C%2Fa%3E%09Free%0Af_autofe_min_576%090.0005%09100.0%090.8346,%200.7518,%200.5915%09Upgini%09AutoFE%3A%20features%20from%20%3Ca%20href%3D%27https%3A%2F%2Fupgini.com%2F%23data_sources%27%20target%3D%27_blank%27%20rel%3D%27noopener%20noreferrer%27%3EMarkets%20data%3C%2Fa%3E%09Free%0Af_financial_date_usd_eur_7d_to_1y_autofe_residual_181%090.0004%09100.0%090.0162,%200.0179,%200.0044%09Upgini%09AutoFE%3A%20feature%20from%20%3Ca%20href%3D%27https%3A%2F%2Fupgini.com%2F%23data_sources%27%20target%3D%27_blank%27%20rel%3D%27noopener%20noreferrer%27%3EMarkets%20data%3C%2Fa%3E%09Free%0Af_autofe_min_293%090.0004%09100.0%09-0.9163,%20-0.7776,%20-0.6187%09Upgini%09AutoFE%3A%20features%20from%20%3Ca%20href%3D%27https%3A%2F%2Fupgini.com%2F%23data_sources%27%20target%3D%27_blank%27%20rel%3D%27noopener%20noreferrer%27%3ECalendar%20data%3C%2Fa%3E%09Free%0Af_financial_date_stoxx_043cbcd4%090.0004%09100.0%09349.71,%20305.34,%20376.55%09Upgini%09Markets%20data%09Free%0Af_autofe_div_2211%090.0003%09100.0%091.1282,%200.9983,%201.1326%09Upgini%09AutoFE%3A%20features%20from%20%3Ca%20href%3D%27https%3A%2F%2Fupgini.com%2F%23data_sources%27%20target%3D%27_blank%27%20rel%3D%27noopener%20noreferrer%27%3EMarkets%20data%3C%2Fa%3E%09Free%0Af_weather_date_weather_umap_39_8df8c9ed%090.0002%09100.0%094.8831,%204.9749,%204.8078%09Upgini%09Weather%20%26%20climate%20normals%20data%09Premium%0Af_economic_date_cbpol_pca_9_bde660b4%090.0002%09100.0%09-2.2763,%20-1.7158,%20-1.9628%09Upgini%09World%20economic%20indicators%09Free%0Af_autofe_div_2210%090.0002%09100.0%091.0846,%201.1269,%201.123%09Upgini%09AutoFE%3A%20features%20from%20%3Ca%20href%3D%27https%3A%2F%2Fupgini.com%2F%23data_sources%27%20target%3D%27_blank%27%20rel%3D%27noopener%20noreferrer%27%3EMarkets%20data%3C%2Fa%3E%09Free%0Af_autofe_max_1007%090.0002%09100.0%090.4317,%200.9993,%200.8827%09Upgini%09AutoFE%3A%20features%20from%20%3Ca%20href%3D%27https%3A%2F%2Fupgini.com%2F%23data_sources%27%20target%3D%27_blank%27%20rel%3D%27noopener%20noreferrer%27%3ECalendar%20data%3C%2Fa%3E%09Free%0Af_autofe_div_2136%090.0002%09100.0%090.0035,%200.0029,%200.0026%09Upgini%09AutoFE%3A%20features%20from%20%3Ca%20href%3D%27https%3A%2F%2Fupgini.com%2F%23data_sources%27%20target%3D%27_blank%27%20rel%3D%27noopener%20noreferrer%27%3EMarkets%20data%3C%2Fa%3E%09Free%0Af_autofe_max_1470%090.0002%09100.0%091.2432,%200.941,%201.6786%09Upgini%09AutoFE%3A%20features%20from%20%3Ca%20href%3D%27https%3A%2F%2Fupgini.com%2F%23data_sources%27%20target%3D%27_blank%27%20rel%3D%27noopener%20noreferrer%27%3EMarkets%20data%3C%2Fa%3E%09Free%0Af_autofe_div_2400%090.0002%09100.0%09338.4034,%20297.5733,%20355.8264%09Upgini%09AutoFE%3A%20features%20from%20%3Ca%20href%3D%27https%3A%2F%2Fupgini.com%2F%23data_sources%27%20target%3D%27_blank%27%20rel%3D%27noopener%20noreferrer%27%3EMarkets%20data%3C%2Fa%3E%09Free%0Af_financial_date_finance_umap_2_a414df3b%090.0002%09100.0%093.3722,%204.236,%206.9632%09Upgini%09Markets%20data%09Free%0Af_economic_date_cbpol_pca_0_ef0bbff4%090.0001%09100.0%090.6352,%200.2754,%20-0.2381%09Upgini%09World%20economic%20indicators%09Free%0Af_autofe_min_322%090.0001%09100.0%09-0.3447,%200.4975,%20-0.2345%09Upgini%09AutoFE%3A%20features%20from%20%3Ca%20href%3D%27https%3A%2F%2Fupgini.com%2F%23data_sources%27%20target%3D%27_blank%27%20rel%3D%27noopener%20noreferrer%27%3ECalendar%20data%3C%2Fa%3E%09Free%0Af_autofe_div_2072%090.0001%09100.0%091.0039,%200.944,%200.8197%09Upgini%09AutoFE%3A%20features%20from%20%3Ca%20href%3D%27https%3A%2F%2Fupgini.com%2F%23data_sources%27%20target%3D%27_blank%27%20rel%3D%27noopener%20noreferrer%27%3EMarkets%20data%3C%2Fa%3E%09Free%0Af_autofe_max_974%090.0001%09100.0%090.7296,%20-0.6085,%200.9995%09Upgini%09AutoFE%3A%20features%20from%20%3Ca%20href%3D%27https%3A%2F%2Fupgini.com%2F%23data_sources%27%20target%3D%27_blank%27%20rel%3D%27noopener%20noreferrer%27%3ECalendar%20data%3C%2Fa%3E%09Free%0Af_weather_date_weather_pca_3_006924ed%090.0001%09100.0%09-4.9063,%20-0.2457,%203.9166%09Upgini%09Weather%20%26%20climate%20normals%20data%09Premium%0A'>\n",
              "                    <button>📨 Share</button>\n",
              "                </a>\n",
              "            </div>\n",
              "            <table class='upgini-df'><thead><th>Feature name</th><th>SHAP value</th><th>Coverage %</th><th>Value preview</th><th>Provider</th><th>Source</th><th>Feature type</th></thead><tbody><tr><td class='upgini-text'>f_autofe_max_936</td><td class='upgini-number'>0.0563</td><td class='upgini-number'>100.0000</td><td class='upgini-text'>0.7041, 1.0, 0.947</td><td class='upgini-text'><a href='https://upgini.com' target='_blank' rel='noopener noreferrer'>Upgini</a></td><td class='upgini-text'>AutoFE: features from <a href='https://upgini.com/#data_sources' target='_blank' rel='noopener noreferrer'>Calendar data</a></td><td class='upgini-text'>Free</td></tr><tr><td class='upgini-text'>f_autofe_min_256</td><td class='upgini-number'>0.0543</td><td class='upgini-number'>100.0000</td><td class='upgini-text'>-0.1501, -0.9416, -0.728</td><td class='upgini-text'><a href='https://upgini.com' target='_blank' rel='noopener noreferrer'>Upgini</a></td><td class='upgini-text'>AutoFE: features from <a href='https://upgini.com/#data_sources' target='_blank' rel='noopener noreferrer'>Calendar data</a></td><td class='upgini-text'>Free</td></tr><tr><td class='upgini-text'>f_autofe_max_969</td><td class='upgini-number'>0.0211</td><td class='upgini-number'>100.0000</td><td class='upgini-text'>0.9668, 0.9093, 0.5271</td><td class='upgini-text'><a href='https://upgini.com' target='_blank' rel='noopener noreferrer'>Upgini</a></td><td class='upgini-text'>AutoFE: features from <a href='https://upgini.com/#data_sources' target='_blank' rel='noopener noreferrer'>Calendar data</a></td><td class='upgini-text'>Free</td></tr><tr><td class='upgini-text'>f_autofe_max_902</td><td class='upgini-number'>0.0168</td><td class='upgini-number'>100.0000</td><td class='upgini-text'>0.8438, -0.0257, 0.9821</td><td class='upgini-text'><a href='https://upgini.com' target='_blank' rel='noopener noreferrer'>Upgini</a></td><td class='upgini-text'>AutoFE: features from <a href='https://upgini.com/#data_sources' target='_blank' rel='noopener noreferrer'>Calendar data</a></td><td class='upgini-text'>Free</td></tr><tr><td class='upgini-text'><a href='https://docs.upgini.com/public/weather/weather_umap#f_weather_date_weather_umap_34_c3ef5b4f' target='_blank' rel='noopener noreferrer'>f_weather_date_weather_umap_34_c3ef5b4f</a></td><td class='upgini-number'>0.0167</td><td class='upgini-number'>100.0000</td><td class='upgini-text'>5.1858, 5.2667, 4.8001</td><td class='upgini-text'><a href='https://upgini.com' target='_blank' rel='noopener noreferrer'>Upgini</a></td><td class='upgini-text'><a href='https://upgini.com/#data_sources' target='_blank' rel='noopener noreferrer'>Weather & climate normals data</a></td><td class='upgini-text'>Premium</td></tr><tr><td class='upgini-text'>f_autofe_max_1021</td><td class='upgini-number'>0.0059</td><td class='upgini-number'>100.0000</td><td class='upgini-text'>0.112, 0.055, 0.56</td><td class='upgini-text'><a href='https://upgini.com' target='_blank' rel='noopener noreferrer'>Upgini</a></td><td class='upgini-text'>AutoFE: features from <a href='https://upgini.com/#data_sources' target='_blank' rel='noopener noreferrer'>Calendar data</a>,<a href='https://upgini.com/#data_sources' target='_blank' rel='noopener noreferrer'>Markets data</a></td><td class='upgini-text'>Free</td></tr><tr><td class='upgini-text'>f_autofe_min_276</td><td class='upgini-number'>0.0053</td><td class='upgini-number'>100.0000</td><td class='upgini-text'>-0.734, 0.072, -0.044</td><td class='upgini-text'><a href='https://upgini.com' target='_blank' rel='noopener noreferrer'>Upgini</a></td><td class='upgini-text'>AutoFE: features from <a href='https://upgini.com/#data_sources' target='_blank' rel='noopener noreferrer'>Calendar data</a>,<a href='https://upgini.com/#data_sources' target='_blank' rel='noopener noreferrer'>Markets data</a></td><td class='upgini-text'>Free</td></tr><tr><td class='upgini-text'>f_autofe_div_1703</td><td class='upgini-number'>0.0043</td><td class='upgini-number'>100.0000</td><td class='upgini-text'>-0.0087, -0.0189, -0.0239</td><td class='upgini-text'><a href='https://upgini.com' target='_blank' rel='noopener noreferrer'>Upgini</a></td><td class='upgini-text'>AutoFE: features from <a href='https://upgini.com/#data_sources' target='_blank' rel='noopener noreferrer'>Calendar data</a>,<a href='https://upgini.com/#data_sources' target='_blank' rel='noopener noreferrer'>Markets data</a></td><td class='upgini-text'>Free</td></tr><tr><td class='upgini-text'>f_autofe_div_1743</td><td class='upgini-number'>0.0031</td><td class='upgini-number'>100.0000</td><td class='upgini-text'>-0.9589, -0.8993, -0.6612</td><td class='upgini-text'><a href='https://upgini.com' target='_blank' rel='noopener noreferrer'>Upgini</a></td><td class='upgini-text'>AutoFE: features from <a href='https://upgini.com/#data_sources' target='_blank' rel='noopener noreferrer'>Calendar data</a>,<a href='https://upgini.com/#data_sources' target='_blank' rel='noopener noreferrer'>Markets data</a></td><td class='upgini-text'>Free</td></tr><tr><td class='upgini-text'><a href='https://docs.upgini.com/public/calendar/calendar#f_events_date_year_cos1_9014a856' target='_blank' rel='noopener noreferrer'>f_events_date_year_cos1_9014a856</a></td><td class='upgini-number'>0.0027</td><td class='upgini-number'>100.0000</td><td class='upgini-text'>-0.8945, 0.2261, 0.0429</td><td class='upgini-text'><a href='https://upgini.com' target='_blank' rel='noopener noreferrer'>Upgini</a></td><td class='upgini-text'><a href='https://upgini.com/#data_sources' target='_blank' rel='noopener noreferrer'>Calendar data</a></td><td class='upgini-text'>Free</td></tr><tr><td class='upgini-text'>f_autofe_min_262</td><td class='upgini-number'>0.0020</td><td class='upgini-number'>100.0000</td><td class='upgini-text'>-0.2967, -0.9995, 0.6472</td><td class='upgini-text'><a href='https://upgini.com' target='_blank' rel='noopener noreferrer'>Upgini</a></td><td class='upgini-text'>AutoFE: features from <a href='https://upgini.com/#data_sources' target='_blank' rel='noopener noreferrer'>Calendar data</a></td><td class='upgini-text'>Free</td></tr><tr><td class='upgini-text'>f_autofe_div_1741</td><td class='upgini-number'>0.0017</td><td class='upgini-number'>100.0000</td><td class='upgini-text'>0.0001, 0.016, -0.0094</td><td class='upgini-text'><a href='https://upgini.com' target='_blank' rel='noopener noreferrer'>Upgini</a></td><td class='upgini-text'>AutoFE: features from <a href='https://upgini.com/#data_sources' target='_blank' rel='noopener noreferrer'>Calendar data</a>,<a href='https://upgini.com/#data_sources' target='_blank' rel='noopener noreferrer'>Markets data</a></td><td class='upgini-text'>Free</td></tr><tr><td class='upgini-text'>f_autofe_max_903</td><td class='upgini-number'>0.0016</td><td class='upgini-number'>100.0000</td><td class='upgini-text'>-0.6839, -0.2129, -0.4083</td><td class='upgini-text'><a href='https://upgini.com' target='_blank' rel='noopener noreferrer'>Upgini</a></td><td class='upgini-text'>AutoFE: features from <a href='https://upgini.com/#data_sources' target='_blank' rel='noopener noreferrer'>Calendar data</a></td><td class='upgini-text'>Free</td></tr><tr><td class='upgini-text'>f_autofe_min_294</td><td class='upgini-number'>0.0015</td><td class='upgini-number'>100.0000</td><td class='upgini-text'>-0.9537, -0.8014, -0.1031</td><td class='upgini-text'><a href='https://upgini.com' target='_blank' rel='noopener noreferrer'>Upgini</a></td><td class='upgini-text'>AutoFE: features from <a href='https://upgini.com/#data_sources' target='_blank' rel='noopener noreferrer'>Calendar data</a></td><td class='upgini-text'>Free</td></tr><tr><td class='upgini-text'>f_autofe_max_942</td><td class='upgini-number'>0.0011</td><td class='upgini-number'>100.0000</td><td class='upgini-text'>-0.81, -0.4925, -0.4015</td><td class='upgini-text'><a href='https://upgini.com' target='_blank' rel='noopener noreferrer'>Upgini</a></td><td class='upgini-text'>AutoFE: features from <a href='https://upgini.com/#data_sources' target='_blank' rel='noopener noreferrer'>Calendar data</a></td><td class='upgini-text'>Free</td></tr><tr><td class='upgini-text'>f_autofe_min_283</td><td class='upgini-number'>0.0009</td><td class='upgini-number'>100.0000</td><td class='upgini-text'>0.14, -2.39, -0.28</td><td class='upgini-text'><a href='https://upgini.com' target='_blank' rel='noopener noreferrer'>Upgini</a></td><td class='upgini-text'>AutoFE: features from <a href='https://upgini.com/#data_sources' target='_blank' rel='noopener noreferrer'>Calendar data</a>,<a href='https://upgini.com/#data_sources' target='_blank' rel='noopener noreferrer'>Markets data</a></td><td class='upgini-text'>Free</td></tr><tr><td class='upgini-text'>f_autofe_div_1665</td><td class='upgini-number'>0.0008</td><td class='upgini-number'>100.0000</td><td class='upgini-text'>0.7478, 0.615, -0.1835</td><td class='upgini-text'><a href='https://upgini.com' target='_blank' rel='noopener noreferrer'>Upgini</a></td><td class='upgini-text'>AutoFE: features from <a href='https://upgini.com/#data_sources' target='_blank' rel='noopener noreferrer'>Calendar data</a>,<a href='https://upgini.com/#data_sources' target='_blank' rel='noopener noreferrer'>Markets data</a></td><td class='upgini-text'>Free</td></tr><tr><td class='upgini-text'><a href='https://docs.upgini.com/public/weather/weather_umap#f_weather_date_weather_umap_7_6ef8b038' target='_blank' rel='noopener noreferrer'>f_weather_date_weather_umap_7_6ef8b038</a></td><td class='upgini-number'>0.0008</td><td class='upgini-number'>100.0000</td><td class='upgini-text'>3.2331, 3.2147, 5.4996</td><td class='upgini-text'><a href='https://upgini.com' target='_blank' rel='noopener noreferrer'>Upgini</a></td><td class='upgini-text'><a href='https://upgini.com/#data_sources' target='_blank' rel='noopener noreferrer'>Weather & climate normals data</a></td><td class='upgini-text'>Premium</td></tr><tr><td class='upgini-text'>f_autofe_max_970</td><td class='upgini-number'>0.0008</td><td class='upgini-number'>100.0000</td><td class='upgini-text'>0.815, -0.6918, -0.5488</td><td class='upgini-text'><a href='https://upgini.com' target='_blank' rel='noopener noreferrer'>Upgini</a></td><td class='upgini-text'>AutoFE: features from <a href='https://upgini.com/#data_sources' target='_blank' rel='noopener noreferrer'>Calendar data</a></td><td class='upgini-text'>Free</td></tr><tr><td class='upgini-text'>f_autofe_min_223</td><td class='upgini-number'>0.0007</td><td class='upgini-number'>100.0000</td><td class='upgini-text'>0.9976, -0.7667, -0.8738</td><td class='upgini-text'><a href='https://upgini.com' target='_blank' rel='noopener noreferrer'>Upgini</a></td><td class='upgini-text'>AutoFE: features from <a href='https://upgini.com/#data_sources' target='_blank' rel='noopener noreferrer'>Calendar data</a></td><td class='upgini-text'>Free</td></tr><tr><td class='upgini-text'>f_autofe_max_1161</td><td class='upgini-number'>0.0007</td><td class='upgini-number'>100.0000</td><td class='upgini-text'>1.1178, 0.6869, 1.446</td><td class='upgini-text'><a href='https://upgini.com' target='_blank' rel='noopener noreferrer'>Upgini</a></td><td class='upgini-text'>AutoFE: features from <a href='https://upgini.com/#data_sources' target='_blank' rel='noopener noreferrer'>Calendar data</a>,<a href='https://upgini.com/#data_sources' target='_blank' rel='noopener noreferrer'>Markets data</a></td><td class='upgini-text'>Free</td></tr><tr><td class='upgini-text'>f_autofe_max_933</td><td class='upgini-number'>0.0006</td><td class='upgini-number'>100.0000</td><td class='upgini-text'>0.6864, 0.9001, 1.0283</td><td class='upgini-text'><a href='https://upgini.com' target='_blank' rel='noopener noreferrer'>Upgini</a></td><td class='upgini-text'>AutoFE: features from <a href='https://upgini.com/#data_sources' target='_blank' rel='noopener noreferrer'>Calendar data</a>,<a href='https://upgini.com/#data_sources' target='_blank' rel='noopener noreferrer'>Markets data</a></td><td class='upgini-text'>Free</td></tr><tr><td class='upgini-text'>f_autofe_min_569</td><td class='upgini-number'>0.0006</td><td class='upgini-number'>100.0000</td><td class='upgini-text'>0.9061, 0.8586, 0.9891</td><td class='upgini-text'><a href='https://upgini.com' target='_blank' rel='noopener noreferrer'>Upgini</a></td><td class='upgini-text'>AutoFE: features from <a href='https://upgini.com/#data_sources' target='_blank' rel='noopener noreferrer'>Markets data</a></td><td class='upgini-text'>Free</td></tr><tr><td class='upgini-text'>f_autofe_div_2383</td><td class='upgini-number'>0.0006</td><td class='upgini-number'>100.0000</td><td class='upgini-text'>0.0026, 0.0035, 0.0037</td><td class='upgini-text'><a href='https://upgini.com' target='_blank' rel='noopener noreferrer'>Upgini</a></td><td class='upgini-text'>AutoFE: features from <a href='https://upgini.com/#data_sources' target='_blank' rel='noopener noreferrer'>Markets data</a></td><td class='upgini-text'>Free</td></tr><tr><td class='upgini-text'>f_autofe_max_935</td><td class='upgini-number'>0.0006</td><td class='upgini-number'>100.0000</td><td class='upgini-text'>-0.2225, -0.2225, 0.6235</td><td class='upgini-text'><a href='https://upgini.com' target='_blank' rel='noopener noreferrer'>Upgini</a></td><td class='upgini-text'>AutoFE: features from <a href='https://upgini.com/#data_sources' target='_blank' rel='noopener noreferrer'>Calendar data</a></td><td class='upgini-text'>Free</td></tr><tr><td class='upgini-text'>f_autofe_min_188</td><td class='upgini-number'>0.0006</td><td class='upgini-number'>100.0000</td><td class='upgini-text'>-0.7818, 0.6235, 0.6235</td><td class='upgini-text'><a href='https://upgini.com' target='_blank' rel='noopener noreferrer'>Upgini</a></td><td class='upgini-text'>AutoFE: features from <a href='https://upgini.com/#data_sources' target='_blank' rel='noopener noreferrer'>Calendar data</a></td><td class='upgini-text'>Free</td></tr><tr><td class='upgini-text'>f_autofe_min_576</td><td class='upgini-number'>0.0005</td><td class='upgini-number'>100.0000</td><td class='upgini-text'>0.8346, 0.7518, 0.5915</td><td class='upgini-text'><a href='https://upgini.com' target='_blank' rel='noopener noreferrer'>Upgini</a></td><td class='upgini-text'>AutoFE: features from <a href='https://upgini.com/#data_sources' target='_blank' rel='noopener noreferrer'>Markets data</a></td><td class='upgini-text'>Free</td></tr><tr><td class='upgini-text'>f_financial_date_usd_eur_7d_to_1y_autofe_residual_181</td><td class='upgini-number'>0.0004</td><td class='upgini-number'>100.0000</td><td class='upgini-text'>0.0162, 0.0179, 0.0044</td><td class='upgini-text'><a href='https://upgini.com' target='_blank' rel='noopener noreferrer'>Upgini</a></td><td class='upgini-text'>AutoFE: feature from <a href='https://upgini.com/#data_sources' target='_blank' rel='noopener noreferrer'>Markets data</a></td><td class='upgini-text'>Free</td></tr><tr><td class='upgini-text'>f_autofe_min_293</td><td class='upgini-number'>0.0004</td><td class='upgini-number'>100.0000</td><td class='upgini-text'>-0.9163, -0.7776, -0.6187</td><td class='upgini-text'><a href='https://upgini.com' target='_blank' rel='noopener noreferrer'>Upgini</a></td><td class='upgini-text'>AutoFE: features from <a href='https://upgini.com/#data_sources' target='_blank' rel='noopener noreferrer'>Calendar data</a></td><td class='upgini-text'>Free</td></tr><tr><td class='upgini-text'><a href='https://docs.upgini.com/public/markets/finance#f_financial_date_stoxx_043cbcd4' target='_blank' rel='noopener noreferrer'>f_financial_date_stoxx_043cbcd4</a></td><td class='upgini-number'>0.0004</td><td class='upgini-number'>100.0000</td><td class='upgini-text'>349.71, 305.34, 376.55</td><td class='upgini-text'><a href='https://upgini.com' target='_blank' rel='noopener noreferrer'>Upgini</a></td><td class='upgini-text'><a href='https://upgini.com/#data_sources' target='_blank' rel='noopener noreferrer'>Markets data</a></td><td class='upgini-text'>Free</td></tr><tr><td class='upgini-text'>f_autofe_div_2211</td><td class='upgini-number'>0.0003</td><td class='upgini-number'>100.0000</td><td class='upgini-text'>1.1282, 0.9983, 1.1326</td><td class='upgini-text'><a href='https://upgini.com' target='_blank' rel='noopener noreferrer'>Upgini</a></td><td class='upgini-text'>AutoFE: features from <a href='https://upgini.com/#data_sources' target='_blank' rel='noopener noreferrer'>Markets data</a></td><td class='upgini-text'>Free</td></tr><tr><td class='upgini-text'><a href='https://docs.upgini.com/public/weather/weather_umap#f_weather_date_weather_umap_39_8df8c9ed' target='_blank' rel='noopener noreferrer'>f_weather_date_weather_umap_39_8df8c9ed</a></td><td class='upgini-number'>0.0002</td><td class='upgini-number'>100.0000</td><td class='upgini-text'>4.8831, 4.9749, 4.8078</td><td class='upgini-text'><a href='https://upgini.com' target='_blank' rel='noopener noreferrer'>Upgini</a></td><td class='upgini-text'><a href='https://upgini.com/#data_sources' target='_blank' rel='noopener noreferrer'>Weather & climate normals data</a></td><td class='upgini-text'>Premium</td></tr><tr><td class='upgini-text'><a href='https://docs.upgini.com/public/economics/cbpol_pca#f_economic_date_cbpol_pca_9_bde660b4' target='_blank' rel='noopener noreferrer'>f_economic_date_cbpol_pca_9_bde660b4</a></td><td class='upgini-number'>0.0002</td><td class='upgini-number'>100.0000</td><td class='upgini-text'>-2.2763, -1.7158, -1.9628</td><td class='upgini-text'><a href='https://upgini.com' target='_blank' rel='noopener noreferrer'>Upgini</a></td><td class='upgini-text'><a href='https://upgini.com/#data_sources' target='_blank' rel='noopener noreferrer'>World economic indicators</a></td><td class='upgini-text'>Free</td></tr><tr><td class='upgini-text'>f_autofe_div_2210</td><td class='upgini-number'>0.0002</td><td class='upgini-number'>100.0000</td><td class='upgini-text'>1.0846, 1.1269, 1.123</td><td class='upgini-text'><a href='https://upgini.com' target='_blank' rel='noopener noreferrer'>Upgini</a></td><td class='upgini-text'>AutoFE: features from <a href='https://upgini.com/#data_sources' target='_blank' rel='noopener noreferrer'>Markets data</a></td><td class='upgini-text'>Free</td></tr><tr><td class='upgini-text'>f_autofe_max_1007</td><td class='upgini-number'>0.0002</td><td class='upgini-number'>100.0000</td><td class='upgini-text'>0.4317, 0.9993, 0.8827</td><td class='upgini-text'><a href='https://upgini.com' target='_blank' rel='noopener noreferrer'>Upgini</a></td><td class='upgini-text'>AutoFE: features from <a href='https://upgini.com/#data_sources' target='_blank' rel='noopener noreferrer'>Calendar data</a></td><td class='upgini-text'>Free</td></tr><tr><td class='upgini-text'>f_autofe_div_2136</td><td class='upgini-number'>0.0002</td><td class='upgini-number'>100.0000</td><td class='upgini-text'>0.0035, 0.0029, 0.0026</td><td class='upgini-text'><a href='https://upgini.com' target='_blank' rel='noopener noreferrer'>Upgini</a></td><td class='upgini-text'>AutoFE: features from <a href='https://upgini.com/#data_sources' target='_blank' rel='noopener noreferrer'>Markets data</a></td><td class='upgini-text'>Free</td></tr><tr><td class='upgini-text'>f_autofe_max_1470</td><td class='upgini-number'>0.0002</td><td class='upgini-number'>100.0000</td><td class='upgini-text'>1.2432, 0.941, 1.6786</td><td class='upgini-text'><a href='https://upgini.com' target='_blank' rel='noopener noreferrer'>Upgini</a></td><td class='upgini-text'>AutoFE: features from <a href='https://upgini.com/#data_sources' target='_blank' rel='noopener noreferrer'>Markets data</a></td><td class='upgini-text'>Free</td></tr><tr><td class='upgini-text'>f_autofe_div_2400</td><td class='upgini-number'>0.0002</td><td class='upgini-number'>100.0000</td><td class='upgini-text'>338.4034, 297.5733, 355.8264</td><td class='upgini-text'><a href='https://upgini.com' target='_blank' rel='noopener noreferrer'>Upgini</a></td><td class='upgini-text'>AutoFE: features from <a href='https://upgini.com/#data_sources' target='_blank' rel='noopener noreferrer'>Markets data</a></td><td class='upgini-text'>Free</td></tr><tr><td class='upgini-text'><a href='https://docs.upgini.com/public/markets/finance_umap#f_financial_date_finance_umap_2_a414df3b' target='_blank' rel='noopener noreferrer'>f_financial_date_finance_umap_2_a414df3b</a></td><td class='upgini-number'>0.0002</td><td class='upgini-number'>100.0000</td><td class='upgini-text'>3.3722, 4.236, 6.9632</td><td class='upgini-text'><a href='https://upgini.com' target='_blank' rel='noopener noreferrer'>Upgini</a></td><td class='upgini-text'><a href='https://upgini.com/#data_sources' target='_blank' rel='noopener noreferrer'>Markets data</a></td><td class='upgini-text'>Free</td></tr><tr><td class='upgini-text'><a href='https://docs.upgini.com/public/economics/cbpol_pca#f_economic_date_cbpol_pca_0_ef0bbff4' target='_blank' rel='noopener noreferrer'>f_economic_date_cbpol_pca_0_ef0bbff4</a></td><td class='upgini-number'>0.0001</td><td class='upgini-number'>100.0000</td><td class='upgini-text'>0.6352, 0.2754, -0.2381</td><td class='upgini-text'><a href='https://upgini.com' target='_blank' rel='noopener noreferrer'>Upgini</a></td><td class='upgini-text'><a href='https://upgini.com/#data_sources' target='_blank' rel='noopener noreferrer'>World economic indicators</a></td><td class='upgini-text'>Free</td></tr><tr><td class='upgini-text'>f_autofe_min_322</td><td class='upgini-number'>0.0001</td><td class='upgini-number'>100.0000</td><td class='upgini-text'>-0.3447, 0.4975, -0.2345</td><td class='upgini-text'><a href='https://upgini.com' target='_blank' rel='noopener noreferrer'>Upgini</a></td><td class='upgini-text'>AutoFE: features from <a href='https://upgini.com/#data_sources' target='_blank' rel='noopener noreferrer'>Calendar data</a></td><td class='upgini-text'>Free</td></tr><tr><td class='upgini-text'>f_autofe_div_2072</td><td class='upgini-number'>0.0001</td><td class='upgini-number'>100.0000</td><td class='upgini-text'>1.0039, 0.944, 0.8197</td><td class='upgini-text'><a href='https://upgini.com' target='_blank' rel='noopener noreferrer'>Upgini</a></td><td class='upgini-text'>AutoFE: features from <a href='https://upgini.com/#data_sources' target='_blank' rel='noopener noreferrer'>Markets data</a></td><td class='upgini-text'>Free</td></tr><tr><td class='upgini-text'>f_autofe_max_974</td><td class='upgini-number'>0.0001</td><td class='upgini-number'>100.0000</td><td class='upgini-text'>0.7296, -0.6085, 0.9995</td><td class='upgini-text'><a href='https://upgini.com' target='_blank' rel='noopener noreferrer'>Upgini</a></td><td class='upgini-text'>AutoFE: features from <a href='https://upgini.com/#data_sources' target='_blank' rel='noopener noreferrer'>Calendar data</a></td><td class='upgini-text'>Free</td></tr><tr><td class='upgini-text'><a href='https://docs.upgini.com/public/weather/weather_pca#f_weather_date_weather_pca_3_006924ed' target='_blank' rel='noopener noreferrer'>f_weather_date_weather_pca_3_006924ed</a></td><td class='upgini-number'>0.0001</td><td class='upgini-number'>100.0000</td><td class='upgini-text'>-4.9063, -0.2457, 3.9166</td><td class='upgini-text'><a href='https://upgini.com' target='_blank' rel='noopener noreferrer'>Upgini</a></td><td class='upgini-text'><a href='https://upgini.com/#data_sources' target='_blank' rel='noopener noreferrer'>Weather & climate normals data</a></td><td class='upgini-text'>Premium</td></tr></tbody></table>\n",
              "        </div>\n",
              "        "
            ]
          },
          "metadata": {}
        },
        {
          "output_type": "display_data",
          "data": {
            "text/plain": [
              "<IPython.core.display.HTML object>"
            ],
            "text/html": [
              "<style>\n",
              "            .upgini-df thead th {\n",
              "                font-weight:bold;\n",
              "                text-align: center;\n",
              "                padding: 0.5em;\n",
              "                border-bottom: 2px solid black;\n",
              "            }\n",
              "\n",
              "            .upgini-df tbody td {\n",
              "                padding: 0.5em;\n",
              "            }\n",
              "\n",
              "            .upgini-df tbody tr:nth-child(odd) {\n",
              "                background-color: #ffffff;\n",
              "            }\n",
              "\n",
              "            .upgini-df tbody tr:nth-child(even) {\n",
              "                background-color: #f2f2f2;\n",
              "            }\n",
              "\n",
              "            .upgini-text {\n",
              "                text-align: left;\n",
              "            }\n",
              "\n",
              "            .upgini-number {\n",
              "                text-align: center;\n",
              "            }\n",
              "        </style>\n",
              "        <h2>Relevant data sources</h2>\n",
              "        <div style=\"display:flex; flex-direction:column; align-items:flex-end; width: fit-content;\">\n",
              "            <div style=\"text-align: right\">\n",
              "                <button onclick=navigator.clipboard.writeText(decodeURI('Provider%09Source%09All%20features%20SHAP%09Number%20of%20relevant%20features%0AUpgini%09AutoFE%3A%20features%20from%20%3Ca%20href%3D%27https%3A%2F%2Fupgini.com%2F%23data_sources%27%20target%3D%27_blank%27%20rel%3D%27noopener%20noreferrer%27%3ECalendar%20data%3C%2Fa%3E%090.1582%0916%0AUpgini%09AutoFE%3A%20features%20from%20%3Ca%20href%3D%27https%3A%2F%2Fupgini.com%2F%23data_sources%27%20target%3D%27_blank%27%20rel%3D%27noopener%20noreferrer%27%3ECalendar%20data%3C%2Fa%3E,%3Ca%20href%3D%27https%3A%2F%2Fupgini.com%2F%23data_sources%27%20target%3D%27_blank%27%20rel%3D%27noopener%20noreferrer%27%3EMarkets%20data%3C%2Fa%3E%090.0233%099%0AUpgini%09Weather%20%26%20climate%20normals%20data%090.0178%094%0AUpgini%09AutoFE%3A%20features%20from%20%3Ca%20href%3D%27https%3A%2F%2Fupgini.com%2F%23data_sources%27%20target%3D%27_blank%27%20rel%3D%27noopener%20noreferrer%27%3EMarkets%20data%3C%2Fa%3E%090.0029%099%0AUpgini%09Calendar%20data%090.0027%091%0AUpgini%09Markets%20data%090.0006000000000000001%092%0AUpgini%09AutoFE%3A%20feature%20from%20%3Ca%20href%3D%27https%3A%2F%2Fupgini.com%2F%23data_sources%27%20target%3D%27_blank%27%20rel%3D%27noopener%20noreferrer%27%3EMarkets%20data%3C%2Fa%3E%090.0004%091%0AUpgini%09World%20economic%20indicators%090.00030000000000000003%092%0A'))>📂 Copy</button>\n",
              "                <a href='mailto:<Share with...>?subject=Relevant external data sources from Upgini.com&body=Provider%09Source%09All%20features%20SHAP%09Number%20of%20relevant%20features%0AUpgini%09AutoFE%3A%20features%20from%20%3Ca%20href%3D%27https%3A%2F%2Fupgini.com%2F%23data_sources%27%20target%3D%27_blank%27%20rel%3D%27noopener%20noreferrer%27%3ECalendar%20data%3C%2Fa%3E%090.1582%0916%0AUpgini%09AutoFE%3A%20features%20from%20%3Ca%20href%3D%27https%3A%2F%2Fupgini.com%2F%23data_sources%27%20target%3D%27_blank%27%20rel%3D%27noopener%20noreferrer%27%3ECalendar%20data%3C%2Fa%3E,%3Ca%20href%3D%27https%3A%2F%2Fupgini.com%2F%23data_sources%27%20target%3D%27_blank%27%20rel%3D%27noopener%20noreferrer%27%3EMarkets%20data%3C%2Fa%3E%090.0233%099%0AUpgini%09Weather%20%26%20climate%20normals%20data%090.0178%094%0AUpgini%09AutoFE%3A%20features%20from%20%3Ca%20href%3D%27https%3A%2F%2Fupgini.com%2F%23data_sources%27%20target%3D%27_blank%27%20rel%3D%27noopener%20noreferrer%27%3EMarkets%20data%3C%2Fa%3E%090.0029%099%0AUpgini%09Calendar%20data%090.0027%091%0AUpgini%09Markets%20data%090.0006000000000000001%092%0AUpgini%09AutoFE%3A%20feature%20from%20%3Ca%20href%3D%27https%3A%2F%2Fupgini.com%2F%23data_sources%27%20target%3D%27_blank%27%20rel%3D%27noopener%20noreferrer%27%3EMarkets%20data%3C%2Fa%3E%090.0004%091%0AUpgini%09World%20economic%20indicators%090.00030000000000000003%092%0A'>\n",
              "                    <button>📨 Share</button>\n",
              "                </a>\n",
              "            </div>\n",
              "            <table class='upgini-df'><thead><th>Provider</th><th>Source</th><th>All features SHAP</th><th>Number of relevant features</th></thead><tbody><tr><td class='upgini-text'><a href='https://upgini.com' target='_blank' rel='noopener noreferrer'>Upgini</a></td><td class='upgini-text'>AutoFE: features from <a href='https://upgini.com/#data_sources' target='_blank' rel='noopener noreferrer'>Calendar data</a></td><td class='upgini-number'>0.1582</td><td class='upgini-number'>16</td></tr><tr><td class='upgini-text'><a href='https://upgini.com' target='_blank' rel='noopener noreferrer'>Upgini</a></td><td class='upgini-text'>AutoFE: features from <a href='https://upgini.com/#data_sources' target='_blank' rel='noopener noreferrer'>Calendar data</a>,<a href='https://upgini.com/#data_sources' target='_blank' rel='noopener noreferrer'>Markets data</a></td><td class='upgini-number'>0.0233</td><td class='upgini-number'>9</td></tr><tr><td class='upgini-text'><a href='https://upgini.com' target='_blank' rel='noopener noreferrer'>Upgini</a></td><td class='upgini-text'><a href='https://upgini.com/#data_sources' target='_blank' rel='noopener noreferrer'>Weather & climate normals data</a></td><td class='upgini-number'>0.0178</td><td class='upgini-number'>4</td></tr><tr><td class='upgini-text'><a href='https://upgini.com' target='_blank' rel='noopener noreferrer'>Upgini</a></td><td class='upgini-text'>AutoFE: features from <a href='https://upgini.com/#data_sources' target='_blank' rel='noopener noreferrer'>Markets data</a></td><td class='upgini-number'>0.0029</td><td class='upgini-number'>9</td></tr><tr><td class='upgini-text'><a href='https://upgini.com' target='_blank' rel='noopener noreferrer'>Upgini</a></td><td class='upgini-text'><a href='https://upgini.com/#data_sources' target='_blank' rel='noopener noreferrer'>Calendar data</a></td><td class='upgini-number'>0.0027</td><td class='upgini-number'>1</td></tr><tr><td class='upgini-text'><a href='https://upgini.com' target='_blank' rel='noopener noreferrer'>Upgini</a></td><td class='upgini-text'><a href='https://upgini.com/#data_sources' target='_blank' rel='noopener noreferrer'>Markets data</a></td><td class='upgini-number'>0.0006</td><td class='upgini-number'>2</td></tr><tr><td class='upgini-text'><a href='https://upgini.com' target='_blank' rel='noopener noreferrer'>Upgini</a></td><td class='upgini-text'>AutoFE: feature from <a href='https://upgini.com/#data_sources' target='_blank' rel='noopener noreferrer'>Markets data</a></td><td class='upgini-number'>0.0004</td><td class='upgini-number'>1</td></tr><tr><td class='upgini-text'><a href='https://upgini.com' target='_blank' rel='noopener noreferrer'>Upgini</a></td><td class='upgini-text'><a href='https://upgini.com/#data_sources' target='_blank' rel='noopener noreferrer'>World economic indicators</a></td><td class='upgini-number'>0.0003</td><td class='upgini-number'>2</td></tr></tbody></table>\n",
              "        </div>\n",
              "        "
            ]
          },
          "metadata": {}
        },
        {
          "output_type": "display_data",
          "data": {
            "text/plain": [
              "<IPython.core.display.HTML object>"
            ],
            "text/html": [
              "<style>\n",
              "            .upgini-df thead th {\n",
              "                font-weight:bold;\n",
              "                text-align: center;\n",
              "                padding: 0.5em;\n",
              "                border-bottom: 2px solid black;\n",
              "            }\n",
              "\n",
              "            .upgini-df tbody td {\n",
              "                padding: 0.5em;\n",
              "            }\n",
              "\n",
              "            .upgini-df tbody tr:nth-child(odd) {\n",
              "                background-color: #ffffff;\n",
              "            }\n",
              "\n",
              "            .upgini-df tbody tr:nth-child(even) {\n",
              "                background-color: #f2f2f2;\n",
              "            }\n",
              "\n",
              "            .upgini-text {\n",
              "                text-align: left;\n",
              "            }\n",
              "\n",
              "            .upgini-number {\n",
              "                text-align: center;\n",
              "            }\n",
              "        </style>\n",
              "        <h2>*Description of AutoFE feature names</h2>\n",
              "        <div style=\"display:flex; flex-direction:column; align-items:flex-end; width: fit-content;\">\n",
              "            <div style=\"text-align: right\">\n",
              "                <button onclick=navigator.clipboard.writeText(decodeURI('Sources%09Feature%20name%09Feature%201%09Feature%202%09Function%0A%3Ca%20href%3D%27https%3A%2F%2Fupgini.com%2F%23data_sources%27%20target%3D%27_blank%27%20rel%3D%27noopener%20noreferrer%27%3ECalendar%20data%3C%2Fa%3E,%3Ca%20href%3D%27https%3A%2F%2Fupgini.com%2F%23data_sources%27%20target%3D%27_blank%27%20rel%3D%27noopener%20noreferrer%27%3EMarkets%20data%3C%2Fa%3E%09f_autofe_div_1665%09f_events_date_week_cos3_7525fe31%09f_financial_date_crude_oil_7d_to_1y_c3e0ad17%09div%0A%3Ca%20href%3D%27https%3A%2F%2Fupgini.com%2F%23data_sources%27%20target%3D%27_blank%27%20rel%3D%27noopener%20noreferrer%27%3ECalendar%20data%3C%2Fa%3E,%3Ca%20href%3D%27https%3A%2F%2Fupgini.com%2F%23data_sources%27%20target%3D%27_blank%27%20rel%3D%27noopener%20noreferrer%27%3EMarkets%20data%3C%2Fa%3E%09f_autofe_div_1703%09f_events_date_week_sin1_847b5db1%09f_financial_date_crude_oil_1f195998%09div%0A%3Ca%20href%3D%27https%3A%2F%2Fupgini.com%2F%23data_sources%27%20target%3D%27_blank%27%20rel%3D%27noopener%20noreferrer%27%3ECalendar%20data%3C%2Fa%3E,%3Ca%20href%3D%27https%3A%2F%2Fupgini.com%2F%23data_sources%27%20target%3D%27_blank%27%20rel%3D%27noopener%20noreferrer%27%3EMarkets%20data%3C%2Fa%3E%09f_autofe_div_1741%09f_events_date_year_cos1_9014a856%09f_financial_date_crude_oil_1f195998%09div%0A%3Ca%20href%3D%27https%3A%2F%2Fupgini.com%2F%23data_sources%27%20target%3D%27_blank%27%20rel%3D%27noopener%20noreferrer%27%3ECalendar%20data%3C%2Fa%3E,%3Ca%20href%3D%27https%3A%2F%2Fupgini.com%2F%23data_sources%27%20target%3D%27_blank%27%20rel%3D%27noopener%20noreferrer%27%3EMarkets%20data%3C%2Fa%3E%09f_autofe_div_1743%09f_events_date_year_cos1_9014a856%09f_financial_date_crude_oil_7d_to_7d_1y_shift_718136ef%09div%0A%3Ca%20href%3D%27https%3A%2F%2Fupgini.com%2F%23data_sources%27%20target%3D%27_blank%27%20rel%3D%27noopener%20noreferrer%27%3EMarkets%20data%3C%2Fa%3E%09f_autofe_div_2072%09f_financial_date_crude_oil_7d_to_1y_c3e0ad17%09f_financial_date_nasdaq_7d_to_7d_1y_shift_4a4dd6ce%09div%0A%3Ca%20href%3D%27https%3A%2F%2Fupgini.com%2F%23data_sources%27%20target%3D%27_blank%27%20rel%3D%27noopener%20noreferrer%27%3EMarkets%20data%3C%2Fa%3E%09f_autofe_div_2136%09f_financial_date_gold_1d_to_7d_742a0045%09f_financial_date_stoxx_043cbcd4%09div%0A%3Ca%20href%3D%27https%3A%2F%2Fupgini.com%2F%23data_sources%27%20target%3D%27_blank%27%20rel%3D%27noopener%20noreferrer%27%3EMarkets%20data%3C%2Fa%3E%09f_autofe_div_2210%09f_financial_date_nasdaq_7d_to_7d_1y_shift_4a4dd6ce%09f_financial_date_stoxx_7d_to_1y_2ea815f4%09div%0A%3Ca%20href%3D%27https%3A%2F%2Fupgini.com%2F%23data_sources%27%20target%3D%27_blank%27%20rel%3D%27noopener%20noreferrer%27%3EMarkets%20data%3C%2Fa%3E%09f_autofe_div_2211%09f_financial_date_nasdaq_7d_to_7d_1y_shift_4a4dd6ce%09f_financial_date_stoxx_7d_to_7d_1y_shift_abef6e91%09div%0A%3Ca%20href%3D%27https%3A%2F%2Fupgini.com%2F%23data_sources%27%20target%3D%27_blank%27%20rel%3D%27noopener%20noreferrer%27%3EMarkets%20data%3C%2Fa%3E%09f_autofe_div_2383%09f_financial_date_snp500_7d_to_1y_378b9f99%09f_financial_date_stoxx_043cbcd4%09div%0A%3Ca%20href%3D%27https%3A%2F%2Fupgini.com%2F%23data_sources%27%20target%3D%27_blank%27%20rel%3D%27noopener%20noreferrer%27%3EMarkets%20data%3C%2Fa%3E%09f_autofe_div_2400%09f_financial_date_stoxx_043cbcd4%09f_financial_date_usd_7d_to_7d_1y_shift_35cb53e9%09div%0A%3Ca%20href%3D%27https%3A%2F%2Fupgini.com%2F%23data_sources%27%20target%3D%27_blank%27%20rel%3D%27noopener%20noreferrer%27%3ECalendar%20data%3C%2Fa%3E%09f_autofe_max_902%09f_events_date_week_cos1_f6a8c1fc%09f_events_date_year_cos1_9014a856%09max%0A%3Ca%20href%3D%27https%3A%2F%2Fupgini.com%2F%23data_sources%27%20target%3D%27_blank%27%20rel%3D%27noopener%20noreferrer%27%3ECalendar%20data%3C%2Fa%3E%09f_autofe_max_903%09f_events_date_week_cos1_f6a8c1fc%09f_events_date_year_cos2_7acbaf1b%09max%0A%3Ca%20href%3D%27https%3A%2F%2Fupgini.com%2F%23data_sources%27%20target%3D%27_blank%27%20rel%3D%27noopener%20noreferrer%27%3ECalendar%20data%3C%2Fa%3E,%3Ca%20href%3D%27https%3A%2F%2Fupgini.com%2F%23data_sources%27%20target%3D%27_blank%27%20rel%3D%27noopener%20noreferrer%27%3EMarkets%20data%3C%2Fa%3E%09f_autofe_max_933%09f_events_date_week_cos1_f6a8c1fc%09f_financial_date_vix_7d_to_1y_634c77eb%09max%0A%3Ca%20href%3D%27https%3A%2F%2Fupgini.com%2F%23data_sources%27%20target%3D%27_blank%27%20rel%3D%27noopener%20noreferrer%27%3ECalendar%20data%3C%2Fa%3E%09f_autofe_max_935%09f_events_date_week_cos3_7525fe31%09f_events_date_week_sin1_847b5db1%09max%0A%3Ca%20href%3D%27https%3A%2F%2Fupgini.com%2F%23data_sources%27%20target%3D%27_blank%27%20rel%3D%27noopener%20noreferrer%27%3ECalendar%20data%3C%2Fa%3E%09f_autofe_max_936%09f_events_date_week_cos3_7525fe31%09f_events_date_year_cos1_9014a856%09max%0A%3Ca%20href%3D%27https%3A%2F%2Fupgini.com%2F%23data_sources%27%20target%3D%27_blank%27%20rel%3D%27noopener%20noreferrer%27%3ECalendar%20data%3C%2Fa%3E%09f_autofe_max_942%09f_events_date_week_cos3_7525fe31%09f_events_date_year_sin2_59955ffd%09max%0A%3Ca%20href%3D%27https%3A%2F%2Fupgini.com%2F%23data_sources%27%20target%3D%27_blank%27%20rel%3D%27noopener%20noreferrer%27%3ECalendar%20data%3C%2Fa%3E%09f_autofe_max_969%09f_events_date_week_sin1_847b5db1%09f_events_date_year_cos1_9014a856%09max%0A%3Ca%20href%3D%27https%3A%2F%2Fupgini.com%2F%23data_sources%27%20target%3D%27_blank%27%20rel%3D%27noopener%20noreferrer%27%3ECalendar%20data%3C%2Fa%3E%09f_autofe_max_970%09f_events_date_week_sin1_847b5db1%09f_events_date_year_cos2_7acbaf1b%09max%0A%3Ca%20href%3D%27https%3A%2F%2Fupgini.com%2F%23data_sources%27%20target%3D%27_blank%27%20rel%3D%27noopener%20noreferrer%27%3ECalendar%20data%3C%2Fa%3E%09f_autofe_max_974%09f_events_date_week_sin1_847b5db1%09f_events_date_year_sin1_3c44bc64%09max%0A%3Ca%20href%3D%27https%3A%2F%2Fupgini.com%2F%23data_sources%27%20target%3D%27_blank%27%20rel%3D%27noopener%20noreferrer%27%3ECalendar%20data%3C%2Fa%3E%09f_autofe_max_1007%09f_events_date_year_cos1_9014a856%09f_events_date_year_sin2_59955ffd%09max%0A%3Ca%20href%3D%27https%3A%2F%2Fupgini.com%2F%23data_sources%27%20target%3D%27_blank%27%20rel%3D%27noopener%20noreferrer%27%3ECalendar%20data%3C%2Fa%3E,%3Ca%20href%3D%27https%3A%2F%2Fupgini.com%2F%23data_sources%27%20target%3D%27_blank%27%20rel%3D%27noopener%20noreferrer%27%3EMarkets%20data%3C%2Fa%3E%09f_autofe_max_1021%09f_events_date_year_cos1_9014a856%09f_financial_date_silver_gap_f5b63f5b%09max%0A%3Ca%20href%3D%27https%3A%2F%2Fupgini.com%2F%23data_sources%27%20target%3D%27_blank%27%20rel%3D%27noopener%20noreferrer%27%3ECalendar%20data%3C%2Fa%3E,%3Ca%20href%3D%27https%3A%2F%2Fupgini.com%2F%23data_sources%27%20target%3D%27_blank%27%20rel%3D%27noopener%20noreferrer%27%3EMarkets%20data%3C%2Fa%3E%09f_autofe_max_1161%09f_events_date_year_sin1_3c44bc64%09f_financial_date_natural_gas_7d_to_7d_1y_shift_a5c3c07f%09max%0A%3Ca%20href%3D%27https%3A%2F%2Fupgini.com%2F%23data_sources%27%20target%3D%27_blank%27%20rel%3D%27noopener%20noreferrer%27%3EMarkets%20data%3C%2Fa%3E%09f_autofe_max_1470%09f_financial_date_natural_gas_7d_to_7d_1y_shift_a5c3c07f%09f_financial_date_vix_7d_to_1y_634c77eb%09max%0A%3Ca%20href%3D%27https%3A%2F%2Fupgini.com%2F%23data_sources%27%20target%3D%27_blank%27%20rel%3D%27noopener%20noreferrer%27%3ECalendar%20data%3C%2Fa%3E%09f_autofe_min_188%09f_events_date_week_cos1_f6a8c1fc%09f_events_date_week_sin1_847b5db1%09min%0A%3Ca%20href%3D%27https%3A%2F%2Fupgini.com%2F%23data_sources%27%20target%3D%27_blank%27%20rel%3D%27noopener%20noreferrer%27%3ECalendar%20data%3C%2Fa%3E%09f_autofe_min_223%09f_events_date_week_cos3_7525fe31%09f_events_date_year_cos1_9014a856%09min%0A%3Ca%20href%3D%27https%3A%2F%2Fupgini.com%2F%23data_sources%27%20target%3D%27_blank%27%20rel%3D%27noopener%20noreferrer%27%3ECalendar%20data%3C%2Fa%3E%09f_autofe_min_256%09f_events_date_week_sin1_847b5db1%09f_events_date_year_cos1_9014a856%09min%0A%3Ca%20href%3D%27https%3A%2F%2Fupgini.com%2F%23data_sources%27%20target%3D%27_blank%27%20rel%3D%27noopener%20noreferrer%27%3ECalendar%20data%3C%2Fa%3E%09f_autofe_min_262%09f_events_date_week_sin1_847b5db1%09f_events_date_year_sin2_59955ffd%09min%0A%3Ca%20href%3D%27https%3A%2F%2Fupgini.com%2F%23data_sources%27%20target%3D%27_blank%27%20rel%3D%27noopener%20noreferrer%27%3ECalendar%20data%3C%2Fa%3E,%3Ca%20href%3D%27https%3A%2F%2Fupgini.com%2F%23data_sources%27%20target%3D%27_blank%27%20rel%3D%27noopener%20noreferrer%27%3EMarkets%20data%3C%2Fa%3E%09f_autofe_min_276%09f_events_date_week_sin1_847b5db1%09f_financial_date_silver_daydiff_25cf4951%09min%0A%3Ca%20href%3D%27https%3A%2F%2Fupgini.com%2F%23data_sources%27%20target%3D%27_blank%27%20rel%3D%27noopener%20noreferrer%27%3ECalendar%20data%3C%2Fa%3E,%3Ca%20href%3D%27https%3A%2F%2Fupgini.com%2F%23data_sources%27%20target%3D%27_blank%27%20rel%3D%27noopener%20noreferrer%27%3EMarkets%20data%3C%2Fa%3E%09f_autofe_min_283%09f_events_date_week_sin1_847b5db1%09f_financial_date_usd_daydiff_8bcdeec4%09min%0A%3Ca%20href%3D%27https%3A%2F%2Fupgini.com%2F%23data_sources%27%20target%3D%27_blank%27%20rel%3D%27noopener%20noreferrer%27%3ECalendar%20data%3C%2Fa%3E%09f_autofe_min_293%09f_events_date_year_cos1_9014a856%09f_events_date_year_sin1_3c44bc64%09min%0A%3Ca%20href%3D%27https%3A%2F%2Fupgini.com%2F%23data_sources%27%20target%3D%27_blank%27%20rel%3D%27noopener%20noreferrer%27%3ECalendar%20data%3C%2Fa%3E%09f_autofe_min_294%09f_events_date_year_cos1_9014a856%09f_events_date_year_sin2_59955ffd%09min%0A%3Ca%20href%3D%27https%3A%2F%2Fupgini.com%2F%23data_sources%27%20target%3D%27_blank%27%20rel%3D%27noopener%20noreferrer%27%3ECalendar%20data%3C%2Fa%3E%09f_autofe_min_322%09f_events_date_year_cos2_7acbaf1b%09f_events_date_year_sin1_3c44bc64%09min%0A%3Ca%20href%3D%27https%3A%2F%2Fupgini.com%2F%23data_sources%27%20target%3D%27_blank%27%20rel%3D%27noopener%20noreferrer%27%3EMarkets%20data%3C%2Fa%3E%09f_autofe_min_569%09f_financial_date_crude_oil_7d_to_1y_c3e0ad17%09f_financial_date_gold_7d_to_1y_ae310379%09min%0A%3Ca%20href%3D%27https%3A%2F%2Fupgini.com%2F%23data_sources%27%20target%3D%27_blank%27%20rel%3D%27noopener%20noreferrer%27%3EMarkets%20data%3C%2Fa%3E%09f_autofe_min_576%09f_financial_date_crude_oil_7d_to_1y_c3e0ad17%09f_financial_date_silver_7d_to_7d_1y_shift_55fa8001%09min%0AAutoFE%3A%20feature%20from%20%3Ca%20href%3D%27https%3A%2F%2Fupgini.com%2F%23data_sources%27%20target%3D%27_blank%27%20rel%3D%27noopener%20noreferrer%27%3EMarkets%20data%3C%2Fa%3E%09f_financial_date_usd_eur_7d_to_1y_autofe_residual_181%09f_financial_date_usd_eur_7d_to_1y_200e4902%09%09%0A'))>📂 Copy</button>\n",
              "                <a href='mailto:<Share with...>?subject=Relevant external data sources from Upgini.com&body=Sources%09Feature%20name%09Feature%201%09Feature%202%09Function%0A%3Ca%20href%3D%27https%3A%2F%2Fupgini.com%2F%23data_sources%27%20target%3D%27_blank%27%20rel%3D%27noopener%20noreferrer%27%3ECalendar%20data%3C%2Fa%3E,%3Ca%20href%3D%27https%3A%2F%2Fupgini.com%2F%23data_sources%27%20target%3D%27_blank%27%20rel%3D%27noopener%20noreferrer%27%3EMarkets%20data%3C%2Fa%3E%09f_autofe_div_1665%09f_events_date_week_cos3_7525fe31%09f_financial_date_crude_oil_7d_to_1y_c3e0ad17%09div%0A%3Ca%20href%3D%27https%3A%2F%2Fupgini.com%2F%23data_sources%27%20target%3D%27_blank%27%20rel%3D%27noopener%20noreferrer%27%3ECalendar%20data%3C%2Fa%3E,%3Ca%20href%3D%27https%3A%2F%2Fupgini.com%2F%23data_sources%27%20target%3D%27_blank%27%20rel%3D%27noopener%20noreferrer%27%3EMarkets%20data%3C%2Fa%3E%09f_autofe_div_1703%09f_events_date_week_sin1_847b5db1%09f_financial_date_crude_oil_1f195998%09div%0A%3Ca%20href%3D%27https%3A%2F%2Fupgini.com%2F%23data_sources%27%20target%3D%27_blank%27%20rel%3D%27noopener%20noreferrer%27%3ECalendar%20data%3C%2Fa%3E,%3Ca%20href%3D%27https%3A%2F%2Fupgini.com%2F%23data_sources%27%20target%3D%27_blank%27%20rel%3D%27noopener%20noreferrer%27%3EMarkets%20data%3C%2Fa%3E%09f_autofe_div_1741%09f_events_date_year_cos1_9014a856%09f_financial_date_crude_oil_1f195998%09div%0A%3Ca%20href%3D%27https%3A%2F%2Fupgini.com%2F%23data_sources%27%20target%3D%27_blank%27%20rel%3D%27noopener%20noreferrer%27%3ECalendar%20data%3C%2Fa%3E,%3Ca%20href%3D%27https%3A%2F%2Fupgini.com%2F%23data_sources%27%20target%3D%27_blank%27%20rel%3D%27noopener%20noreferrer%27%3EMarkets%20data%3C%2Fa%3E%09f_autofe_div_1743%09f_events_date_year_cos1_9014a856%09f_financial_date_crude_oil_7d_to_7d_1y_shift_718136ef%09div%0A%3Ca%20href%3D%27https%3A%2F%2Fupgini.com%2F%23data_sources%27%20target%3D%27_blank%27%20rel%3D%27noopener%20noreferrer%27%3EMarkets%20data%3C%2Fa%3E%09f_autofe_div_2072%09f_financial_date_crude_oil_7d_to_1y_c3e0ad17%09f_financial_date_nasdaq_7d_to_7d_1y_shift_4a4dd6ce%09div%0A%3Ca%20href%3D%27https%3A%2F%2Fupgini.com%2F%23data_sources%27%20target%3D%27_blank%27%20rel%3D%27noopener%20noreferrer%27%3EMarkets%20data%3C%2Fa%3E%09f_autofe_div_2136%09f_financial_date_gold_1d_to_7d_742a0045%09f_financial_date_stoxx_043cbcd4%09div%0A%3Ca%20href%3D%27https%3A%2F%2Fupgini.com%2F%23data_sources%27%20target%3D%27_blank%27%20rel%3D%27noopener%20noreferrer%27%3EMarkets%20data%3C%2Fa%3E%09f_autofe_div_2210%09f_financial_date_nasdaq_7d_to_7d_1y_shift_4a4dd6ce%09f_financial_date_stoxx_7d_to_1y_2ea815f4%09div%0A%3Ca%20href%3D%27https%3A%2F%2Fupgini.com%2F%23data_sources%27%20target%3D%27_blank%27%20rel%3D%27noopener%20noreferrer%27%3EMarkets%20data%3C%2Fa%3E%09f_autofe_div_2211%09f_financial_date_nasdaq_7d_to_7d_1y_shift_4a4dd6ce%09f_financial_date_stoxx_7d_to_7d_1y_shift_abef6e91%09div%0A%3Ca%20href%3D%27https%3A%2F%2Fupgini.com%2F%23data_sources%27%20target%3D%27_blank%27%20rel%3D%27noopener%20noreferrer%27%3EMarkets%20data%3C%2Fa%3E%09f_autofe_div_2383%09f_financial_date_snp500_7d_to_1y_378b9f99%09f_financial_date_stoxx_043cbcd4%09div%0A%3Ca%20href%3D%27https%3A%2F%2Fupgini.com%2F%23data_sources%27%20target%3D%27_blank%27%20rel%3D%27noopener%20noreferrer%27%3EMarkets%20data%3C%2Fa%3E%09f_autofe_div_2400%09f_financial_date_stoxx_043cbcd4%09f_financial_date_usd_7d_to_7d_1y_shift_35cb53e9%09div%0A%3Ca%20href%3D%27https%3A%2F%2Fupgini.com%2F%23data_sources%27%20target%3D%27_blank%27%20rel%3D%27noopener%20noreferrer%27%3ECalendar%20data%3C%2Fa%3E%09f_autofe_max_902%09f_events_date_week_cos1_f6a8c1fc%09f_events_date_year_cos1_9014a856%09max%0A%3Ca%20href%3D%27https%3A%2F%2Fupgini.com%2F%23data_sources%27%20target%3D%27_blank%27%20rel%3D%27noopener%20noreferrer%27%3ECalendar%20data%3C%2Fa%3E%09f_autofe_max_903%09f_events_date_week_cos1_f6a8c1fc%09f_events_date_year_cos2_7acbaf1b%09max%0A%3Ca%20href%3D%27https%3A%2F%2Fupgini.com%2F%23data_sources%27%20target%3D%27_blank%27%20rel%3D%27noopener%20noreferrer%27%3ECalendar%20data%3C%2Fa%3E,%3Ca%20href%3D%27https%3A%2F%2Fupgini.com%2F%23data_sources%27%20target%3D%27_blank%27%20rel%3D%27noopener%20noreferrer%27%3EMarkets%20data%3C%2Fa%3E%09f_autofe_max_933%09f_events_date_week_cos1_f6a8c1fc%09f_financial_date_vix_7d_to_1y_634c77eb%09max%0A%3Ca%20href%3D%27https%3A%2F%2Fupgini.com%2F%23data_sources%27%20target%3D%27_blank%27%20rel%3D%27noopener%20noreferrer%27%3ECalendar%20data%3C%2Fa%3E%09f_autofe_max_935%09f_events_date_week_cos3_7525fe31%09f_events_date_week_sin1_847b5db1%09max%0A%3Ca%20href%3D%27https%3A%2F%2Fupgini.com%2F%23data_sources%27%20target%3D%27_blank%27%20rel%3D%27noopener%20noreferrer%27%3ECalendar%20data%3C%2Fa%3E%09f_autofe_max_936%09f_events_date_week_cos3_7525fe31%09f_events_date_year_cos1_9014a856%09max%0A%3Ca%20href%3D%27https%3A%2F%2Fupgini.com%2F%23data_sources%27%20target%3D%27_blank%27%20rel%3D%27noopener%20noreferrer%27%3ECalendar%20data%3C%2Fa%3E%09f_autofe_max_942%09f_events_date_week_cos3_7525fe31%09f_events_date_year_sin2_59955ffd%09max%0A%3Ca%20href%3D%27https%3A%2F%2Fupgini.com%2F%23data_sources%27%20target%3D%27_blank%27%20rel%3D%27noopener%20noreferrer%27%3ECalendar%20data%3C%2Fa%3E%09f_autofe_max_969%09f_events_date_week_sin1_847b5db1%09f_events_date_year_cos1_9014a856%09max%0A%3Ca%20href%3D%27https%3A%2F%2Fupgini.com%2F%23data_sources%27%20target%3D%27_blank%27%20rel%3D%27noopener%20noreferrer%27%3ECalendar%20data%3C%2Fa%3E%09f_autofe_max_970%09f_events_date_week_sin1_847b5db1%09f_events_date_year_cos2_7acbaf1b%09max%0A%3Ca%20href%3D%27https%3A%2F%2Fupgini.com%2F%23data_sources%27%20target%3D%27_blank%27%20rel%3D%27noopener%20noreferrer%27%3ECalendar%20data%3C%2Fa%3E%09f_autofe_max_974%09f_events_date_week_sin1_847b5db1%09f_events_date_year_sin1_3c44bc64%09max%0A%3Ca%20href%3D%27https%3A%2F%2Fupgini.com%2F%23data_sources%27%20target%3D%27_blank%27%20rel%3D%27noopener%20noreferrer%27%3ECalendar%20data%3C%2Fa%3E%09f_autofe_max_1007%09f_events_date_year_cos1_9014a856%09f_events_date_year_sin2_59955ffd%09max%0A%3Ca%20href%3D%27https%3A%2F%2Fupgini.com%2F%23data_sources%27%20target%3D%27_blank%27%20rel%3D%27noopener%20noreferrer%27%3ECalendar%20data%3C%2Fa%3E,%3Ca%20href%3D%27https%3A%2F%2Fupgini.com%2F%23data_sources%27%20target%3D%27_blank%27%20rel%3D%27noopener%20noreferrer%27%3EMarkets%20data%3C%2Fa%3E%09f_autofe_max_1021%09f_events_date_year_cos1_9014a856%09f_financial_date_silver_gap_f5b63f5b%09max%0A%3Ca%20href%3D%27https%3A%2F%2Fupgini.com%2F%23data_sources%27%20target%3D%27_blank%27%20rel%3D%27noopener%20noreferrer%27%3ECalendar%20data%3C%2Fa%3E,%3Ca%20href%3D%27https%3A%2F%2Fupgini.com%2F%23data_sources%27%20target%3D%27_blank%27%20rel%3D%27noopener%20noreferrer%27%3EMarkets%20data%3C%2Fa%3E%09f_autofe_max_1161%09f_events_date_year_sin1_3c44bc64%09f_financial_date_natural_gas_7d_to_7d_1y_shift_a5c3c07f%09max%0A%3Ca%20href%3D%27https%3A%2F%2Fupgini.com%2F%23data_sources%27%20target%3D%27_blank%27%20rel%3D%27noopener%20noreferrer%27%3EMarkets%20data%3C%2Fa%3E%09f_autofe_max_1470%09f_financial_date_natural_gas_7d_to_7d_1y_shift_a5c3c07f%09f_financial_date_vix_7d_to_1y_634c77eb%09max%0A%3Ca%20href%3D%27https%3A%2F%2Fupgini.com%2F%23data_sources%27%20target%3D%27_blank%27%20rel%3D%27noopener%20noreferrer%27%3ECalendar%20data%3C%2Fa%3E%09f_autofe_min_188%09f_events_date_week_cos1_f6a8c1fc%09f_events_date_week_sin1_847b5db1%09min%0A%3Ca%20href%3D%27https%3A%2F%2Fupgini.com%2F%23data_sources%27%20target%3D%27_blank%27%20rel%3D%27noopener%20noreferrer%27%3ECalendar%20data%3C%2Fa%3E%09f_autofe_min_223%09f_events_date_week_cos3_7525fe31%09f_events_date_year_cos1_9014a856%09min%0A%3Ca%20href%3D%27https%3A%2F%2Fupgini.com%2F%23data_sources%27%20target%3D%27_blank%27%20rel%3D%27noopener%20noreferrer%27%3ECalendar%20data%3C%2Fa%3E%09f_autofe_min_256%09f_events_date_week_sin1_847b5db1%09f_events_date_year_cos1_9014a856%09min%0A%3Ca%20href%3D%27https%3A%2F%2Fupgini.com%2F%23data_sources%27%20target%3D%27_blank%27%20rel%3D%27noopener%20noreferrer%27%3ECalendar%20data%3C%2Fa%3E%09f_autofe_min_262%09f_events_date_week_sin1_847b5db1%09f_events_date_year_sin2_59955ffd%09min%0A%3Ca%20href%3D%27https%3A%2F%2Fupgini.com%2F%23data_sources%27%20target%3D%27_blank%27%20rel%3D%27noopener%20noreferrer%27%3ECalendar%20data%3C%2Fa%3E,%3Ca%20href%3D%27https%3A%2F%2Fupgini.com%2F%23data_sources%27%20target%3D%27_blank%27%20rel%3D%27noopener%20noreferrer%27%3EMarkets%20data%3C%2Fa%3E%09f_autofe_min_276%09f_events_date_week_sin1_847b5db1%09f_financial_date_silver_daydiff_25cf4951%09min%0A%3Ca%20href%3D%27https%3A%2F%2Fupgini.com%2F%23data_sources%27%20target%3D%27_blank%27%20rel%3D%27noopener%20noreferrer%27%3ECalendar%20data%3C%2Fa%3E,%3Ca%20href%3D%27https%3A%2F%2Fupgini.com%2F%23data_sources%27%20target%3D%27_blank%27%20rel%3D%27noopener%20noreferrer%27%3EMarkets%20data%3C%2Fa%3E%09f_autofe_min_283%09f_events_date_week_sin1_847b5db1%09f_financial_date_usd_daydiff_8bcdeec4%09min%0A%3Ca%20href%3D%27https%3A%2F%2Fupgini.com%2F%23data_sources%27%20target%3D%27_blank%27%20rel%3D%27noopener%20noreferrer%27%3ECalendar%20data%3C%2Fa%3E%09f_autofe_min_293%09f_events_date_year_cos1_9014a856%09f_events_date_year_sin1_3c44bc64%09min%0A%3Ca%20href%3D%27https%3A%2F%2Fupgini.com%2F%23data_sources%27%20target%3D%27_blank%27%20rel%3D%27noopener%20noreferrer%27%3ECalendar%20data%3C%2Fa%3E%09f_autofe_min_294%09f_events_date_year_cos1_9014a856%09f_events_date_year_sin2_59955ffd%09min%0A%3Ca%20href%3D%27https%3A%2F%2Fupgini.com%2F%23data_sources%27%20target%3D%27_blank%27%20rel%3D%27noopener%20noreferrer%27%3ECalendar%20data%3C%2Fa%3E%09f_autofe_min_322%09f_events_date_year_cos2_7acbaf1b%09f_events_date_year_sin1_3c44bc64%09min%0A%3Ca%20href%3D%27https%3A%2F%2Fupgini.com%2F%23data_sources%27%20target%3D%27_blank%27%20rel%3D%27noopener%20noreferrer%27%3EMarkets%20data%3C%2Fa%3E%09f_autofe_min_569%09f_financial_date_crude_oil_7d_to_1y_c3e0ad17%09f_financial_date_gold_7d_to_1y_ae310379%09min%0A%3Ca%20href%3D%27https%3A%2F%2Fupgini.com%2F%23data_sources%27%20target%3D%27_blank%27%20rel%3D%27noopener%20noreferrer%27%3EMarkets%20data%3C%2Fa%3E%09f_autofe_min_576%09f_financial_date_crude_oil_7d_to_1y_c3e0ad17%09f_financial_date_silver_7d_to_7d_1y_shift_55fa8001%09min%0AAutoFE%3A%20feature%20from%20%3Ca%20href%3D%27https%3A%2F%2Fupgini.com%2F%23data_sources%27%20target%3D%27_blank%27%20rel%3D%27noopener%20noreferrer%27%3EMarkets%20data%3C%2Fa%3E%09f_financial_date_usd_eur_7d_to_1y_autofe_residual_181%09f_financial_date_usd_eur_7d_to_1y_200e4902%09%09%0A'>\n",
              "                    <button>📨 Share</button>\n",
              "                </a>\n",
              "            </div>\n",
              "            <table class='upgini-df'><thead><th>Sources</th><th>Feature name</th><th>Feature 1</th><th>Feature 2</th><th>Function</th></thead><tbody><tr><td class='upgini-text'><a href='https://upgini.com/#data_sources' target='_blank' rel='noopener noreferrer'>Calendar data</a>,<a href='https://upgini.com/#data_sources' target='_blank' rel='noopener noreferrer'>Markets data</a></td><td class='upgini-text'>f_autofe_div_1665</td><td class='upgini-text'>f_events_date_week_cos3_7525fe31</td><td class='upgini-text'>f_financial_date_crude_oil_7d_to_1y_c3e0ad17</td><td class='upgini-text'>div</td></tr><tr><td class='upgini-text'><a href='https://upgini.com/#data_sources' target='_blank' rel='noopener noreferrer'>Calendar data</a>,<a href='https://upgini.com/#data_sources' target='_blank' rel='noopener noreferrer'>Markets data</a></td><td class='upgini-text'>f_autofe_div_1703</td><td class='upgini-text'>f_events_date_week_sin1_847b5db1</td><td class='upgini-text'>f_financial_date_crude_oil_1f195998</td><td class='upgini-text'>div</td></tr><tr><td class='upgini-text'><a href='https://upgini.com/#data_sources' target='_blank' rel='noopener noreferrer'>Calendar data</a>,<a href='https://upgini.com/#data_sources' target='_blank' rel='noopener noreferrer'>Markets data</a></td><td class='upgini-text'>f_autofe_div_1741</td><td class='upgini-text'>f_events_date_year_cos1_9014a856</td><td class='upgini-text'>f_financial_date_crude_oil_1f195998</td><td class='upgini-text'>div</td></tr><tr><td class='upgini-text'><a href='https://upgini.com/#data_sources' target='_blank' rel='noopener noreferrer'>Calendar data</a>,<a href='https://upgini.com/#data_sources' target='_blank' rel='noopener noreferrer'>Markets data</a></td><td class='upgini-text'>f_autofe_div_1743</td><td class='upgini-text'>f_events_date_year_cos1_9014a856</td><td class='upgini-text'>f_financial_date_crude_oil_7d_to_7d_1y_shift_718136ef</td><td class='upgini-text'>div</td></tr><tr><td class='upgini-text'><a href='https://upgini.com/#data_sources' target='_blank' rel='noopener noreferrer'>Markets data</a></td><td class='upgini-text'>f_autofe_div_2072</td><td class='upgini-text'>f_financial_date_crude_oil_7d_to_1y_c3e0ad17</td><td class='upgini-text'>f_financial_date_nasdaq_7d_to_7d_1y_shift_4a4dd6ce</td><td class='upgini-text'>div</td></tr><tr><td class='upgini-text'><a href='https://upgini.com/#data_sources' target='_blank' rel='noopener noreferrer'>Markets data</a></td><td class='upgini-text'>f_autofe_div_2136</td><td class='upgini-text'>f_financial_date_gold_1d_to_7d_742a0045</td><td class='upgini-text'>f_financial_date_stoxx_043cbcd4</td><td class='upgini-text'>div</td></tr><tr><td class='upgini-text'><a href='https://upgini.com/#data_sources' target='_blank' rel='noopener noreferrer'>Markets data</a></td><td class='upgini-text'>f_autofe_div_2210</td><td class='upgini-text'>f_financial_date_nasdaq_7d_to_7d_1y_shift_4a4dd6ce</td><td class='upgini-text'>f_financial_date_stoxx_7d_to_1y_2ea815f4</td><td class='upgini-text'>div</td></tr><tr><td class='upgini-text'><a href='https://upgini.com/#data_sources' target='_blank' rel='noopener noreferrer'>Markets data</a></td><td class='upgini-text'>f_autofe_div_2211</td><td class='upgini-text'>f_financial_date_nasdaq_7d_to_7d_1y_shift_4a4dd6ce</td><td class='upgini-text'>f_financial_date_stoxx_7d_to_7d_1y_shift_abef6e91</td><td class='upgini-text'>div</td></tr><tr><td class='upgini-text'><a href='https://upgini.com/#data_sources' target='_blank' rel='noopener noreferrer'>Markets data</a></td><td class='upgini-text'>f_autofe_div_2383</td><td class='upgini-text'>f_financial_date_snp500_7d_to_1y_378b9f99</td><td class='upgini-text'>f_financial_date_stoxx_043cbcd4</td><td class='upgini-text'>div</td></tr><tr><td class='upgini-text'><a href='https://upgini.com/#data_sources' target='_blank' rel='noopener noreferrer'>Markets data</a></td><td class='upgini-text'>f_autofe_div_2400</td><td class='upgini-text'>f_financial_date_stoxx_043cbcd4</td><td class='upgini-text'>f_financial_date_usd_7d_to_7d_1y_shift_35cb53e9</td><td class='upgini-text'>div</td></tr><tr><td class='upgini-text'><a href='https://upgini.com/#data_sources' target='_blank' rel='noopener noreferrer'>Calendar data</a></td><td class='upgini-text'>f_autofe_max_902</td><td class='upgini-text'>f_events_date_week_cos1_f6a8c1fc</td><td class='upgini-text'>f_events_date_year_cos1_9014a856</td><td class='upgini-text'>max</td></tr><tr><td class='upgini-text'><a href='https://upgini.com/#data_sources' target='_blank' rel='noopener noreferrer'>Calendar data</a></td><td class='upgini-text'>f_autofe_max_903</td><td class='upgini-text'>f_events_date_week_cos1_f6a8c1fc</td><td class='upgini-text'>f_events_date_year_cos2_7acbaf1b</td><td class='upgini-text'>max</td></tr><tr><td class='upgini-text'><a href='https://upgini.com/#data_sources' target='_blank' rel='noopener noreferrer'>Calendar data</a>,<a href='https://upgini.com/#data_sources' target='_blank' rel='noopener noreferrer'>Markets data</a></td><td class='upgini-text'>f_autofe_max_933</td><td class='upgini-text'>f_events_date_week_cos1_f6a8c1fc</td><td class='upgini-text'>f_financial_date_vix_7d_to_1y_634c77eb</td><td class='upgini-text'>max</td></tr><tr><td class='upgini-text'><a href='https://upgini.com/#data_sources' target='_blank' rel='noopener noreferrer'>Calendar data</a></td><td class='upgini-text'>f_autofe_max_935</td><td class='upgini-text'>f_events_date_week_cos3_7525fe31</td><td class='upgini-text'>f_events_date_week_sin1_847b5db1</td><td class='upgini-text'>max</td></tr><tr><td class='upgini-text'><a href='https://upgini.com/#data_sources' target='_blank' rel='noopener noreferrer'>Calendar data</a></td><td class='upgini-text'>f_autofe_max_936</td><td class='upgini-text'>f_events_date_week_cos3_7525fe31</td><td class='upgini-text'>f_events_date_year_cos1_9014a856</td><td class='upgini-text'>max</td></tr><tr><td class='upgini-text'><a href='https://upgini.com/#data_sources' target='_blank' rel='noopener noreferrer'>Calendar data</a></td><td class='upgini-text'>f_autofe_max_942</td><td class='upgini-text'>f_events_date_week_cos3_7525fe31</td><td class='upgini-text'>f_events_date_year_sin2_59955ffd</td><td class='upgini-text'>max</td></tr><tr><td class='upgini-text'><a href='https://upgini.com/#data_sources' target='_blank' rel='noopener noreferrer'>Calendar data</a></td><td class='upgini-text'>f_autofe_max_969</td><td class='upgini-text'>f_events_date_week_sin1_847b5db1</td><td class='upgini-text'>f_events_date_year_cos1_9014a856</td><td class='upgini-text'>max</td></tr><tr><td class='upgini-text'><a href='https://upgini.com/#data_sources' target='_blank' rel='noopener noreferrer'>Calendar data</a></td><td class='upgini-text'>f_autofe_max_970</td><td class='upgini-text'>f_events_date_week_sin1_847b5db1</td><td class='upgini-text'>f_events_date_year_cos2_7acbaf1b</td><td class='upgini-text'>max</td></tr><tr><td class='upgini-text'><a href='https://upgini.com/#data_sources' target='_blank' rel='noopener noreferrer'>Calendar data</a></td><td class='upgini-text'>f_autofe_max_974</td><td class='upgini-text'>f_events_date_week_sin1_847b5db1</td><td class='upgini-text'>f_events_date_year_sin1_3c44bc64</td><td class='upgini-text'>max</td></tr><tr><td class='upgini-text'><a href='https://upgini.com/#data_sources' target='_blank' rel='noopener noreferrer'>Calendar data</a></td><td class='upgini-text'>f_autofe_max_1007</td><td class='upgini-text'>f_events_date_year_cos1_9014a856</td><td class='upgini-text'>f_events_date_year_sin2_59955ffd</td><td class='upgini-text'>max</td></tr><tr><td class='upgini-text'><a href='https://upgini.com/#data_sources' target='_blank' rel='noopener noreferrer'>Calendar data</a>,<a href='https://upgini.com/#data_sources' target='_blank' rel='noopener noreferrer'>Markets data</a></td><td class='upgini-text'>f_autofe_max_1021</td><td class='upgini-text'>f_events_date_year_cos1_9014a856</td><td class='upgini-text'>f_financial_date_silver_gap_f5b63f5b</td><td class='upgini-text'>max</td></tr><tr><td class='upgini-text'><a href='https://upgini.com/#data_sources' target='_blank' rel='noopener noreferrer'>Calendar data</a>,<a href='https://upgini.com/#data_sources' target='_blank' rel='noopener noreferrer'>Markets data</a></td><td class='upgini-text'>f_autofe_max_1161</td><td class='upgini-text'>f_events_date_year_sin1_3c44bc64</td><td class='upgini-text'>f_financial_date_natural_gas_7d_to_7d_1y_shift_a5c3c07f</td><td class='upgini-text'>max</td></tr><tr><td class='upgini-text'><a href='https://upgini.com/#data_sources' target='_blank' rel='noopener noreferrer'>Markets data</a></td><td class='upgini-text'>f_autofe_max_1470</td><td class='upgini-text'>f_financial_date_natural_gas_7d_to_7d_1y_shift_a5c3c07f</td><td class='upgini-text'>f_financial_date_vix_7d_to_1y_634c77eb</td><td class='upgini-text'>max</td></tr><tr><td class='upgini-text'><a href='https://upgini.com/#data_sources' target='_blank' rel='noopener noreferrer'>Calendar data</a></td><td class='upgini-text'>f_autofe_min_188</td><td class='upgini-text'>f_events_date_week_cos1_f6a8c1fc</td><td class='upgini-text'>f_events_date_week_sin1_847b5db1</td><td class='upgini-text'>min</td></tr><tr><td class='upgini-text'><a href='https://upgini.com/#data_sources' target='_blank' rel='noopener noreferrer'>Calendar data</a></td><td class='upgini-text'>f_autofe_min_223</td><td class='upgini-text'>f_events_date_week_cos3_7525fe31</td><td class='upgini-text'>f_events_date_year_cos1_9014a856</td><td class='upgini-text'>min</td></tr><tr><td class='upgini-text'><a href='https://upgini.com/#data_sources' target='_blank' rel='noopener noreferrer'>Calendar data</a></td><td class='upgini-text'>f_autofe_min_256</td><td class='upgini-text'>f_events_date_week_sin1_847b5db1</td><td class='upgini-text'>f_events_date_year_cos1_9014a856</td><td class='upgini-text'>min</td></tr><tr><td class='upgini-text'><a href='https://upgini.com/#data_sources' target='_blank' rel='noopener noreferrer'>Calendar data</a></td><td class='upgini-text'>f_autofe_min_262</td><td class='upgini-text'>f_events_date_week_sin1_847b5db1</td><td class='upgini-text'>f_events_date_year_sin2_59955ffd</td><td class='upgini-text'>min</td></tr><tr><td class='upgini-text'><a href='https://upgini.com/#data_sources' target='_blank' rel='noopener noreferrer'>Calendar data</a>,<a href='https://upgini.com/#data_sources' target='_blank' rel='noopener noreferrer'>Markets data</a></td><td class='upgini-text'>f_autofe_min_276</td><td class='upgini-text'>f_events_date_week_sin1_847b5db1</td><td class='upgini-text'>f_financial_date_silver_daydiff_25cf4951</td><td class='upgini-text'>min</td></tr><tr><td class='upgini-text'><a href='https://upgini.com/#data_sources' target='_blank' rel='noopener noreferrer'>Calendar data</a>,<a href='https://upgini.com/#data_sources' target='_blank' rel='noopener noreferrer'>Markets data</a></td><td class='upgini-text'>f_autofe_min_283</td><td class='upgini-text'>f_events_date_week_sin1_847b5db1</td><td class='upgini-text'>f_financial_date_usd_daydiff_8bcdeec4</td><td class='upgini-text'>min</td></tr><tr><td class='upgini-text'><a href='https://upgini.com/#data_sources' target='_blank' rel='noopener noreferrer'>Calendar data</a></td><td class='upgini-text'>f_autofe_min_293</td><td class='upgini-text'>f_events_date_year_cos1_9014a856</td><td class='upgini-text'>f_events_date_year_sin1_3c44bc64</td><td class='upgini-text'>min</td></tr><tr><td class='upgini-text'><a href='https://upgini.com/#data_sources' target='_blank' rel='noopener noreferrer'>Calendar data</a></td><td class='upgini-text'>f_autofe_min_294</td><td class='upgini-text'>f_events_date_year_cos1_9014a856</td><td class='upgini-text'>f_events_date_year_sin2_59955ffd</td><td class='upgini-text'>min</td></tr><tr><td class='upgini-text'><a href='https://upgini.com/#data_sources' target='_blank' rel='noopener noreferrer'>Calendar data</a></td><td class='upgini-text'>f_autofe_min_322</td><td class='upgini-text'>f_events_date_year_cos2_7acbaf1b</td><td class='upgini-text'>f_events_date_year_sin1_3c44bc64</td><td class='upgini-text'>min</td></tr><tr><td class='upgini-text'><a href='https://upgini.com/#data_sources' target='_blank' rel='noopener noreferrer'>Markets data</a></td><td class='upgini-text'>f_autofe_min_569</td><td class='upgini-text'>f_financial_date_crude_oil_7d_to_1y_c3e0ad17</td><td class='upgini-text'>f_financial_date_gold_7d_to_1y_ae310379</td><td class='upgini-text'>min</td></tr><tr><td class='upgini-text'><a href='https://upgini.com/#data_sources' target='_blank' rel='noopener noreferrer'>Markets data</a></td><td class='upgini-text'>f_autofe_min_576</td><td class='upgini-text'>f_financial_date_crude_oil_7d_to_1y_c3e0ad17</td><td class='upgini-text'>f_financial_date_silver_7d_to_7d_1y_shift_55fa8001</td><td class='upgini-text'>min</td></tr><tr><td class='upgini-text'>AutoFE: feature from <a href='https://upgini.com/#data_sources' target='_blank' rel='noopener noreferrer'>Markets data</a></td><td class='upgini-text'>f_financial_date_usd_eur_7d_to_1y_autofe_residual_181</td><td class='upgini-text'>f_financial_date_usd_eur_7d_to_1y_200e4902</td><td class='upgini-text'>&nbsp;</td><td class='upgini-text'>&nbsp;</td></tr></tbody></table>\n",
              "        </div>\n",
              "        "
            ]
          },
          "metadata": {}
        },
        {
          "output_type": "stream",
          "name": "stdout",
          "text": [
            "We detected 65 outliers in your sample.\n",
            "Examples of outliers with maximum value of target:\n",
            "47    196\n",
            "38    187\n",
            "12    171\n",
            "Name: target, dtype: int64\n",
            "Outliers will be excluded during the metrics calculation.\n",
            "Before dropping target outliers size: 15213\n",
            "After dropping target outliers size: 15148\n",
            "Calculating accuracy uplift after enrichment...\n"
          ]
        },
        {
          "output_type": "display_data",
          "data": {
            "text/plain": [
              "<IPython.core.display.HTML object>"
            ],
            "text/html": [
              "<style>\n",
              "            .upgini-df thead th {\n",
              "                font-weight:bold;\n",
              "                text-align: center;\n",
              "                padding: 0.5em;\n",
              "                border-bottom: 2px solid black;\n",
              "            }\n",
              "\n",
              "            .upgini-df tbody td {\n",
              "                padding: 0.5em;\n",
              "            }\n",
              "\n",
              "            .upgini-df tbody tr:nth-child(odd) {\n",
              "                background-color: #ffffff;\n",
              "            }\n",
              "\n",
              "            .upgini-df tbody tr:nth-child(even) {\n",
              "                background-color: #f2f2f2;\n",
              "            }\n",
              "\n",
              "            .upgini-text {\n",
              "                text-align: left;\n",
              "            }\n",
              "\n",
              "            .upgini-number {\n",
              "                text-align: center;\n",
              "            }\n",
              "        </style>\n",
              "        <h2>Accuracy after enrichment</h2>\n",
              "        <div style=\"display:flex; flex-direction:column; align-items:flex-end; width: fit-content;\">\n",
              "            <div style=\"text-align: right\">\n",
              "                <button onclick=navigator.clipboard.writeText(decodeURI('Dataset%20type%09Rows%09Mean%20target%09Baseline%20mean_squared_error%09Enriched%20mean_squared_error%09Uplift%0ATrain%0915213%0949.9541%09301.2608650185969%09183.93866725298756%09117.32219776560936%0A'))>📂 Copy</button>\n",
              "                <a href='mailto:<Share with...>?subject=Relevant external data sources from Upgini.com&body=Dataset%20type%09Rows%09Mean%20target%09Baseline%20mean_squared_error%09Enriched%20mean_squared_error%09Uplift%0ATrain%0915213%0949.9541%09301.2608650185969%09183.93866725298756%09117.32219776560936%0A'>\n",
              "                    <button>📨 Share</button>\n",
              "                </a>\n",
              "            </div>\n",
              "            <table class='upgini-df'><thead><th>Dataset type</th><th>Rows</th><th>Mean target</th><th>Baseline mean_squared_error</th><th>Enriched mean_squared_error</th><th>Uplift</th></thead><tbody><tr><td class='upgini-text'>Train</td><td class='upgini-number'>15213</td><td class='upgini-number'>49.9541</td><td class='upgini-number'>301.2609</td><td class='upgini-number'>183.9387</td><td class='upgini-number'>117.3222</td></tr></tbody></table>\n",
              "        </div>\n",
              "        "
            ]
          },
          "metadata": {}
        },
        {
          "output_type": "display_data",
          "data": {
            "text/plain": [
              "<IPython.core.display.HTML object>"
            ],
            "text/html": [
              "<a download=\"upgini-report-8ffa1f39-f601-4e2c-bd38-6f0bbb1395a0.pdf\" href=\"data:application/pdf;base64,JVBERi0xLjQKJZOMi54gUmVwb3J0TGFiIEdlbmVyYXRlZCBQREYgZG9jdW1lbnQgaHR0cDovL3d3dy5yZXBvcnRsYWIuY29tCjEgMCBvYmoKPDwKL0YxIDIgMCBSIC9GMiAzIDAgUgo+PgplbmRvYmoKMiAwIG9iago8PAovQmFzZUZvbnQgL0hlbHZldGljYSAvRW5jb2RpbmcgL1dpbkFuc2lFbmNvZGluZyAvTmFtZSAvRjEgL1N1YnR5cGUgL1R5cGUxIC9UeXBlIC9Gb250Cj4+CmVuZG9iagozIDAgb2JqCjw8Ci9CYXNlRm9udCAvSGVsdmV0aWNhLUJvbGQgL0VuY29kaW5nIC9XaW5BbnNpRW5jb2RpbmcgL05hbWUgL0YyIC9TdWJ0eXBlIC9UeXBlMSAvVHlwZSAvRm9udAo+PgplbmRvYmoKNCAwIG9iago8PAovQSA8PAovUyAvVVJJIC9UeXBlIC9BY3Rpb24gL1VSSSAoaHR0cHM6Ly91cGdpbmkuY29tKQo+PiAvQm9yZGVyIFsgMCAwIDAgXSAvUmVjdCBbIDE1IDU0My41MDYxIDI5LjE3IDU1MS4wMDYxIF0gL1N1YnR5cGUgL0xpbmsgL1R5cGUgL0Fubm90Cj4+CmVuZG9iago1IDAgb2JqCjw8Ci9BIDw8Ci9TIC9VUkkgL1R5cGUgL0FjdGlvbiAvVVJJIChodHRwczovL3VwZ2luaS5jb20vI2RhdGFfc291cmNlcykKPj4gL0JvcmRlciBbIDAgMCAwIF0gL1JlY3QgWyAxODAuMSA1NDMuNTA2MSAyMTEuNTA1IDU1MS4wMDYxIF0gL1N1YnR5cGUgL0xpbmsgL1R5cGUgL0Fubm90Cj4+CmVuZG9iago2IDAgb2JqCjw8Ci9BIDw8Ci9TIC9VUkkgL1R5cGUgL0FjdGlvbiAvVVJJIChodHRwczovL3VwZ2luaS5jb20vcmVxdWV0LWEtcXVvdGU/c2VhcmNoLWlkPTlkMDg4MGFhLWQ4NDEtNDdiNi04OGQzLWIxMGZiMGEwYmNkZSkKPj4gL0JvcmRlciBbIDAgMCAwIF0gL1JlY3QgWyA0NzQuMiA1NDMuNTA2MSA1MTAuODkgNTUxLjAwNjEgXSAvU3VidHlwZSAvTGluayAvVHlwZSAvQW5ub3QKPj4KZW5kb2JqCjcgMCBvYmoKPDwKL0EgPDwKL1MgL1VSSSAvVHlwZSAvQWN0aW9uIC9VUkkgKGh0dHBzOi8vdXBnaW5pLmNvbSkKPj4gL0JvcmRlciBbIDAgMCAwIF0gL1JlY3QgWyAxNSA1MjIuMjU2MSAyOS4xNyA1MjkuNzU2MSBdIC9TdWJ0eXBlIC9MaW5rIC9UeXBlIC9Bbm5vdAo+PgplbmRvYmoKOCAwIG9iago8PAovQSA8PAovUyAvVVJJIC9UeXBlIC9BY3Rpb24gL1VSSSAoaHR0cHM6Ly91cGdpbmkuY29tLyNkYXRhX3NvdXJjZXMpCj4+IC9Cb3JkZXIgWyAwIDAgMCBdIC9SZWN0IFsgMTgwLjEgNTI2LjAwNjEgMjExLjUwNSA1MzMuNTA2MSBdIC9TdWJ0eXBlIC9MaW5rIC9UeXBlIC9Bbm5vdAo+PgplbmRvYmoKOSAwIG9iago8PAovQSA8PAovUyAvVVJJIC9UeXBlIC9BY3Rpb24gL1VSSSAoaHR0cHM6Ly91cGdpbmkuY29tLyNkYXRhX3NvdXJjZXMpCj4+IC9Cb3JkZXIgWyAwIDAgMCBdIC9SZWN0IFsgMjEyLjg5NSA1MjYuMDA2MSAyMzAuNjc1IDUzMy41MDYxIF0gL1N1YnR5cGUgL0xpbmsgL1R5cGUgL0Fubm90Cj4+CmVuZG9iagoxMCAwIG9iago8PAovQSA8PAovUyAvVVJJIC9UeXBlIC9BY3Rpb24gL1VSSSAoaHR0cHM6Ly91cGdpbmkuY29tLyNkYXRhX3NvdXJjZXMpCj4+IC9Cb3JkZXIgWyAwIDAgMCBdIC9SZWN0IFsgMTI5LjggNTE4LjUwNjEgMTM5LjUzIDUyNi4wMDYxIF0gL1N1YnR5cGUgL0xpbmsgL1R5cGUgL0Fubm90Cj4+CmVuZG9iagoxMSAwIG9iago8PAovQSA8PAovUyAvVVJJIC9UeXBlIC9BY3Rpb24gL1VSSSAoaHR0cHM6Ly91cGdpbmkuY29tL3JlcXVldC1hLXF1b3RlP3NlYXJjaC1pZD05ZDA4ODBhYS1kODQxLTQ3YjYtODhkMy1iMTBmYjBhMGJjZGUpCj4+IC9Cb3JkZXIgWyAwIDAgMCBdIC9SZWN0IFsgNDc0LjIgNTIyLjI1NjEgNTEwLjg5IDUyOS43NTYxIF0gL1N1YnR5cGUgL0xpbmsgL1R5cGUgL0Fubm90Cj4+CmVuZG9iagoxMiAwIG9iago8PAovQSA8PAovUyAvVVJJIC9UeXBlIC9BY3Rpb24gL1VSSSAoaHR0cHM6Ly91cGdpbmkuY29tKQo+PiAvQm9yZGVyIFsgMCAwIDAgXSAvUmVjdCBbIDE1IDUwMS4wMDYxIDI5LjE3IDUwOC41MDYxIF0gL1N1YnR5cGUgL0xpbmsgL1R5cGUgL0Fubm90Cj4+CmVuZG9iagoxMyAwIG9iago8PAovQSA8PAovUyAvVVJJIC9UeXBlIC9BY3Rpb24gL1VSSSAoaHR0cHM6Ly91cGdpbmkuY29tLyNkYXRhX3NvdXJjZXMpCj4+IC9Cb3JkZXIgWyAwIDAgMCBdIC9SZWN0IFsgMTI5LjggNTAxLjAwNjEgMjAwLjkzNSA1MDguNTA2MSBdIC9TdWJ0eXBlIC9MaW5rIC9UeXBlIC9Bbm5vdAo+PgplbmRvYmoKMTQgMCBvYmoKPDwKL0EgPDwKL1MgL1VSSSAvVHlwZSAvQWN0aW9uIC9VUkkgKGh0dHBzOi8vdXBnaW5pLmNvbS9yZXF1ZXQtYS1xdW90ZT9zZWFyY2gtaWQ9OWQwODgwYWEtZDg0MS00N2I2LTg4ZDMtYjEwZmIwYTBiY2RlKQo+PiAvQm9yZGVyIFsgMCAwIDAgXSAvUmVjdCBbIDQ3NC4yIDUwMS4wMDYxIDUxMC44OSA1MDguNTA2MSBdIC9TdWJ0eXBlIC9MaW5rIC9UeXBlIC9Bbm5vdAo+PgplbmRvYmoKMTUgMCBvYmoKPDwKL0EgPDwKL1MgL1VSSSAvVHlwZSAvQWN0aW9uIC9VUkkgKGh0dHBzOi8vdXBnaW5pLmNvbSkKPj4gL0JvcmRlciBbIDAgMCAwIF0gL1JlY3QgWyAxNSA0ODMuNTA2MSAyOS4xNyA0OTEuMDA2MSBdIC9TdWJ0eXBlIC9MaW5rIC9UeXBlIC9Bbm5vdAo+PgplbmRvYmoKMTYgMCBvYmoKPDwKL0EgPDwKL1MgL1VSSSAvVHlwZSAvQWN0aW9uIC9VUkkgKGh0dHBzOi8vdXBnaW5pLmNvbS8jZGF0YV9zb3VyY2VzKQo+PiAvQm9yZGVyIFsgMCAwIDAgXSAvUmVjdCBbIDE4MC4xIDQ4My41MDYxIDIwOSA0OTEuMDA2MSBdIC9TdWJ0eXBlIC9MaW5rIC9UeXBlIC9Bbm5vdAo+PgplbmRvYmoKMTcgMCBvYmoKPDwKL0EgPDwKL1MgL1VSSSAvVHlwZSAvQWN0aW9uIC9VUkkgKGh0dHBzOi8vdXBnaW5pLmNvbS9yZXF1ZXQtYS1xdW90ZT9zZWFyY2gtaWQ9OWQwODgwYWEtZDg0MS00N2I2LTg4ZDMtYjEwZmIwYTBiY2RlKQo+PiAvQm9yZGVyIFsgMCAwIDAgXSAvUmVjdCBbIDQ3NC4yIDQ4My41MDYxIDUxMC44OSA0OTEuMDA2MSBdIC9TdWJ0eXBlIC9MaW5rIC9UeXBlIC9Bbm5vdAo+PgplbmRvYmoKMTggMCBvYmoKPDwKL0EgPDwKL1MgL1VSSSAvVHlwZSAvQWN0aW9uIC9VUkkgKGh0dHBzOi8vdXBnaW5pLmNvbSkKPj4gL0JvcmRlciBbIDAgMCAwIF0gL1JlY3QgWyAxNSA0NjYuMDA2MSAyOS4xNyA0NzMuNTA2MSBdIC9TdWJ0eXBlIC9MaW5rIC9UeXBlIC9Bbm5vdAo+PgplbmRvYmoKMTkgMCBvYmoKPDwKL0EgPDwKL1MgL1VSSSAvVHlwZSAvQWN0aW9uIC9VUkkgKGh0dHBzOi8vdXBnaW5pLmNvbS8jZGF0YV9zb3VyY2VzKQo+PiAvQm9yZGVyIFsgMCAwIDAgXSAvUmVjdCBbIDEyOS44IDQ2Ni4wMDYxIDE2MS4yMDUgNDczLjUwNjEgXSAvU3VidHlwZSAvTGluayAvVHlwZSAvQW5ub3QKPj4KZW5kb2JqCjIwIDAgb2JqCjw8Ci9BIDw8Ci9TIC9VUkkgL1R5cGUgL0FjdGlvbiAvVVJJIChodHRwczovL3VwZ2luaS5jb20vcmVxdWV0LWEtcXVvdGU/c2VhcmNoLWlkPTlkMDg4MGFhLWQ4NDEtNDdiNi04OGQzLWIxMGZiMGEwYmNkZSkKPj4gL0JvcmRlciBbIDAgMCAwIF0gL1JlY3QgWyA0NzQuMiA0NjYuMDA2MSA1MTAuODkgNDczLjUwNjEgXSAvU3VidHlwZSAvTGluayAvVHlwZSAvQW5ub3QKPj4KZW5kb2JqCjIxIDAgb2JqCjw8Ci9BIDw8Ci9TIC9VUkkgL1R5cGUgL0FjdGlvbiAvVVJJIChodHRwczovL3VwZ2luaS5jb20pCj4+IC9Cb3JkZXIgWyAwIDAgMCBdIC9SZWN0IFsgMTUgNDQ4LjUwNjEgMjkuMTcgNDU2LjAwNjEgXSAvU3VidHlwZSAvTGluayAvVHlwZSAvQW5ub3QKPj4KZW5kb2JqCjIyIDAgb2JqCjw8Ci9BIDw8Ci9TIC9VUkkgL1R5cGUgL0FjdGlvbiAvVVJJIChodHRwczovL3VwZ2luaS5jb20vI2RhdGFfc291cmNlcykKPj4gL0JvcmRlciBbIDAgMCAwIF0gL1JlY3QgWyAxMjkuOCA0NDguNTA2MSAxNTguNyA0NTYuMDA2MSBdIC9TdWJ0eXBlIC9MaW5rIC9UeXBlIC9Bbm5vdAo+PgplbmRvYmoKMjMgMCBvYmoKPDwKL0EgPDwKL1MgL1VSSSAvVHlwZSAvQWN0aW9uIC9VUkkgKGh0dHBzOi8vdXBnaW5pLmNvbS9yZXF1ZXQtYS1xdW90ZT9zZWFyY2gtaWQ9OWQwODgwYWEtZDg0MS00N2I2LTg4ZDMtYjEwZmIwYTBiY2RlKQo+PiAvQm9yZGVyIFsgMCAwIDAgXSAvUmVjdCBbIDQ3NC4yIDQ0OC41MDYxIDUxMC44OSA0NTYuMDA2MSBdIC9TdWJ0eXBlIC9MaW5rIC9UeXBlIC9Bbm5vdAo+PgplbmRvYmoKMjQgMCBvYmoKPDwKL0EgPDwKL1MgL1VSSSAvVHlwZSAvQWN0aW9uIC9VUkkgKGh0dHBzOi8vdXBnaW5pLmNvbSkKPj4gL0JvcmRlciBbIDAgMCAwIF0gL1JlY3QgWyAxNSA0MzEuMDA2MSAyOS4xNyA0MzguNTA2MSBdIC9TdWJ0eXBlIC9MaW5rIC9UeXBlIC9Bbm5vdAo+PgplbmRvYmoKMjUgMCBvYmoKPDwKL0EgPDwKL1MgL1VSSSAvVHlwZSAvQWN0aW9uIC9VUkkgKGh0dHBzOi8vdXBnaW5pLmNvbS8jZGF0YV9zb3VyY2VzKQo+PiAvQm9yZGVyIFsgMCAwIDAgXSAvUmVjdCBbIDE3Ny42IDQzMS4wMDYxIDIwNi41IDQzOC41MDYxIF0gL1N1YnR5cGUgL0xpbmsgL1R5cGUgL0Fubm90Cj4+CmVuZG9iagoyNiAwIG9iago8PAovQSA8PAovUyAvVVJJIC9UeXBlIC9BY3Rpb24gL1VSSSAoaHR0cHM6Ly91cGdpbmkuY29tL3JlcXVldC1hLXF1b3RlP3NlYXJjaC1pZD05ZDA4ODBhYS1kODQxLTQ3YjYtODhkMy1iMTBmYjBhMGJjZGUpCj4+IC9Cb3JkZXIgWyAwIDAgMCBdIC9SZWN0IFsgNDc0LjIgNDMxLjAwNjEgNTEwLjg5IDQzOC41MDYxIF0gL1N1YnR5cGUgL0xpbmsgL1R5cGUgL0Fubm90Cj4+CmVuZG9iagoyNyAwIG9iago8PAovQSA8PAovUyAvVVJJIC9UeXBlIC9BY3Rpb24gL1VSSSAoaHR0cHM6Ly91cGdpbmkuY29tKQo+PiAvQm9yZGVyIFsgMCAwIDAgXSAvUmVjdCBbIDE1IDQxMy41MDYxIDI5LjE3IDQyMS4wMDYxIF0gL1N1YnR5cGUgL0xpbmsgL1R5cGUgL0Fubm90Cj4+CmVuZG9iagoyOCAwIG9iago8PAovQSA8PAovUyAvVVJJIC9UeXBlIC9BY3Rpb24gL1VSSSAoaHR0cHM6Ly91cGdpbmkuY29tLyNkYXRhX3NvdXJjZXMpCj4+IC9Cb3JkZXIgWyAwIDAgMCBdIC9SZWN0IFsgMTI5LjggNDEzLjUwNjEgMTg4LjQyNSA0MjEuMDA2MSBdIC9TdWJ0eXBlIC9MaW5rIC9UeXBlIC9Bbm5vdAo+PgplbmRvYmoKMjkgMCBvYmoKPDwKL0EgPDwKL1MgL1VSSSAvVHlwZSAvQWN0aW9uIC9VUkkgKGh0dHBzOi8vdXBnaW5pLmNvbS9yZXF1ZXQtYS1xdW90ZT9zZWFyY2gtaWQ9OWQwODgwYWEtZDg0MS00N2I2LTg4ZDMtYjEwZmIwYTBiY2RlKQo+PiAvQm9yZGVyIFsgMCAwIDAgXSAvUmVjdCBbIDQ3NC4yIDQxMy41MDYxIDUxMC44OSA0MjEuMDA2MSBdIC9TdWJ0eXBlIC9MaW5rIC9UeXBlIC9Bbm5vdAo+PgplbmRvYmoKMzAgMCBvYmoKPDwKL0EgPDwKL1MgL1VSSSAvVHlwZSAvQWN0aW9uIC9VUkkgKGh0dHBzOi8vdXBnaW5pLmNvbS8jZGF0YV9zb3VyY2VzKQo+PiAvQm9yZGVyIFsgMCAwIDAgXSAvUmVjdCBbIDQ3NS4zIDM0OC4xNTY0IDQ5NS41ODUgMzU1LjY1NjQgXSAvU3VidHlwZSAvTGluayAvVHlwZSAvQW5ub3QKPj4KZW5kb2JqCjMxIDAgb2JqCjw8Ci9BIDw8Ci9TIC9VUkkgL1R5cGUgL0FjdGlvbiAvVVJJIChodHRwczovL3VwZ2luaS5jb20vI2RhdGFfc291cmNlcykKPj4gL0JvcmRlciBbIDAgMCAwIF0gL1JlY3QgWyA0MjUgMzQwLjY1NjQgNDM0LjczIDM0OC4xNTY0IF0gL1N1YnR5cGUgL0xpbmsgL1R5cGUgL0Fubm90Cj4+CmVuZG9iagozMiAwIG9iago8PAovQSA8PAovUyAvVVJJIC9UeXBlIC9BY3Rpb24gL1VSSSAoaHR0cHM6Ly91cGdpbmkuY29tLyNkYXRhX3NvdXJjZXMpCj4+IC9Cb3JkZXIgWyAwIDAgMCBdIC9SZWN0IFsgNDc1LjMgMzIzLjE1NjQgNDk1LjU4NSAzMzAuNjU2NCBdIC9TdWJ0eXBlIC9MaW5rIC9UeXBlIC9Bbm5vdAo+PgplbmRvYmoKMzMgMCBvYmoKPDwKL0EgPDwKL1MgL1VSSSAvVHlwZSAvQWN0aW9uIC9VUkkgKGh0dHBzOi8vdXBnaW5pLmNvbS8jZGF0YV9zb3VyY2VzKQo+PiAvQm9yZGVyIFsgMCAwIDAgXSAvUmVjdCBbIDQyNSAzMTUuNjU2NCA0MzQuNzMgMzIzLjE1NjQgXSAvU3VidHlwZSAvTGluayAvVHlwZSAvQW5ub3QKPj4KZW5kb2JqCjM0IDAgb2JqCjw8Ci9BIDw8Ci9TIC9VUkkgL1R5cGUgL0FjdGlvbiAvVVJJIChodHRwczovL3VwZ2luaS5jb20vI2RhdGFfc291cmNlcykKPj4gL0JvcmRlciBbIDAgMCAwIF0gL1JlY3QgWyA0NzUuMyAyOTguMTU2NCA0OTUuNTg1IDMwNS42NTY0IF0gL1N1YnR5cGUgL0xpbmsgL1R5cGUgL0Fubm90Cj4+CmVuZG9iagozNSAwIG9iago8PAovQSA8PAovUyAvVVJJIC9UeXBlIC9BY3Rpb24gL1VSSSAoaHR0cHM6Ly91cGdpbmkuY29tLyNkYXRhX3NvdXJjZXMpCj4+IC9Cb3JkZXIgWyAwIDAgMCBdIC9SZWN0IFsgNDI1IDI5MC42NTY0IDQzNC43MyAyOTguMTU2NCBdIC9TdWJ0eXBlIC9MaW5rIC9UeXBlIC9Bbm5vdAo+PgplbmRvYmoKMzYgMCBvYmoKPDwKL0EgPDwKL1MgL1VSSSAvVHlwZSAvQWN0aW9uIC9VUkkgKGh0dHBzOi8vdXBnaW5pLmNvbS8jZGF0YV9zb3VyY2VzKQo+PiAvQm9yZGVyIFsgMCAwIDAgXSAvUmVjdCBbIDQ3NS4zIDI3My4xNTY0IDQ5NS41ODUgMjgwLjY1NjQgXSAvU3VidHlwZSAvTGluayAvVHlwZSAvQW5ub3QKPj4KZW5kb2JqCjM3IDAgb2JqCjw8Ci9BIDw8Ci9TIC9VUkkgL1R5cGUgL0FjdGlvbiAvVVJJIChodHRwczovL3VwZ2luaS5jb20vI2RhdGFfc291cmNlcykKPj4gL0JvcmRlciBbIDAgMCAwIF0gL1JlY3QgWyA0MjUgMjY1LjY1NjQgNDM0LjczIDI3My4xNTY0IF0gL1N1YnR5cGUgL0xpbmsgL1R5cGUgL0Fubm90Cj4+CmVuZG9iagozOCAwIG9iago8PAovQSA8PAovUyAvVVJJIC9UeXBlIC9BY3Rpb24gL1VSSSAoaHR0cHM6Ly91cGdpbmkuY29tLyNkYXRhX3NvdXJjZXMpCj4+IC9Cb3JkZXIgWyAwIDAgMCBdIC9SZWN0IFsgNDc1LjMgMjIzLjE1NjQgNDk1LjU4NSAyMzAuNjU2NCBdIC9TdWJ0eXBlIC9MaW5rIC9UeXBlIC9Bbm5vdAo+PgplbmRvYmoKMzkgMCBvYmoKPDwKL0EgPDwKL1MgL1VSSSAvVHlwZSAvQWN0aW9uIC9VUkkgKGh0dHBzOi8vdXBnaW5pLmNvbS8jZGF0YV9zb3VyY2VzKQo+PiAvQm9yZGVyIFsgMCAwIDAgXSAvUmVjdCBbIDQyNSAyMTUuNjU2NCA0MzQuNzMgMjIzLjE1NjQgXSAvU3VidHlwZSAvTGluayAvVHlwZSAvQW5ub3QKPj4KZW5kb2JqCjQwIDAgb2JqCjw8Ci9BIDw8Ci9TIC9VUkkgL1R5cGUgL0FjdGlvbiAvVVJJIChodHRwczovL3VwZ2luaS5jb20vI2RhdGFfc291cmNlcykKPj4gL0JvcmRlciBbIDAgMCAwIF0gL1JlY3QgWyA0MzYuMTIgMjE1LjY1NjQgNDY1LjAyIDIyMy4xNTY0IF0gL1N1YnR5cGUgL0xpbmsgL1R5cGUgL0Fubm90Cj4+CmVuZG9iago0MSAwIG9iago8PAovQSA8PAovUyAvVVJJIC9UeXBlIC9BY3Rpb24gL1VSSSAoaHR0cHM6Ly91cGdpbmkuY29tLyNkYXRhX3NvdXJjZXMpCj4+IC9Cb3JkZXIgWyAwIDAgMCBdIC9SZWN0IFsgNDc1LjMgMTk4LjE1NjQgNDk1LjU4NSAyMDUuNjU2NCBdIC9TdWJ0eXBlIC9MaW5rIC9UeXBlIC9Bbm5vdAo+PgplbmRvYmoKNDIgMCBvYmoKPDwKL0EgPDwKL1MgL1VSSSAvVHlwZSAvQWN0aW9uIC9VUkkgKGh0dHBzOi8vdXBnaW5pLmNvbS8jZGF0YV9zb3VyY2VzKQo+PiAvQm9yZGVyIFsgMCAwIDAgXSAvUmVjdCBbIDQyNSAxOTAuNjU2NCA0MzQuNzMgMTk4LjE1NjQgXSAvU3VidHlwZSAvTGluayAvVHlwZSAvQW5ub3QKPj4KZW5kb2JqCjQzIDAgb2JqCjw8Ci9BIDw8Ci9TIC9VUkkgL1R5cGUgL0FjdGlvbiAvVVJJIChodHRwczovL3VwZ2luaS5jb20vI2RhdGFfc291cmNlcykKPj4gL0JvcmRlciBbIDAgMCAwIF0gL1JlY3QgWyA0MzYuMTIgMTkwLjY1NjQgNDY1LjAyIDE5OC4xNTY0IF0gL1N1YnR5cGUgL0xpbmsgL1R5cGUgL0Fubm90Cj4+CmVuZG9iago0NCAwIG9iago8PAovQSA8PAovUyAvVVJJIC9UeXBlIC9BY3Rpb24gL1VSSSAoaHR0cHM6Ly91cGdpbmkuY29tLyNkYXRhX3NvdXJjZXMpCj4+IC9Cb3JkZXIgWyAwIDAgMCBdIC9SZWN0IFsgNDc1LjMgMTczLjE1NjQgNDk1LjU4NSAxODAuNjU2NCBdIC9TdWJ0eXBlIC9MaW5rIC9UeXBlIC9Bbm5vdAo+PgplbmRvYmoKNDUgMCBvYmoKPDwKL0EgPDwKL1MgL1VSSSAvVHlwZSAvQWN0aW9uIC9VUkkgKGh0dHBzOi8vdXBnaW5pLmNvbS8jZGF0YV9zb3VyY2VzKQo+PiAvQm9yZGVyIFsgMCAwIDAgXSAvUmVjdCBbIDQyNSAxNjUuNjU2NCA0MzQuNzMgMTczLjE1NjQgXSAvU3VidHlwZSAvTGluayAvVHlwZSAvQW5ub3QKPj4KZW5kb2JqCjQ2IDAgb2JqCjw8Ci9BIDw8Ci9TIC9VUkkgL1R5cGUgL0FjdGlvbiAvVVJJIChodHRwczovL3VwZ2luaS5jb20vI2RhdGFfc291cmNlcykKPj4gL0JvcmRlciBbIDAgMCAwIF0gL1JlY3QgWyA0MzYuMTIgMTY1LjY1NjQgNDY1LjAyIDE3My4xNTY0IF0gL1N1YnR5cGUgL0xpbmsgL1R5cGUgL0Fubm90Cj4+CmVuZG9iago0NyAwIG9iago8PAovQSA8PAovUyAvVVJJIC9UeXBlIC9BY3Rpb24gL1VSSSAoaHR0cHM6Ly91cGdpbmkuY29tLyNkYXRhX3NvdXJjZXMpCj4+IC9Cb3JkZXIgWyAwIDAgMCBdIC9SZWN0IFsgNDc1LjMgMTQ4LjE1NjQgNDk1LjU4NSAxNTUuNjU2NCBdIC9TdWJ0eXBlIC9MaW5rIC9UeXBlIC9Bbm5vdAo+PgplbmRvYmoKNDggMCBvYmoKPDwKL0EgPDwKL1MgL1VSSSAvVHlwZSAvQWN0aW9uIC9VUkkgKGh0dHBzOi8vdXBnaW5pLmNvbS8jZGF0YV9zb3VyY2VzKQo+PiAvQm9yZGVyIFsgMCAwIDAgXSAvUmVjdCBbIDQyNSAxNDAuNjU2NCA0MzQuNzMgMTQ4LjE1NjQgXSAvU3VidHlwZSAvTGluayAvVHlwZSAvQW5ub3QKPj4KZW5kb2JqCjQ5IDAgb2JqCjw8Ci9BIDw8Ci9TIC9VUkkgL1R5cGUgL0FjdGlvbiAvVVJJIChodHRwczovL3VwZ2luaS5jb20vI2RhdGFfc291cmNlcykKPj4gL0JvcmRlciBbIDAgMCAwIF0gL1JlY3QgWyA0MzYuMTIgMTQwLjY1NjQgNDY1LjAyIDE0OC4xNTY0IF0gL1N1YnR5cGUgL0xpbmsgL1R5cGUgL0Fubm90Cj4+CmVuZG9iago1MCAwIG9iago8PAovQSA8PAovUyAvVVJJIC9UeXBlIC9BY3Rpb24gL1VSSSAoaHR0cHM6Ly91cGdpbmkuY29tLyNkYXRhX3NvdXJjZXMpCj4+IC9Cb3JkZXIgWyAwIDAgMCBdIC9SZWN0IFsgNDc1LjMgOTguMTU2MzkgNDk1LjU4NSAxMDUuNjU2NCBdIC9TdWJ0eXBlIC9MaW5rIC9UeXBlIC9Bbm5vdAo+PgplbmRvYmoKNTEgMCBvYmoKPDwKL0EgPDwKL1MgL1VSSSAvVHlwZSAvQWN0aW9uIC9VUkkgKGh0dHBzOi8vdXBnaW5pLmNvbS8jZGF0YV9zb3VyY2VzKQo+PiAvQm9yZGVyIFsgMCAwIDAgXSAvUmVjdCBbIDQyNSA5MC42NTYzOSA0MzQuNzMgOTguMTU2MzkgXSAvU3VidHlwZSAvTGluayAvVHlwZSAvQW5ub3QKPj4KZW5kb2JqCjUyIDAgb2JqCjw8Ci9BIDw8Ci9TIC9VUkkgL1R5cGUgL0FjdGlvbiAvVVJJIChodHRwczovL3VwZ2luaS5jb20vI2RhdGFfc291cmNlcykKPj4gL0JvcmRlciBbIDAgMCAwIF0gL1JlY3QgWyA0NzUuMyA3My4xNTYzOSA0OTUuNTg1IDgwLjY1NjM5IF0gL1N1YnR5cGUgL0xpbmsgL1R5cGUgL0Fubm90Cj4+CmVuZG9iago1MyAwIG9iago8PAovQSA8PAovUyAvVVJJIC9UeXBlIC9BY3Rpb24gL1VSSSAoaHR0cHM6Ly91cGdpbmkuY29tLyNkYXRhX3NvdXJjZXMpCj4+IC9Cb3JkZXIgWyAwIDAgMCBdIC9SZWN0IFsgNDI1IDY1LjY1NjM5IDQzNC43MyA3My4xNTYzOSBdIC9TdWJ0eXBlIC9MaW5rIC9UeXBlIC9Bbm5vdAo+PgplbmRvYmoKNTQgMCBvYmoKPDwKL0EgPDwKL1MgL1VSSSAvVHlwZSAvQWN0aW9uIC9VUkkgKGh0dHBzOi8vdXBnaW5pLmNvbS8jZGF0YV9zb3VyY2VzKQo+PiAvQm9yZGVyIFsgMCAwIDAgXSAvUmVjdCBbIDQzNi4xMiA2NS42NTYzOSA0NjUuMDIgNzMuMTU2MzkgXSAvU3VidHlwZSAvTGluayAvVHlwZSAvQW5ub3QKPj4KZW5kb2JqCjU1IDAgb2JqCjw8Ci9Bbm5vdHMgWyA0IDAgUiA1IDAgUiA2IDAgUiA3IDAgUiA4IDAgUiA5IDAgUiAxMCAwIFIgMTEgMCBSIDEyIDAgUiAxMyAwIFIgCiAgMTQgMCBSIDE1IDAgUiAxNiAwIFIgMTcgMCBSIDE4IDAgUiAxOSAwIFIgMjAgMCBSIDIxIDAgUiAyMiAwIFIgMjMgMCBSIAogIDI0IDAgUiAyNSAwIFIgMjYgMCBSIDI3IDAgUiAyOCAwIFIgMjkgMCBSIDMwIDAgUiAzMSAwIFIgMzIgMCBSIDMzIDAgUiAKICAzNCAwIFIgMzUgMCBSIDM2IDAgUiAzNyAwIFIgMzggMCBSIDM5IDAgUiA0MCAwIFIgNDEgMCBSIDQyIDAgUiA0MyAwIFIgCiAgNDQgMCBSIDQ1IDAgUiA0NiAwIFIgNDcgMCBSIDQ4IDAgUiA0OSAwIFIgNTAgMCBSIDUxIDAgUiA1MiAwIFIgNTMgMCBSIAogIDU0IDAgUiBdIC9Db250ZW50cyAxNjggMCBSIC9NZWRpYUJveCBbIDAgMCA1OTUuMjc1NiA4NDEuODg5OCBdIC9QYXJlbnQgMTY3IDAgUiAvUmVzb3VyY2VzIDw8Ci9Gb250IDEgMCBSIC9Qcm9jU2V0IFsgL1BERiAvVGV4dCAvSW1hZ2VCIC9JbWFnZUMgL0ltYWdlSSBdCj4+IC9Sb3RhdGUgMCAKICAvVHJhbnMgPDwKCj4+IC9UeXBlIC9QYWdlCj4+CmVuZG9iago1NiAwIG9iago8PAovQSA8PAovUyAvVVJJIC9UeXBlIC9BY3Rpb24gL1VSSSAoaHR0cHM6Ly91cGdpbmkuY29tLyNkYXRhX3NvdXJjZXMpCj4+IC9Cb3JkZXIgWyAwIDAgMCBdIC9SZWN0IFsgNDc1LjMgNzgyLjY3NDggNDk1LjU4NSA3OTAuMTc0OCBdIC9TdWJ0eXBlIC9MaW5rIC9UeXBlIC9Bbm5vdAo+PgplbmRvYmoKNTcgMCBvYmoKPDwKL0EgPDwKL1MgL1VSSSAvVHlwZSAvQWN0aW9uIC9VUkkgKGh0dHBzOi8vdXBnaW5pLmNvbS8jZGF0YV9zb3VyY2VzKQo+PiAvQm9yZGVyIFsgMCAwIDAgXSAvUmVjdCBbIDQyNSA3NzUuMTc0OCA0MzQuNzMgNzgyLjY3NDggXSAvU3VidHlwZSAvTGluayAvVHlwZSAvQW5ub3QKPj4KZW5kb2JqCjU4IDAgb2JqCjw8Ci9BIDw8Ci9TIC9VUkkgL1R5cGUgL0FjdGlvbiAvVVJJIChodHRwczovL3VwZ2luaS5jb20vI2RhdGFfc291cmNlcykKPj4gL0JvcmRlciBbIDAgMCAwIF0gL1JlY3QgWyA0NzUuMyA3NTcuNjc0OCA0OTUuNTg1IDc2NS4xNzQ4IF0gL1N1YnR5cGUgL0xpbmsgL1R5cGUgL0Fubm90Cj4+CmVuZG9iago1OSAwIG9iago8PAovQSA8PAovUyAvVVJJIC9UeXBlIC9BY3Rpb24gL1VSSSAoaHR0cHM6Ly91cGdpbmkuY29tLyNkYXRhX3NvdXJjZXMpCj4+IC9Cb3JkZXIgWyAwIDAgMCBdIC9SZWN0IFsgNDI1IDc1MC4xNzQ4IDQzNC43MyA3NTcuNjc0OCBdIC9TdWJ0eXBlIC9MaW5rIC9UeXBlIC9Bbm5vdAo+PgplbmRvYmoKNjAgMCBvYmoKPDwKL0EgPDwKL1MgL1VSSSAvVHlwZSAvQWN0aW9uIC9VUkkgKGh0dHBzOi8vdXBnaW5pLmNvbS8jZGF0YV9zb3VyY2VzKQo+PiAvQm9yZGVyIFsgMCAwIDAgXSAvUmVjdCBbIDQ3NS4zIDczMi42NzQ4IDQ5NS41ODUgNzQwLjE3NDggXSAvU3VidHlwZSAvTGluayAvVHlwZSAvQW5ub3QKPj4KZW5kb2JqCjYxIDAgb2JqCjw8Ci9BIDw8Ci9TIC9VUkkgL1R5cGUgL0FjdGlvbiAvVVJJIChodHRwczovL3VwZ2luaS5jb20vI2RhdGFfc291cmNlcykKPj4gL0JvcmRlciBbIDAgMCAwIF0gL1JlY3QgWyA0MjUgNzI1LjE3NDggNDM0LjczIDczMi42NzQ4IF0gL1N1YnR5cGUgL0xpbmsgL1R5cGUgL0Fubm90Cj4+CmVuZG9iago2MiAwIG9iago8PAovQSA8PAovUyAvVVJJIC9UeXBlIC9BY3Rpb24gL1VSSSAoaHR0cHM6Ly91cGdpbmkuY29tLyNkYXRhX3NvdXJjZXMpCj4+IC9Cb3JkZXIgWyAwIDAgMCBdIC9SZWN0IFsgNDc1LjMgNzA3LjY3NDggNDk1LjU4NSA3MTUuMTc0OCBdIC9TdWJ0eXBlIC9MaW5rIC9UeXBlIC9Bbm5vdAo+PgplbmRvYmoKNjMgMCBvYmoKPDwKL0EgPDwKL1MgL1VSSSAvVHlwZSAvQWN0aW9uIC9VUkkgKGh0dHBzOi8vdXBnaW5pLmNvbS8jZGF0YV9zb3VyY2VzKQo+PiAvQm9yZGVyIFsgMCAwIDAgXSAvUmVjdCBbIDQyNSA3MDAuMTc0OCA0MzQuNzMgNzA3LjY3NDggXSAvU3VidHlwZSAvTGluayAvVHlwZSAvQW5ub3QKPj4KZW5kb2JqCjY0IDAgb2JqCjw8Ci9BIDw8Ci9TIC9VUkkgL1R5cGUgL0FjdGlvbiAvVVJJIChodHRwczovL3VwZ2luaS5jb20vI2RhdGFfc291cmNlcykKPj4gL0JvcmRlciBbIDAgMCAwIF0gL1JlY3QgWyA0MzYuMTIgNzAwLjE3NDggNDY1LjAyIDcwNy42NzQ4IF0gL1N1YnR5cGUgL0xpbmsgL1R5cGUgL0Fubm90Cj4+CmVuZG9iago2NSAwIG9iago8PAovQSA8PAovUyAvVVJJIC9UeXBlIC9BY3Rpb24gL1VSSSAoaHR0cHM6Ly91cGdpbmkuY29tLyNkYXRhX3NvdXJjZXMpCj4+IC9Cb3JkZXIgWyAwIDAgMCBdIC9SZWN0IFsgNDc1LjMgNjgyLjY3NDggNDk1LjU4NSA2OTAuMTc0OCBdIC9TdWJ0eXBlIC9MaW5rIC9UeXBlIC9Bbm5vdAo+PgplbmRvYmoKNjYgMCBvYmoKPDwKL0EgPDwKL1MgL1VSSSAvVHlwZSAvQWN0aW9uIC9VUkkgKGh0dHBzOi8vdXBnaW5pLmNvbS8jZGF0YV9zb3VyY2VzKQo+PiAvQm9yZGVyIFsgMCAwIDAgXSAvUmVjdCBbIDQyNSA2NzUuMTc0OCA0MzQuNzMgNjgyLjY3NDggXSAvU3VidHlwZSAvTGluayAvVHlwZSAvQW5ub3QKPj4KZW5kb2JqCjY3IDAgb2JqCjw8Ci9BIDw8Ci9TIC9VUkkgL1R5cGUgL0FjdGlvbiAvVVJJIChodHRwczovL3VwZ2luaS5jb20vI2RhdGFfc291cmNlcykKPj4gL0JvcmRlciBbIDAgMCAwIF0gL1JlY3QgWyA0MzYuMTIgNjc1LjE3NDggNDY1LjAyIDY4Mi42NzQ4IF0gL1N1YnR5cGUgL0xpbmsgL1R5cGUgL0Fubm90Cj4+CmVuZG9iago2OCAwIG9iago8PAovQSA8PAovUyAvVVJJIC9UeXBlIC9BY3Rpb24gL1VSSSAoaHR0cHM6Ly91cGdpbmkuY29tLyNkYXRhX3NvdXJjZXMpCj4+IC9Cb3JkZXIgWyAwIDAgMCBdIC9SZWN0IFsgNDc1LjMgNjMyLjY3NDggNDk1LjU4NSA2NDAuMTc0OCBdIC9TdWJ0eXBlIC9MaW5rIC9UeXBlIC9Bbm5vdAo+PgplbmRvYmoKNjkgMCBvYmoKPDwKL0EgPDwKL1MgL1VSSSAvVHlwZSAvQWN0aW9uIC9VUkkgKGh0dHBzOi8vdXBnaW5pLmNvbS8jZGF0YV9zb3VyY2VzKQo+PiAvQm9yZGVyIFsgMCAwIDAgXSAvUmVjdCBbIDQyNSA2MjUuMTc0OCA0MzQuNzMgNjMyLjY3NDggXSAvU3VidHlwZSAvTGluayAvVHlwZSAvQW5ub3QKPj4KZW5kb2JqCjcwIDAgb2JqCjw8Ci9BIDw8Ci9TIC9VUkkgL1R5cGUgL0FjdGlvbiAvVVJJIChodHRwczovL3VwZ2luaS5jb20vI2RhdGFfc291cmNlcykKPj4gL0JvcmRlciBbIDAgMCAwIF0gL1JlY3QgWyA0NzUuMyA2MDcuNjc0OCA0OTUuNTg1IDYxNS4xNzQ4IF0gL1N1YnR5cGUgL0xpbmsgL1R5cGUgL0Fubm90Cj4+CmVuZG9iago3MSAwIG9iago8PAovQSA8PAovUyAvVVJJIC9UeXBlIC9BY3Rpb24gL1VSSSAoaHR0cHM6Ly91cGdpbmkuY29tLyNkYXRhX3NvdXJjZXMpCj4+IC9Cb3JkZXIgWyAwIDAgMCBdIC9SZWN0IFsgNDI1IDYwMC4xNzQ4IDQzNC43MyA2MDcuNjc0OCBdIC9TdWJ0eXBlIC9MaW5rIC9UeXBlIC9Bbm5vdAo+PgplbmRvYmoKNzIgMCBvYmoKPDwKL0EgPDwKL1MgL1VSSSAvVHlwZSAvQWN0aW9uIC9VUkkgKGh0dHBzOi8vdXBnaW5pLmNvbS8jZGF0YV9zb3VyY2VzKQo+PiAvQm9yZGVyIFsgMCAwIDAgXSAvUmVjdCBbIDQ3NS4zIDU4Mi42NzQ4IDQ5NS41ODUgNTkwLjE3NDggXSAvU3VidHlwZSAvTGluayAvVHlwZSAvQW5ub3QKPj4KZW5kb2JqCjczIDAgb2JqCjw8Ci9BIDw8Ci9TIC9VUkkgL1R5cGUgL0FjdGlvbiAvVVJJIChodHRwczovL3VwZ2luaS5jb20vI2RhdGFfc291cmNlcykKPj4gL0JvcmRlciBbIDAgMCAwIF0gL1JlY3QgWyA0MjUgNTc1LjE3NDggNDM0LjczIDU4Mi42NzQ4IF0gL1N1YnR5cGUgL0xpbmsgL1R5cGUgL0Fubm90Cj4+CmVuZG9iago3NCAwIG9iago8PAovQSA8PAovUyAvVVJJIC9UeXBlIC9BY3Rpb24gL1VSSSAoaHR0cHM6Ly91cGdpbmkuY29tLyNkYXRhX3NvdXJjZXMpCj4+IC9Cb3JkZXIgWyAwIDAgMCBdIC9SZWN0IFsgNDM2LjEyIDU3NS4xNzQ4IDQ2NS4wMiA1ODIuNjc0OCBdIC9TdWJ0eXBlIC9MaW5rIC9UeXBlIC9Bbm5vdAo+PgplbmRvYmoKNzUgMCBvYmoKPDwKL0EgPDwKL1MgL1VSSSAvVHlwZSAvQWN0aW9uIC9VUkkgKGh0dHBzOi8vdXBnaW5pLmNvbS8jZGF0YV9zb3VyY2VzKQo+PiAvQm9yZGVyIFsgMCAwIDAgXSAvUmVjdCBbIDQ3NS4zIDU1Ny42NzQ4IDQ5NS41ODUgNTY1LjE3NDggXSAvU3VidHlwZSAvTGluayAvVHlwZSAvQW5ub3QKPj4KZW5kb2JqCjc2IDAgb2JqCjw8Ci9BIDw8Ci9TIC9VUkkgL1R5cGUgL0FjdGlvbiAvVVJJIChodHRwczovL3VwZ2luaS5jb20vI2RhdGFfc291cmNlcykKPj4gL0JvcmRlciBbIDAgMCAwIF0gL1JlY3QgWyA0MjUgNTUwLjE3NDggNDM0LjczIDU1Ny42NzQ4IF0gL1N1YnR5cGUgL0xpbmsgL1R5cGUgL0Fubm90Cj4+CmVuZG9iago3NyAwIG9iago8PAovQSA8PAovUyAvVVJJIC9UeXBlIC9BY3Rpb24gL1VSSSAoaHR0cHM6Ly91cGdpbmkuY29tLyNkYXRhX3NvdXJjZXMpCj4+IC9Cb3JkZXIgWyAwIDAgMCBdIC9SZWN0IFsgNDM2LjEyIDU1MC4xNzQ4IDQ2NS4wMiA1NTcuNjc0OCBdIC9TdWJ0eXBlIC9MaW5rIC9UeXBlIC9Bbm5vdAo+PgplbmRvYmoKNzggMCBvYmoKPDwKL0EgPDwKL1MgL1VSSSAvVHlwZSAvQWN0aW9uIC9VUkkgKGh0dHBzOi8vdXBnaW5pLmNvbS8jZGF0YV9zb3VyY2VzKQo+PiAvQm9yZGVyIFsgMCAwIDAgXSAvUmVjdCBbIDQ3NS4zIDUzMi42NzQ4IDQ5My4wOCA1NDAuMTc0OCBdIC9TdWJ0eXBlIC9MaW5rIC9UeXBlIC9Bbm5vdAo+PgplbmRvYmoKNzkgMCBvYmoKPDwKL0EgPDwKL1MgL1VSSSAvVHlwZSAvQWN0aW9uIC9VUkkgKGh0dHBzOi8vdXBnaW5pLmNvbS8jZGF0YV9zb3VyY2VzKQo+PiAvQm9yZGVyIFsgMCAwIDAgXSAvUmVjdCBbIDQyNSA1MjUuMTc0OCA0MzQuNzMgNTMyLjY3NDggXSAvU3VidHlwZSAvTGluayAvVHlwZSAvQW5ub3QKPj4KZW5kb2JqCjgwIDAgb2JqCjw8Ci9BIDw8Ci9TIC9VUkkgL1R5cGUgL0FjdGlvbiAvVVJJIChodHRwczovL3VwZ2luaS5jb20vI2RhdGFfc291cmNlcykKPj4gL0JvcmRlciBbIDAgMCAwIF0gL1JlY3QgWyA0NzUuMyA1MDcuNjc0OCA0OTMuMDggNTE1LjE3NDggXSAvU3VidHlwZSAvTGluayAvVHlwZSAvQW5ub3QKPj4KZW5kb2JqCjgxIDAgb2JqCjw8Ci9BIDw8Ci9TIC9VUkkgL1R5cGUgL0FjdGlvbiAvVVJJIChodHRwczovL3VwZ2luaS5jb20vI2RhdGFfc291cmNlcykKPj4gL0JvcmRlciBbIDAgMCAwIF0gL1JlY3QgWyA0MjUgNTAwLjE3NDggNDM0LjczIDUwNy42NzQ4IF0gL1N1YnR5cGUgL0xpbmsgL1R5cGUgL0Fubm90Cj4+CmVuZG9iago4MiAwIG9iago8PAovQSA8PAovUyAvVVJJIC9UeXBlIC9BY3Rpb24gL1VSSSAoaHR0cHM6Ly91cGdpbmkuY29tLyNkYXRhX3NvdXJjZXMpCj4+IC9Cb3JkZXIgWyAwIDAgMCBdIC9SZWN0IFsgNDc1LjMgNDgyLjY3NDggNDk1LjU4NSA0OTAuMTc0OCBdIC9TdWJ0eXBlIC9MaW5rIC9UeXBlIC9Bbm5vdAo+PgplbmRvYmoKODMgMCBvYmoKPDwKL0EgPDwKL1MgL1VSSSAvVHlwZSAvQWN0aW9uIC9VUkkgKGh0dHBzOi8vdXBnaW5pLmNvbS8jZGF0YV9zb3VyY2VzKQo+PiAvQm9yZGVyIFsgMCAwIDAgXSAvUmVjdCBbIDQyNSA0NzUuMTc0OCA0MzQuNzMgNDgyLjY3NDggXSAvU3VidHlwZSAvTGluayAvVHlwZSAvQW5ub3QKPj4KZW5kb2JqCjg0IDAgb2JqCjw8Ci9BIDw8Ci9TIC9VUkkgL1R5cGUgL0FjdGlvbiAvVVJJIChodHRwczovL3VwZ2luaS5jb20vI2RhdGFfc291cmNlcykKPj4gL0JvcmRlciBbIDAgMCAwIF0gL1JlY3QgWyA0NzUuMyA0NTcuNjc0OCA0OTUuNTg1IDQ2NS4xNzQ4IF0gL1N1YnR5cGUgL0xpbmsgL1R5cGUgL0Fubm90Cj4+CmVuZG9iago4NSAwIG9iago8PAovQSA8PAovUyAvVVJJIC9UeXBlIC9BY3Rpb24gL1VSSSAoaHR0cHM6Ly91cGdpbmkuY29tLyNkYXRhX3NvdXJjZXMpCj4+IC9Cb3JkZXIgWyAwIDAgMCBdIC9SZWN0IFsgNDI1IDQ1MC4xNzQ4IDQzNC43MyA0NTcuNjc0OCBdIC9TdWJ0eXBlIC9MaW5rIC9UeXBlIC9Bbm5vdAo+PgplbmRvYmoKODYgMCBvYmoKPDwKL0EgPDwKL1MgL1VSSSAvVHlwZSAvQWN0aW9uIC9VUkkgKGh0dHBzOi8vdXBnaW5pLmNvbS8jZGF0YV9zb3VyY2VzKQo+PiAvQm9yZGVyIFsgMCAwIDAgXSAvUmVjdCBbIDQ3NS4zIDQzMi42NzQ4IDQ5My4wOCA0NDAuMTc0OCBdIC9TdWJ0eXBlIC9MaW5rIC9UeXBlIC9Bbm5vdAo+PgplbmRvYmoKODcgMCBvYmoKPDwKL0EgPDwKL1MgL1VSSSAvVHlwZSAvQWN0aW9uIC9VUkkgKGh0dHBzOi8vdXBnaW5pLmNvbS8jZGF0YV9zb3VyY2VzKQo+PiAvQm9yZGVyIFsgMCAwIDAgXSAvUmVjdCBbIDQyNSA0MjUuMTc0OCA0MzQuNzMgNDMyLjY3NDggXSAvU3VidHlwZSAvTGluayAvVHlwZSAvQW5ub3QKPj4KZW5kb2JqCjg4IDAgb2JqCjw8Ci9BIDw8Ci9TIC9VUkkgL1R5cGUgL0FjdGlvbiAvVVJJIChodHRwczovL3VwZ2luaS5jb20vI2RhdGFfc291cmNlcykKPj4gL0JvcmRlciBbIDAgMCAwIF0gL1JlY3QgWyA0NzIuOCA0MDMuOTI0OCA0OTAuNTggNDExLjQyNDggXSAvU3VidHlwZSAvTGluayAvVHlwZSAvQW5ub3QKPj4KZW5kb2JqCjg5IDAgb2JqCjw8Ci9BIDw8Ci9TIC9VUkkgL1R5cGUgL0FjdGlvbiAvVVJJIChodHRwczovL3VwZ2luaS5jb20vI2RhdGFfc291cmNlcykKPj4gL0JvcmRlciBbIDAgMCAwIF0gL1JlY3QgWyA0MjUgMzk2LjQyNDggNDM0LjczIDQwMy45MjQ4IF0gL1N1YnR5cGUgL0xpbmsgL1R5cGUgL0Fubm90Cj4+CmVuZG9iago5MCAwIG9iago8PAovQSA8PAovUyAvVVJJIC9UeXBlIC9BY3Rpb24gL1VSSSAoaHR0cHM6Ly91cGdpbmkuY29tLyNkYXRhX3NvdXJjZXMpCj4+IC9Cb3JkZXIgWyAwIDAgMCBdIC9SZWN0IFsgNDc1LjMgMzc1LjE3NDggNDk1LjU4NSAzODIuNjc0OCBdIC9TdWJ0eXBlIC9MaW5rIC9UeXBlIC9Bbm5vdAo+PgplbmRvYmoKOTEgMCBvYmoKPDwKL0EgPDwKL1MgL1VSSSAvVHlwZSAvQWN0aW9uIC9VUkkgKGh0dHBzOi8vdXBnaW5pLmNvbS8jZGF0YV9zb3VyY2VzKQo+PiAvQm9yZGVyIFsgMCAwIDAgXSAvUmVjdCBbIDQyNSAzNjcuNjc0OCA0MzQuNzMgMzc1LjE3NDggXSAvU3VidHlwZSAvTGluayAvVHlwZSAvQW5ub3QKPj4KZW5kb2JqCjkyIDAgb2JqCjw8Ci9BIDw8Ci9TIC9VUkkgL1R5cGUgL0FjdGlvbiAvVVJJIChodHRwczovL3VwZ2luaS5jb20vI2RhdGFfc291cmNlcykKPj4gL0JvcmRlciBbIDAgMCAwIF0gL1JlY3QgWyA0NzUuMyAzMjUuMTc0OCA0OTMuMDggMzMyLjY3NDggXSAvU3VidHlwZSAvTGluayAvVHlwZSAvQW5ub3QKPj4KZW5kb2JqCjkzIDAgb2JqCjw8Ci9BIDw8Ci9TIC9VUkkgL1R5cGUgL0FjdGlvbiAvVVJJIChodHRwczovL3VwZ2luaS5jb20vI2RhdGFfc291cmNlcykKPj4gL0JvcmRlciBbIDAgMCAwIF0gL1JlY3QgWyA0MjUgMzE3LjY3NDggNDM0LjczIDMyNS4xNzQ4IF0gL1N1YnR5cGUgL0xpbmsgL1R5cGUgL0Fubm90Cj4+CmVuZG9iago5NCAwIG9iago8PAovQSA8PAovUyAvVVJJIC9UeXBlIC9BY3Rpb24gL1VSSSAoaHR0cHM6Ly91cGdpbmkuY29tLyNkYXRhX3NvdXJjZXMpCj4+IC9Cb3JkZXIgWyAwIDAgMCBdIC9SZWN0IFsgNDc1LjMgMjUwLjE3NDggNDkzLjA4IDI1Ny42NzQ4IF0gL1N1YnR5cGUgL0xpbmsgL1R5cGUgL0Fubm90Cj4+CmVuZG9iago5NSAwIG9iago8PAovQSA8PAovUyAvVVJJIC9UeXBlIC9BY3Rpb24gL1VSSSAoaHR0cHM6Ly91cGdpbmkuY29tLyNkYXRhX3NvdXJjZXMpCj4+IC9Cb3JkZXIgWyAwIDAgMCBdIC9SZWN0IFsgNDI1IDI0Mi42NzQ4IDQzNC43MyAyNTAuMTc0OCBdIC9TdWJ0eXBlIC9MaW5rIC9UeXBlIC9Bbm5vdAo+PgplbmRvYmoKOTYgMCBvYmoKPDwKL0EgPDwKL1MgL1VSSSAvVHlwZSAvQWN0aW9uIC9VUkkgKGh0dHBzOi8vdXBnaW5pLmNvbS8jZGF0YV9zb3VyY2VzKQo+PiAvQm9yZGVyIFsgMCAwIDAgXSAvUmVjdCBbIDQ3NS4zIDIyNS4xNzQ4IDQ5NS41ODUgMjMyLjY3NDggXSAvU3VidHlwZSAvTGluayAvVHlwZSAvQW5ub3QKPj4KZW5kb2JqCjk3IDAgb2JqCjw8Ci9BIDw8Ci9TIC9VUkkgL1R5cGUgL0FjdGlvbiAvVVJJIChodHRwczovL3VwZ2luaS5jb20vI2RhdGFfc291cmNlcykKPj4gL0JvcmRlciBbIDAgMCAwIF0gL1JlY3QgWyA0MjUgMjE3LjY3NDggNDM0LjczIDIyNS4xNzQ4IF0gL1N1YnR5cGUgL0xpbmsgL1R5cGUgL0Fubm90Cj4+CmVuZG9iago5OCAwIG9iago8PAovQSA8PAovUyAvVVJJIC9UeXBlIC9BY3Rpb24gL1VSSSAoaHR0cHM6Ly91cGdpbmkuY29tLyNkYXRhX3NvdXJjZXMpCj4+IC9Cb3JkZXIgWyAwIDAgMCBdIC9SZWN0IFsgNDc1LjMgMjAwLjE3NDggNDkzLjA4IDIwNy42NzQ4IF0gL1N1YnR5cGUgL0xpbmsgL1R5cGUgL0Fubm90Cj4+CmVuZG9iago5OSAwIG9iago8PAovQSA8PAovUyAvVVJJIC9UeXBlIC9BY3Rpb24gL1VSSSAoaHR0cHM6Ly91cGdpbmkuY29tLyNkYXRhX3NvdXJjZXMpCj4+IC9Cb3JkZXIgWyAwIDAgMCBdIC9SZWN0IFsgNDI1IDE5Mi42NzQ4IDQzNC43MyAyMDAuMTc0OCBdIC9TdWJ0eXBlIC9MaW5rIC9UeXBlIC9Bbm5vdAo+PgplbmRvYmoKMTAwIDAgb2JqCjw8Ci9BIDw8Ci9TIC9VUkkgL1R5cGUgL0FjdGlvbiAvVVJJIChodHRwczovL3VwZ2luaS5jb20vI2RhdGFfc291cmNlcykKPj4gL0JvcmRlciBbIDAgMCAwIF0gL1JlY3QgWyA0NzUuMyAxNzUuMTc0OCA0OTMuMDggMTgyLjY3NDggXSAvU3VidHlwZSAvTGluayAvVHlwZSAvQW5ub3QKPj4KZW5kb2JqCjEwMSAwIG9iago8PAovQSA8PAovUyAvVVJJIC9UeXBlIC9BY3Rpb24gL1VSSSAoaHR0cHM6Ly91cGdpbmkuY29tLyNkYXRhX3NvdXJjZXMpCj4+IC9Cb3JkZXIgWyAwIDAgMCBdIC9SZWN0IFsgNDI1IDE2Ny42NzQ4IDQzNC43MyAxNzUuMTc0OCBdIC9TdWJ0eXBlIC9MaW5rIC9UeXBlIC9Bbm5vdAo+PgplbmRvYmoKMTAyIDAgb2JqCjw8Ci9BIDw8Ci9TIC9VUkkgL1R5cGUgL0FjdGlvbiAvVVJJIChodHRwczovL3VwZ2luaS5jb20vI2RhdGFfc291cmNlcykKPj4gL0JvcmRlciBbIDAgMCAwIF0gL1JlY3QgWyA0NzUuMyAxNTAuMTc0OCA0OTMuMDggMTU3LjY3NDggXSAvU3VidHlwZSAvTGluayAvVHlwZSAvQW5ub3QKPj4KZW5kb2JqCjEwMyAwIG9iago8PAovQSA8PAovUyAvVVJJIC9UeXBlIC9BY3Rpb24gL1VSSSAoaHR0cHM6Ly91cGdpbmkuY29tLyNkYXRhX3NvdXJjZXMpCj4+IC9Cb3JkZXIgWyAwIDAgMCBdIC9SZWN0IFsgNDI1IDE0Mi42NzQ4IDQzNC43MyAxNTAuMTc0OCBdIC9TdWJ0eXBlIC9MaW5rIC9UeXBlIC9Bbm5vdAo+PgplbmRvYmoKMTA0IDAgb2JqCjw8Ci9BIDw8Ci9TIC9VUkkgL1R5cGUgL0FjdGlvbiAvVVJJIChodHRwczovL3VwZ2luaS5jb20vI2RhdGFfc291cmNlcykKPj4gL0JvcmRlciBbIDAgMCAwIF0gL1JlY3QgWyA0NzUuMyA3NS4xNzQ3OSA0OTUuNTg1IDgyLjY3NDc5IF0gL1N1YnR5cGUgL0xpbmsgL1R5cGUgL0Fubm90Cj4+CmVuZG9iagoxMDUgMCBvYmoKPDwKL0EgPDwKL1MgL1VSSSAvVHlwZSAvQWN0aW9uIC9VUkkgKGh0dHBzOi8vdXBnaW5pLmNvbS8jZGF0YV9zb3VyY2VzKQo+PiAvQm9yZGVyIFsgMCAwIDAgXSAvUmVjdCBbIDQyNSA2Ny42NzQ3OSA0MzQuNzMgNzUuMTc0NzkgXSAvU3VidHlwZSAvTGluayAvVHlwZSAvQW5ub3QKPj4KZW5kb2JqCjEwNiAwIG9iago8PAovQW5ub3RzIFsgNTYgMCBSIDU3IDAgUiA1OCAwIFIgNTkgMCBSIDYwIDAgUiA2MSAwIFIgNjIgMCBSIDYzIDAgUiA2NCAwIFIgNjUgMCBSIAogIDY2IDAgUiA2NyAwIFIgNjggMCBSIDY5IDAgUiA3MCAwIFIgNzEgMCBSIDcyIDAgUiA3MyAwIFIgNzQgMCBSIDc1IDAgUiAKICA3NiAwIFIgNzcgMCBSIDc4IDAgUiA3OSAwIFIgODAgMCBSIDgxIDAgUiA4MiAwIFIgODMgMCBSIDg0IDAgUiA4NSAwIFIgCiAgODYgMCBSIDg3IDAgUiA4OCAwIFIgODkgMCBSIDkwIDAgUiA5MSAwIFIgOTIgMCBSIDkzIDAgUiA5NCAwIFIgOTUgMCBSIAogIDk2IDAgUiA5NyAwIFIgOTggMCBSIDk5IDAgUiAxMDAgMCBSIDEwMSAwIFIgMTAyIDAgUiAxMDMgMCBSIDEwNCAwIFIgMTA1IDAgUiBdIC9Db250ZW50cyAxNjkgMCBSIC9NZWRpYUJveCBbIDAgMCA1OTUuMjc1NiA4NDEuODg5OCBdIC9QYXJlbnQgMTY3IDAgUiAvUmVzb3VyY2VzIDw8Ci9Gb250IDEgMCBSIC9Qcm9jU2V0IFsgL1BERiAvVGV4dCAvSW1hZ2VCIC9JbWFnZUMgL0ltYWdlSSBdCj4+IC9Sb3RhdGUgMCAKICAvVHJhbnMgPDwKCj4+IC9UeXBlIC9QYWdlCj4+CmVuZG9iagoxMDcgMCBvYmoKPDwKL0EgPDwKL1MgL1VSSSAvVHlwZSAvQWN0aW9uIC9VUkkgKGh0dHBzOi8vdXBnaW5pLmNvbS8jZGF0YV9zb3VyY2VzKQo+PiAvQm9yZGVyIFsgMCAwIDAgXSAvUmVjdCBbIDQ3NS4zIDc4Mi42NzQ4IDQ5My4wOCA3OTAuMTc0OCBdIC9TdWJ0eXBlIC9MaW5rIC9UeXBlIC9Bbm5vdAo+PgplbmRvYmoKMTA4IDAgb2JqCjw8Ci9BIDw8Ci9TIC9VUkkgL1R5cGUgL0FjdGlvbiAvVVJJIChodHRwczovL3VwZ2luaS5jb20vI2RhdGFfc291cmNlcykKPj4gL0JvcmRlciBbIDAgMCAwIF0gL1JlY3QgWyA0MjUgNzc1LjE3NDggNDM0LjczIDc4Mi42NzQ4IF0gL1N1YnR5cGUgL0xpbmsgL1R5cGUgL0Fubm90Cj4+CmVuZG9iagoxMDkgMCBvYmoKPDwKL0EgPDwKL1MgL1VSSSAvVHlwZSAvQWN0aW9uIC9VUkkgKGh0dHBzOi8vdXBnaW5pLmNvbS8jZGF0YV9zb3VyY2VzKQo+PiAvQm9yZGVyIFsgMCAwIDAgXSAvUmVjdCBbIDQ3NS4zIDc1Ny42NzQ4IDQ5NS41ODUgNzY1LjE3NDggXSAvU3VidHlwZSAvTGluayAvVHlwZSAvQW5ub3QKPj4KZW5kb2JqCjExMCAwIG9iago8PAovQSA8PAovUyAvVVJJIC9UeXBlIC9BY3Rpb24gL1VSSSAoaHR0cHM6Ly91cGdpbmkuY29tLyNkYXRhX3NvdXJjZXMpCj4+IC9Cb3JkZXIgWyAwIDAgMCBdIC9SZWN0IFsgNDI1IDc1MC4xNzQ4IDQzNC43MyA3NTcuNjc0OCBdIC9TdWJ0eXBlIC9MaW5rIC9UeXBlIC9Bbm5vdAo+PgplbmRvYmoKMTExIDAgb2JqCjw8Ci9BIDw8Ci9TIC9VUkkgL1R5cGUgL0FjdGlvbiAvVVJJIChodHRwczovL3VwZ2luaS5jb20vI2RhdGFfc291cmNlcykKPj4gL0JvcmRlciBbIDAgMCAwIF0gL1JlY3QgWyAxNSA2NTYuMDc0OSA0Ni40MDUgNjYzLjU3NDkgXSAvU3VidHlwZSAvTGluayAvVHlwZSAvQW5ub3QKPj4KZW5kb2JqCjExMiAwIG9iago8PAovQSA8PAovUyAvVVJJIC9UeXBlIC9BY3Rpb24gL1VSSSAoaHR0cHM6Ly91cGdpbmkuY29tLyNkYXRhX3NvdXJjZXMpCj4+IC9Cb3JkZXIgWyAwIDAgMCBdIC9SZWN0IFsgNDcuNzk1IDY1Ni4wNzQ5IDc2LjY5NSA2NjMuNTc0OSBdIC9TdWJ0eXBlIC9MaW5rIC9UeXBlIC9Bbm5vdAo+PgplbmRvYmoKMTEzIDAgb2JqCjw8Ci9BIDw8Ci9TIC9VUkkgL1R5cGUgL0FjdGlvbiAvVVJJIChodHRwczovL3VwZ2luaS5jb20vI2RhdGFfc291cmNlcykKPj4gL0JvcmRlciBbIDAgMCAwIF0gL1JlY3QgWyAxNSA2MzEuMDc0OSA0Ni40MDUgNjM4LjU3NDkgXSAvU3VidHlwZSAvTGluayAvVHlwZSAvQW5ub3QKPj4KZW5kb2JqCjExNCAwIG9iago8PAovQSA8PAovUyAvVVJJIC9UeXBlIC9BY3Rpb24gL1VSSSAoaHR0cHM6Ly91cGdpbmkuY29tLyNkYXRhX3NvdXJjZXMpCj4+IC9Cb3JkZXIgWyAwIDAgMCBdIC9SZWN0IFsgNDcuNzk1IDYzMS4wNzQ5IDc2LjY5NSA2MzguNTc0OSBdIC9TdWJ0eXBlIC9MaW5rIC9UeXBlIC9Bbm5vdAo+PgplbmRvYmoKMTE1IDAgb2JqCjw8Ci9BIDw8Ci9TIC9VUkkgL1R5cGUgL0FjdGlvbiAvVVJJIChodHRwczovL3VwZ2luaS5jb20vI2RhdGFfc291cmNlcykKPj4gL0JvcmRlciBbIDAgMCAwIF0gL1JlY3QgWyAxNSA2MDYuMDc0OSA0Ni40MDUgNjEzLjU3NDkgXSAvU3VidHlwZSAvTGluayAvVHlwZSAvQW5ub3QKPj4KZW5kb2JqCjExNiAwIG9iago8PAovQSA8PAovUyAvVVJJIC9UeXBlIC9BY3Rpb24gL1VSSSAoaHR0cHM6Ly91cGdpbmkuY29tLyNkYXRhX3NvdXJjZXMpCj4+IC9Cb3JkZXIgWyAwIDAgMCBdIC9SZWN0IFsgNDcuNzk1IDYwNi4wNzQ5IDc2LjY5NSA2MTMuNTc0OSBdIC9TdWJ0eXBlIC9MaW5rIC9UeXBlIC9Bbm5vdAo+PgplbmRvYmoKMTE3IDAgb2JqCjw8Ci9BIDw8Ci9TIC9VUkkgL1R5cGUgL0FjdGlvbiAvVVJJIChodHRwczovL3VwZ2luaS5jb20vI2RhdGFfc291cmNlcykKPj4gL0JvcmRlciBbIDAgMCAwIF0gL1JlY3QgWyAxNSA1NzcuMzI0OSA0Ni40MDUgNTg0LjgyNDkgXSAvU3VidHlwZSAvTGluayAvVHlwZSAvQW5ub3QKPj4KZW5kb2JqCjExOCAwIG9iago8PAovQSA8PAovUyAvVVJJIC9UeXBlIC9BY3Rpb24gL1VSSSAoaHR0cHM6Ly91cGdpbmkuY29tLyNkYXRhX3NvdXJjZXMpCj4+IC9Cb3JkZXIgWyAwIDAgMCBdIC9SZWN0IFsgNDcuNzk1IDU3Ny4zMjQ5IDc2LjY5NSA1ODQuODI0OSBdIC9TdWJ0eXBlIC9MaW5rIC9UeXBlIC9Bbm5vdAo+PgplbmRvYmoKMTE5IDAgb2JqCjw8Ci9BIDw8Ci9TIC9VUkkgL1R5cGUgL0FjdGlvbiAvVVJJIChodHRwczovL3VwZ2luaS5jb20vI2RhdGFfc291cmNlcykKPj4gL0JvcmRlciBbIDAgMCAwIF0gL1JlY3QgWyAxNSA1NDguNTc0OSA0My45IDU1Ni4wNzQ5IF0gL1N1YnR5cGUgL0xpbmsgL1R5cGUgL0Fubm90Cj4+CmVuZG9iagoxMjAgMCBvYmoKPDwKL0EgPDwKL1MgL1VSSSAvVHlwZSAvQWN0aW9uIC9VUkkgKGh0dHBzOi8vdXBnaW5pLmNvbS8jZGF0YV9zb3VyY2VzKQo+PiAvQm9yZGVyIFsgMCAwIDAgXSAvUmVjdCBbIDE1IDUyMy41NzQ5IDQzLjkgNTMxLjA3NDkgXSAvU3VidHlwZSAvTGluayAvVHlwZSAvQW5ub3QKPj4KZW5kb2JqCjEyMSAwIG9iago8PAovQSA8PAovUyAvVVJJIC9UeXBlIC9BY3Rpb24gL1VSSSAoaHR0cHM6Ly91cGdpbmkuY29tLyNkYXRhX3NvdXJjZXMpCj4+IC9Cb3JkZXIgWyAwIDAgMCBdIC9SZWN0IFsgMTUgNDk4LjU3NDkgNDMuOSA1MDYuMDc0OSBdIC9TdWJ0eXBlIC9MaW5rIC9UeXBlIC9Bbm5vdAo+PgplbmRvYmoKMTIyIDAgb2JqCjw8Ci9BIDw8Ci9TIC9VUkkgL1R5cGUgL0FjdGlvbiAvVVJJIChodHRwczovL3VwZ2luaS5jb20vI2RhdGFfc291cmNlcykKPj4gL0JvcmRlciBbIDAgMCAwIF0gL1JlY3QgWyAxNSA0NzMuNTc0OSA0My45IDQ4MS4wNzQ5IF0gL1N1YnR5cGUgL0xpbmsgL1R5cGUgL0Fubm90Cj4+CmVuZG9iagoxMjMgMCBvYmoKPDwKL0EgPDwKL1MgL1VSSSAvVHlwZSAvQWN0aW9uIC9VUkkgKGh0dHBzOi8vdXBnaW5pLmNvbS8jZGF0YV9zb3VyY2VzKQo+PiAvQm9yZGVyIFsgMCAwIDAgXSAvUmVjdCBbIDE1IDQ0OC41NzUgNDMuOSA0NTYuMDc1IF0gL1N1YnR5cGUgL0xpbmsgL1R5cGUgL0Fubm90Cj4+CmVuZG9iagoxMjQgMCBvYmoKPDwKL0EgPDwKL1MgL1VSSSAvVHlwZSAvQWN0aW9uIC9VUkkgKGh0dHBzOi8vdXBnaW5pLmNvbS8jZGF0YV9zb3VyY2VzKQo+PiAvQm9yZGVyIFsgMCAwIDAgXSAvUmVjdCBbIDE1IDQyMy41NzUgNDMuOSA0MzEuMDc1IF0gL1N1YnR5cGUgL0xpbmsgL1R5cGUgL0Fubm90Cj4+CmVuZG9iagoxMjUgMCBvYmoKPDwKL0EgPDwKL1MgL1VSSSAvVHlwZSAvQWN0aW9uIC9VUkkgKGh0dHBzOi8vdXBnaW5pLmNvbS8jZGF0YV9zb3VyY2VzKQo+PiAvQm9yZGVyIFsgMCAwIDAgXSAvUmVjdCBbIDE1IDM5OC41NzUgNDYuNDA1IDQwNi4wNzUgXSAvU3VidHlwZSAvTGluayAvVHlwZSAvQW5ub3QKPj4KZW5kb2JqCjEyNiAwIG9iago8PAovQSA8PAovUyAvVVJJIC9UeXBlIC9BY3Rpb24gL1VSSSAoaHR0cHM6Ly91cGdpbmkuY29tLyNkYXRhX3NvdXJjZXMpCj4+IC9Cb3JkZXIgWyAwIDAgMCBdIC9SZWN0IFsgMTUgMzczLjU3NSA0Ni40MDUgMzgxLjA3NSBdIC9TdWJ0eXBlIC9MaW5rIC9UeXBlIC9Bbm5vdAo+PgplbmRvYmoKMTI3IDAgb2JqCjw8Ci9BIDw8Ci9TIC9VUkkgL1R5cGUgL0FjdGlvbiAvVVJJIChodHRwczovL3VwZ2luaS5jb20vI2RhdGFfc291cmNlcykKPj4gL0JvcmRlciBbIDAgMCAwIF0gL1JlY3QgWyAxNSAzNDguNTc1IDQ2LjQwNSAzNTYuMDc1IF0gL1N1YnR5cGUgL0xpbmsgL1R5cGUgL0Fubm90Cj4+CmVuZG9iagoxMjggMCBvYmoKPDwKL0EgPDwKL1MgL1VSSSAvVHlwZSAvQWN0aW9uIC9VUkkgKGh0dHBzOi8vdXBnaW5pLmNvbS8jZGF0YV9zb3VyY2VzKQo+PiAvQm9yZGVyIFsgMCAwIDAgXSAvUmVjdCBbIDQ3Ljc5NSAzNDguNTc1IDc2LjY5NSAzNTYuMDc1IF0gL1N1YnR5cGUgL0xpbmsgL1R5cGUgL0Fubm90Cj4+CmVuZG9iagoxMjkgMCBvYmoKPDwKL0EgPDwKL1MgL1VSSSAvVHlwZSAvQWN0aW9uIC9VUkkgKGh0dHBzOi8vdXBnaW5pLmNvbS8jZGF0YV9zb3VyY2VzKQo+PiAvQm9yZGVyIFsgMCAwIDAgXSAvUmVjdCBbIDE1IDMyMy41NzUgNDYuNDA1IDMzMS4wNzUgXSAvU3VidHlwZSAvTGluayAvVHlwZSAvQW5ub3QKPj4KZW5kb2JqCjEzMCAwIG9iago8PAovQSA8PAovUyAvVVJJIC9UeXBlIC9BY3Rpb24gL1VSSSAoaHR0cHM6Ly91cGdpbmkuY29tLyNkYXRhX3NvdXJjZXMpCj4+IC9Cb3JkZXIgWyAwIDAgMCBdIC9SZWN0IFsgMTUgMjk4LjU3NSA0Ni40MDUgMzA2LjA3NSBdIC9TdWJ0eXBlIC9MaW5rIC9UeXBlIC9Bbm5vdAo+PgplbmRvYmoKMTMxIDAgb2JqCjw8Ci9BIDw8Ci9TIC9VUkkgL1R5cGUgL0FjdGlvbiAvVVJJIChodHRwczovL3VwZ2luaS5jb20vI2RhdGFfc291cmNlcykKPj4gL0JvcmRlciBbIDAgMCAwIF0gL1JlY3QgWyAxNSAyNzMuNTc1IDQ2LjQwNSAyODEuMDc1IF0gL1N1YnR5cGUgL0xpbmsgL1R5cGUgL0Fubm90Cj4+CmVuZG9iagoxMzIgMCBvYmoKPDwKL0EgPDwKL1MgL1VSSSAvVHlwZSAvQWN0aW9uIC9VUkkgKGh0dHBzOi8vdXBnaW5pLmNvbS8jZGF0YV9zb3VyY2VzKQo+PiAvQm9yZGVyIFsgMCAwIDAgXSAvUmVjdCBbIDE1IDI0OC41NzUgNDYuNDA1IDI1Ni4wNzUgXSAvU3VidHlwZSAvTGluayAvVHlwZSAvQW5ub3QKPj4KZW5kb2JqCjEzMyAwIG9iago8PAovQSA8PAovUyAvVVJJIC9UeXBlIC9BY3Rpb24gL1VSSSAoaHR0cHM6Ly91cGdpbmkuY29tLyNkYXRhX3NvdXJjZXMpCj4+IC9Cb3JkZXIgWyAwIDAgMCBdIC9SZWN0IFsgMTUgMjIzLjU3NSA0Ni40MDUgMjMxLjA3NSBdIC9TdWJ0eXBlIC9MaW5rIC9UeXBlIC9Bbm5vdAo+PgplbmRvYmoKMTM0IDAgb2JqCjw8Ci9BIDw8Ci9TIC9VUkkgL1R5cGUgL0FjdGlvbiAvVVJJIChodHRwczovL3VwZ2luaS5jb20vI2RhdGFfc291cmNlcykKPj4gL0JvcmRlciBbIDAgMCAwIF0gL1JlY3QgWyAxNSAxOTguNTc1IDQ2LjQwNSAyMDYuMDc1IF0gL1N1YnR5cGUgL0xpbmsgL1R5cGUgL0Fubm90Cj4+CmVuZG9iagoxMzUgMCBvYmoKPDwKL0EgPDwKL1MgL1VSSSAvVHlwZSAvQWN0aW9uIC9VUkkgKGh0dHBzOi8vdXBnaW5pLmNvbS8jZGF0YV9zb3VyY2VzKQo+PiAvQm9yZGVyIFsgMCAwIDAgXSAvUmVjdCBbIDE1IDE3My41NzUgNDYuNDA1IDE4MS4wNzUgXSAvU3VidHlwZSAvTGluayAvVHlwZSAvQW5ub3QKPj4KZW5kb2JqCjEzNiAwIG9iago8PAovQSA8PAovUyAvVVJJIC9UeXBlIC9BY3Rpb24gL1VSSSAoaHR0cHM6Ly91cGdpbmkuY29tLyNkYXRhX3NvdXJjZXMpCj4+IC9Cb3JkZXIgWyAwIDAgMCBdIC9SZWN0IFsgMTUgMTQ4LjU3NSA0Ni40MDUgMTU2LjA3NSBdIC9TdWJ0eXBlIC9MaW5rIC9UeXBlIC9Bbm5vdAo+PgplbmRvYmoKMTM3IDAgb2JqCjw8Ci9BIDw8Ci9TIC9VUkkgL1R5cGUgL0FjdGlvbiAvVVJJIChodHRwczovL3VwZ2luaS5jb20vI2RhdGFfc291cmNlcykKPj4gL0JvcmRlciBbIDAgMCAwIF0gL1JlY3QgWyA0Ny43OTUgMTQ4LjU3NSA3Ni42OTUgMTU2LjA3NSBdIC9TdWJ0eXBlIC9MaW5rIC9UeXBlIC9Bbm5vdAo+PgplbmRvYmoKMTM4IDAgb2JqCjw8Ci9BIDw8Ci9TIC9VUkkgL1R5cGUgL0FjdGlvbiAvVVJJIChodHRwczovL3VwZ2luaS5jb20vI2RhdGFfc291cmNlcykKPj4gL0JvcmRlciBbIDAgMCAwIF0gL1JlY3QgWyAxNSAxMTkuODI1IDQ2LjQwNSAxMjcuMzI1IF0gL1N1YnR5cGUgL0xpbmsgL1R5cGUgL0Fubm90Cj4+CmVuZG9iagoxMzkgMCBvYmoKPDwKL0EgPDwKL1MgL1VSSSAvVHlwZSAvQWN0aW9uIC9VUkkgKGh0dHBzOi8vdXBnaW5pLmNvbS8jZGF0YV9zb3VyY2VzKQo+PiAvQm9yZGVyIFsgMCAwIDAgXSAvUmVjdCBbIDQ3Ljc5NSAxMTkuODI1IDc2LjY5NSAxMjcuMzI1IF0gL1N1YnR5cGUgL0xpbmsgL1R5cGUgL0Fubm90Cj4+CmVuZG9iagoxNDAgMCBvYmoKPDwKL0EgPDwKL1MgL1VSSSAvVHlwZSAvQWN0aW9uIC9VUkkgKGh0dHBzOi8vdXBnaW5pLmNvbS8jZGF0YV9zb3VyY2VzKQo+PiAvQm9yZGVyIFsgMCAwIDAgXSAvUmVjdCBbIDE1IDg3LjMyNDk2IDQzLjkgOTQuODI0OTYgXSAvU3VidHlwZSAvTGluayAvVHlwZSAvQW5ub3QKPj4KZW5kb2JqCjE0MSAwIG9iago8PAovQSA8PAovUyAvVVJJIC9UeXBlIC9BY3Rpb24gL1VSSSAoaHR0cHM6Ly91cGdpbmkuY29tLyNkYXRhX3NvdXJjZXMpCj4+IC9Cb3JkZXIgWyAwIDAgMCBdIC9SZWN0IFsgMTUgNTguNTc0OTcgNDYuNDA1IDY2LjA3NDk3IF0gL1N1YnR5cGUgL0xpbmsgL1R5cGUgL0Fubm90Cj4+CmVuZG9iagoxNDIgMCBvYmoKPDwKL0Fubm90cyBbIDEwNyAwIFIgMTA4IDAgUiAxMDkgMCBSIDExMCAwIFIgMTExIDAgUiAxMTIgMCBSIDExMyAwIFIgMTE0IDAgUiAxMTUgMCBSIDExNiAwIFIgCiAgMTE3IDAgUiAxMTggMCBSIDExOSAwIFIgMTIwIDAgUiAxMjEgMCBSIDEyMiAwIFIgMTIzIDAgUiAxMjQgMCBSIDEyNSAwIFIgMTI2IDAgUiAKICAxMjcgMCBSIDEyOCAwIFIgMTI5IDAgUiAxMzAgMCBSIDEzMSAwIFIgMTMyIDAgUiAxMzMgMCBSIDEzNCAwIFIgMTM1IDAgUiAxMzYgMCBSIAogIDEzNyAwIFIgMTM4IDAgUiAxMzkgMCBSIDE0MCAwIFIgMTQxIDAgUiBdIC9Db250ZW50cyAxNzAgMCBSIC9NZWRpYUJveCBbIDAgMCA1OTUuMjc1NiA4NDEuODg5OCBdIC9QYXJlbnQgMTY3IDAgUiAvUmVzb3VyY2VzIDw8Ci9Gb250IDEgMCBSIC9Qcm9jU2V0IFsgL1BERiAvVGV4dCAvSW1hZ2VCIC9JbWFnZUMgL0ltYWdlSSBdCj4+IC9Sb3RhdGUgMCAKICAvVHJhbnMgPDwKCj4+IC9UeXBlIC9QYWdlCj4+CmVuZG9iagoxNDMgMCBvYmoKPDwKL0EgPDwKL1MgL1VSSSAvVHlwZSAvQWN0aW9uIC9VUkkgKGh0dHBzOi8vdXBnaW5pLmNvbS8jZGF0YV9zb3VyY2VzKQo+PiAvQm9yZGVyIFsgMCAwIDAgXSAvUmVjdCBbIDE1IDc3OC45MjQ4IDQ2LjQwNSA3ODYuNDI0OCBdIC9TdWJ0eXBlIC9MaW5rIC9UeXBlIC9Bbm5vdAo+PgplbmRvYmoKMTQ0IDAgb2JqCjw8Ci9BIDw8Ci9TIC9VUkkgL1R5cGUgL0FjdGlvbiAvVVJJIChodHRwczovL3VwZ2luaS5jb20vI2RhdGFfc291cmNlcykKPj4gL0JvcmRlciBbIDAgMCAwIF0gL1JlY3QgWyAxNSA3NTMuOTI0OCA0Ni40MDUgNzYxLjQyNDggXSAvU3VidHlwZSAvTGluayAvVHlwZSAvQW5ub3QKPj4KZW5kb2JqCjE0NSAwIG9iago8PAovQSA8PAovUyAvVVJJIC9UeXBlIC9BY3Rpb24gL1VSSSAoaHR0cHM6Ly91cGdpbmkuY29tLyNkYXRhX3NvdXJjZXMpCj4+IC9Cb3JkZXIgWyAwIDAgMCBdIC9SZWN0IFsgMTUgNzI4LjkyNDggNDYuNDA1IDczNi40MjQ4IF0gL1N1YnR5cGUgL0xpbmsgL1R5cGUgL0Fubm90Cj4+CmVuZG9iagoxNDYgMCBvYmoKPDwKL0EgPDwKL1MgL1VSSSAvVHlwZSAvQWN0aW9uIC9VUkkgKGh0dHBzOi8vdXBnaW5pLmNvbS8jZGF0YV9zb3VyY2VzKQo+PiAvQm9yZGVyIFsgMCAwIDAgXSAvUmVjdCBbIDE1IDcwMy45MjQ4IDQ2LjQwNSA3MTEuNDI0OCBdIC9TdWJ0eXBlIC9MaW5rIC9UeXBlIC9Bbm5vdAo+PgplbmRvYmoKMTQ3IDAgb2JqCjw8Ci9BIDw8Ci9TIC9VUkkgL1R5cGUgL0FjdGlvbiAvVVJJIChodHRwczovL3VwZ2luaS5jb20vI2RhdGFfc291cmNlcykKPj4gL0JvcmRlciBbIDAgMCAwIF0gL1JlY3QgWyA0Ny43OTUgNzAzLjkyNDggNzYuNjk1IDcxMS40MjQ4IF0gL1N1YnR5cGUgL0xpbmsgL1R5cGUgL0Fubm90Cj4+CmVuZG9iagoxNDggMCBvYmoKPDwKL0EgPDwKL1MgL1VSSSAvVHlwZSAvQWN0aW9uIC9VUkkgKGh0dHBzOi8vdXBnaW5pLmNvbS8jZGF0YV9zb3VyY2VzKQo+PiAvQm9yZGVyIFsgMCAwIDAgXSAvUmVjdCBbIDE1IDY3OC45MjQ4IDQ2LjQwNSA2ODYuNDI0OCBdIC9TdWJ0eXBlIC9MaW5rIC9UeXBlIC9Bbm5vdAo+PgplbmRvYmoKMTQ5IDAgb2JqCjw8Ci9BIDw8Ci9TIC9VUkkgL1R5cGUgL0FjdGlvbiAvVVJJIChodHRwczovL3VwZ2luaS5jb20vI2RhdGFfc291cmNlcykKPj4gL0JvcmRlciBbIDAgMCAwIF0gL1JlY3QgWyA0Ny43OTUgNjc4LjkyNDggNzYuNjk1IDY4Ni40MjQ4IF0gL1N1YnR5cGUgL0xpbmsgL1R5cGUgL0Fubm90Cj4+CmVuZG9iagoxNTAgMCBvYmoKPDwKL0EgPDwKL1MgL1VSSSAvVHlwZSAvQWN0aW9uIC9VUkkgKGh0dHBzOi8vdXBnaW5pLmNvbS8jZGF0YV9zb3VyY2VzKQo+PiAvQm9yZGVyIFsgMCAwIDAgXSAvUmVjdCBbIDE1IDY1My45MjQ4IDQ2LjQwNSA2NjEuNDI0OCBdIC9TdWJ0eXBlIC9MaW5rIC9UeXBlIC9Bbm5vdAo+PgplbmRvYmoKMTUxIDAgb2JqCjw8Ci9BIDw8Ci9TIC9VUkkgL1R5cGUgL0FjdGlvbiAvVVJJIChodHRwczovL3VwZ2luaS5jb20vI2RhdGFfc291cmNlcykKPj4gL0JvcmRlciBbIDAgMCAwIF0gL1JlY3QgWyAxNSA2MjguOTI0OCA0Ni40MDUgNjM2LjQyNDggXSAvU3VidHlwZSAvTGluayAvVHlwZSAvQW5ub3QKPj4KZW5kb2JqCjE1MiAwIG9iago8PAovQSA8PAovUyAvVVJJIC9UeXBlIC9BY3Rpb24gL1VSSSAoaHR0cHM6Ly91cGdpbmkuY29tLyNkYXRhX3NvdXJjZXMpCj4+IC9Cb3JkZXIgWyAwIDAgMCBdIC9SZWN0IFsgMTUgNjAzLjkyNDggNDYuNDA1IDYxMS40MjQ4IF0gL1N1YnR5cGUgL0xpbmsgL1R5cGUgL0Fubm90Cj4+CmVuZG9iagoxNTMgMCBvYmoKPDwKL0EgPDwKL1MgL1VSSSAvVHlwZSAvQWN0aW9uIC9VUkkgKGh0dHBzOi8vdXBnaW5pLmNvbS8jZGF0YV9zb3VyY2VzKQo+PiAvQm9yZGVyIFsgMCAwIDAgXSAvUmVjdCBbIDE1IDU3OC45MjQ4IDQzLjkgNTg2LjQyNDggXSAvU3VidHlwZSAvTGluayAvVHlwZSAvQW5ub3QKPj4KZW5kb2JqCjE1NCAwIG9iago8PAovQSA8PAovUyAvVVJJIC9UeXBlIC9BY3Rpb24gL1VSSSAoaHR0cHM6Ly91cGdpbmkuY29tLyNkYXRhX3NvdXJjZXMpCj4+IC9Cb3JkZXIgWyAwIDAgMCBdIC9SZWN0IFsgMTUgNTUzLjkyNDggNDMuOSA1NjEuNDI0OCBdIC9TdWJ0eXBlIC9MaW5rIC9UeXBlIC9Bbm5vdAo+PgplbmRvYmoKMTU1IDAgb2JqCjw8Ci9BIDw8Ci9TIC9VUkkgL1R5cGUgL0FjdGlvbiAvVVJJIChodHRwczovL3VwZ2luaS5jb20vI2RhdGFfc291cmNlcykKPj4gL0JvcmRlciBbIDAgMCAwIF0gL1JlY3QgWyA2Mi44IDUyNS4xNzQ4IDkxLjcgNTMyLjY3NDggXSAvU3VidHlwZSAvTGluayAvVHlwZSAvQW5ub3QKPj4KZW5kb2JqCjE1NiAwIG9iago8PAovQSA8PAovUyAvVVJJIC9UeXBlIC9BY3Rpb24gL1VSSSAobWFpbHRvOnNhbGVzQHVwZ2luaS5jb20pCj4+IC9Cb3JkZXIgWyAwIDAgMCBdIC9SZWN0IFsgMTU2LjUgNDk0LjU2NzMgMjE3Ljg4IDUwNS44MTczIF0gL1N1YnR5cGUgL0xpbmsgL1R5cGUgL0Fubm90Cj4+CmVuZG9iagoxNTcgMCBvYmoKPDwKL0Fubm90cyBbIDE0MyAwIFIgMTQ0IDAgUiAxNDUgMCBSIDE0NiAwIFIgMTQ3IDAgUiAxNDggMCBSIDE0OSAwIFIgMTUwIDAgUiAxNTEgMCBSIDE1MiAwIFIgCiAgMTUzIDAgUiAxNTQgMCBSIDE1NSAwIFIgMTU2IDAgUiBdIC9Db250ZW50cyAxNzEgMCBSIC9NZWRpYUJveCBbIDAgMCA1OTUuMjc1NiA4NDEuODg5OCBdIC9QYXJlbnQgMTY3IDAgUiAvUmVzb3VyY2VzIDw8Ci9Gb250IDEgMCBSIC9Qcm9jU2V0IFsgL1BERiAvVGV4dCAvSW1hZ2VCIC9JbWFnZUMgL0ltYWdlSSBdCj4+IC9Sb3RhdGUgMCAKICAvVHJhbnMgPDwKCj4+IC9UeXBlIC9QYWdlCj4+CmVuZG9iagoxNTggMCBvYmoKPDwKL091dGxpbmVzIDE2MCAwIFIgL1BhZ2VNb2RlIC9Vc2VOb25lIC9QYWdlcyAxNjcgMCBSIC9UeXBlIC9DYXRhbG9nCj4+CmVuZG9iagoxNTkgMCBvYmoKPDwKL0F1dGhvciAoKSAvQ3JlYXRpb25EYXRlIChEOjIwMjMxMTMwMDEwMDExKzAwJzAwJykgL0NyZWF0b3IgKFwodW5zcGVjaWZpZWRcKSkgL0tleXdvcmRzICgpIC9Nb2REYXRlIChEOjIwMjMxMTMwMDEwMDExKzAwJzAwJykgL1Byb2R1Y2VyICh4aHRtbDJwZGYgPGh0dHBzOi8vZ2l0aHViLmNvbS94aHRtbDJwZGYveGh0bWwycGRmLz4pIAogIC9TdWJqZWN0ICgpIC9UaXRsZSAoKSAvVHJhcHBlZCAvRmFsc2UKPj4KZW5kb2JqCjE2MCAwIG9iago8PAovQ291bnQgMyAvRmlyc3QgMTYxIDAgUiAvTGFzdCAxNjEgMCBSIC9UeXBlIC9PdXRsaW5lcwo+PgplbmRvYmoKMTYxIDAgb2JqCjw8Ci9Db3VudCAtMSAvRGVzdCBbIDU1IDAgUiAvRml0IF0gL0ZpcnN0IDE2MiAwIFIgL0xhc3QgMTYyIDAgUiAvUGFyZW50IDE2MCAwIFIgL1RpdGxlIChEYXRhIHNlYXJjaCByZXBvcnQpCj4+CmVuZG9iagoxNjIgMCBvYmoKPDwKL0NvdW50IC00IC9EZXN0IFsgNTUgMCBSIC9GaXQgXSAvRmlyc3QgMTYzIDAgUiAvTGFzdCAxNjYgMCBSIC9QYXJlbnQgMTYxIDAgUiAvVGl0bGUgKEFsbCByZWxldmFudCBmZWF0dXJlcy4gQWNjdXJhY3kgYWZ0ZXIgZW5yaWNobWVudCkKPj4KZW5kb2JqCjE2MyAwIG9iago8PAovRGVzdCBbIDU1IDAgUiAvRml0IF0gL05leHQgMTY0IDAgUiAvUGFyZW50IDE2MiAwIFIgL1RpdGxlIChBbGwgcmVsZXZhbnQgZmVhdHVyZXMuIEFjY3VyYWN5IGFmdGVyIGVucmljaG1lbnQpCj4+CmVuZG9iagoxNjQgMCBvYmoKPDwKL0Rlc3QgWyA1NSAwIFIgL0ZpdCBdIC9OZXh0IDE2NSAwIFIgL1BhcmVudCAxNjIgMCBSIC9QcmV2IDE2MyAwIFIgL1RpdGxlIChSZWxldmFudCBkYXRhIHNvdXJjZXMpCj4+CmVuZG9iagoxNjUgMCBvYmoKPDwKL0Rlc3QgWyA1NSAwIFIgL0ZpdCBdIC9OZXh0IDE2NiAwIFIgL1BhcmVudCAxNjIgMCBSIC9QcmV2IDE2NCAwIFIgL1RpdGxlIChBbGwgcmVsZXZhbnQgZmVhdHVyZXMuIExpc3RpbmcpCj4+CmVuZG9iagoxNjYgMCBvYmoKPDwKL0Rlc3QgWyAxNDIgMCBSIC9GaXQgXSAvUGFyZW50IDE2MiAwIFIgL1ByZXYgMTY1IDAgUiAvVGl0bGUgKERlc2NyaXB0aW9uIG9mIEF1dG9GRSBmZWF0dXJlIG5hbWVzKQo+PgplbmRvYmoKMTY3IDAgb2JqCjw8Ci9Db3VudCA0IC9LaWRzIFsgNTUgMCBSIDEwNiAwIFIgMTQyIDAgUiAxNTcgMCBSIF0gL1R5cGUgL1BhZ2VzCj4+CmVuZG9iagoxNjggMCBvYmoKPDwKL0ZpbHRlciBbIC9BU0NJSTg1RGVjb2RlIC9GbGF0ZURlY29kZSBdIC9MZW5ndGggNjA2Mgo+PgpzdHJlYW0KR2IiL2w+QmVqbEVsWykxLklgTSVaSCNBRSllYExTJ1dpdFUzakpHUzY3IS42JU0oc1pkXT5HYm5vLSFHaGBjSFlBJ2U2MzFFX0ZaR0hHcHNXciNrTyFyQ2YuNks6RCQmYjFYVl5UWjZscDg/KyM/YmA5UEFfSDBeN2EmSGcwIyxTOT9iWjs4cjFTa0EsXG1cLU1sKD9FTlRfTGJBLCNFMTdmQy1nMStSJWBaWCczWnJwZHNnXjFoYUZbOidmbEJ1UDxkWC4zKjxJYyomZENBRGYuSyciQUFebyV0bTUzYklILGQzLW1FXW5YaWcjWXJKUitTaFE+TztcdDQvMmBAaElTQHRyOiZsZnM4KSx0QT0lZWgwKXE7RU4iKmFUcmkhXjRFPylAXE1wJ3FZLmlsNzIyY1I5STIoPkkyRTs0LF0uVyc1VkBwKkgvazAvTlxrOi9aQjBYQCZGX2A1b3RJIUUtU1hNMmNpSVgnVihzMU5eTj1wNkglSVgwaSxwJVNMW1RTV01sXT0sPSxNWiJbb1xoPFQrMWBWSWdYYyVva1BGMD1vQDBQJUtcLm5yY05CVStzQl5nYzFdak1JKFJlZ0RmXkAoXSNHMklNVWxoPWomNUFZUUBpTWNZIWkuR0BCLURyXmFrKlE2QF5DVUVIbEtGU0lidDJVU2dgJFZaKj1LK1dySTIwQl5Kb2MyX3Q/blVOdGlJcT81LyFmP1A4TzhcYnNVMGQ3JSd1WyZoTTE0UCk2OWVxYDs/WTYtRTMpcSRSPWxSbShEUCRYQ0dnWmtNSURNakBdUGhgdSEqSTMhW2UlOD1SPEYtRD1zNS5dcHFjMSxfbUszQitxWHNSSWlQKzFRYCxlZkgtS2pvNTptM3BuPWksdVJOZGROWDxKJ2lyaGxsSS07UjAqU0lKMGkkb0srYzEyZCxtWmhsYVRpbEZPVT5xamJAdUNhTVtvZUdebFNXWSNJYzc3Km1VZ3RSKUJoZXRhOEIzZlxpXSYwXExuJDs+X2tkZyJERyszbydnTldPTT8lOEwmREtqZHNtRENSUnJrISIoaD5gWFwpbU8+NWYrNUxdcUsnKzVwVWV0YEUsclNaRz9NWm1zKjI8SDJ1QWlRWEVgU1MyXzYtVkR0ISwmVEIpI1xmV0VgXG1XOChwczdvdVxQIzBZZmc5WzhXXjQyUkxwRS1jbHMuZlVhSixTWydvY08vbEA1I2IpKyJRMWBvamZfRV1JNkNMRyhcbys5a0tNSmBrMWQrbVZZJzJIMW9CJXJrbFhGJj9lJXVFWjsyRFNfNFopOzxKdF46N3AqNlNzcFE3biJhZDNPRlFMOC9aVTUqVC5PJyJcQmBqLy5FcGtWRjE5MkBvUiNLYVppMCV0ckspN29ga1xhYmluLjcyPFIyI1lXLllpQDcpU3BvYlNxQVRmRWFQL0QzOWBeLi07UGgtPnVFZTVEbkBtaCsjVz1oN01OKkhdO2ltLXM+JEUqOVxrailrSmIxSWhLWUhcKF5IdUpUUkJecWQxR1Y/JTZxR21ybUhWJFtNKEgjZT1XWSo7Rmc+L2g0QiIsWGhUNzlmLnRuZCY7QSI1aCdANGswJCRyWTpMQDpxVz5dT2w/O1heZU1EaUIrRWBkNFhvLllbI1tMLXIwVyokIVwoWDZVZU0qaDQjPygnKEJyM1whJmYwU2YoO2w3UT1bY3VzciRbSzlEUG83WzZzNnNEYj1hbjczTzZRY3BBPyVlTW5pU2MiQmM6VUshJVgrNm9kI106P1NxZTh0LiNDYEtlNVlKSVhMMkkiQl4sMCxTMjVKWzRZIjc1VEtNa1AxXEsvNSRRZUpcOVZlR2RjMlRdMCpeS0lQciJYQ1liYSlBMW42Zl0kJU84SHI3RWInNmc8MmJXOS5tXClobjMxJyRVcDs1T2ArKVBbUSJDNlEkJFUsRVwqb0ViMzpgWG0sM0B1Q0ZCLkx0I0xbL2wsUjo9Ul4zSzoxR2BcPD4uWDNzQm5PViExOSFhNytXXltHZUUvJVgnLzQhRz5udVw8IW82Slg8P2hpdTxMT0k6dFhnMjpTZWxUQGAvTV5eMyNtSzhAIz5OWkNTYylcNVRuRTdEP1ErdDRRcTNfQFVvbXVmJTE0M10kQikwImI4JyFfJkRGUFRGIjQhVHBKXzUhMj4qOydkSUdAV1lyMm1EZWwtJkYyXmJkc1ZMYV4uYS45RTRDc21eZy9vP1Q0PSlrRFtlZS90PUFfOzw0JnBCQUJaNF8pOzMmXUMhWWg5ZzttO045bTRuT3AvaEtuM2xaXlU9JnFATnEqYU5CKjs1OFU6LWNlNjdaX0ViQGtSMEt1TDA6clZXIWA1N0gpLUIrSiJDVjc5IWMoU3RBR0RyXW1UZjgnJVJJTVo3X0VyaD4sNiJPaCNvNk9gXT5eLkM9SjI4Ii1jUWNNXFp1RmNcNyY7dDY3NFYvNkZsKFxDU1c6al9mKFBea1pRcm4/Ulg2VCNGWixOa29TYmRWPCkvK0NNbWgiPGpjal9EREJKVCxEZElxWFhqY15IQ09PUWJJSlR0VWxTZ2JuP0tSNDVSW0owO10sIi1IVjkkcjtnNmZmUjciMCQuYjhCK0JUNGckNUNcKkcmQFxfSGJmPi1GUUJyNXAvLl4uUERiNUo9Pm9xQi5YQjNrNXNfZmpxWGBgXlNFXW0wUDJRdSZRXkVPJkg1UV9XNUcpZyJAaTApSjVgNGMwa2w4UklPYGFEa25UWF4oJ0RjbWddOFJEamYyMCtRWSddQTUuPWhPUDxkVkdJLDM4XipZIUtHREg0MU9qIllpWihAIi9AYTdxQVFeIkZxL2JgSHE1OFxqazM6Jmg6SG5ScitrZythRVEpWCk9cm0kXE03TkZnZTZgMEY/L01kOGg3aDJuZ1lLSFFdMihZbCpqbHNZVkFIQShqLzpOLHBsWnQrSDFWNWRLXmg7LCdXWl4+TCRVN05OcEc/L2MuVU5GWD8hMlQ6VWZFQFJRJmImQ1FHKiZvM3RxZjQ+cC1Da0ZaNV0yX3IzXWBFQzdlI2o3X2dOa2JLYk4tRl4mV0szWjFGIT04RzI+JCo4MU4uNlk1JWZgZFkrcVMjZiQnKTsyPk5hZUhoP1BMM1NeJU9ML2MyaFJzRDdiOWNTP0tgMGlYImtGWGVsOlsoIjtgJlUkLFpIYURtUl1IIy4rcTdSb08mTzlJR3NeZVBcUSdcOFwpcCllY21gW3A6bk0tJSpWOFhBZSdHMm1kSUpXTm1xcDlOTjdkUmREUjA3Zl1Aaj5nZkBhbltaYXVIYGNIIz9cUl5rOVA9ZiE/VGUtWDxHb0FhJz1OOmRIREoiRz5JNFM7LG5HO206KjQ8QEIobihvLiojPl5sbnJSJyVXVC9IPVZnRUQjUmByO3MpaShcOyRMLChvck5SKlM4ZVs/PDFvLiZGb1RoUjFYbGElZ09bR0BSQVlINFJIMlJNX2ZEMS1TPFhnVGBlLnE2VmwlO2dFMj5GdXA9IztoKTFLc2BfRiRnN2lgLj8qUSo8XmRgK2lAUFluPC1TZSo7YSVBMDVjKl1OcE0rcydNcVxfUFJaO0A1TDApJ3VtNklRNSNrci5bZVZpL2xBO1pncF5UX20vXTg7IVJYaTA5WWY7OGhqNi5ZYmkzWFUtaiUsaElWMFFHP0ZyWDtHRWAsPU1tPi8+UylRTEteZF5yODBfcShzWV0mXEVVUC4wVDVKQnU3P0lrVFxbNVw8QUIzamtQK1A/cU5LXmYxT0UlTDcyIS1TNkMvOj5VLTE/JTYoJ1spN0sxWVw1I2wwKUsmJFQxTWw8PEVOUG1PMjtGL11CJVlOVkEjX2hjSmlYY1A5c2F1MGZEOmBiTjpVZFk1aDoldFBTPFZoVHBkKzo2VzAvI3E5czpXLCdGR2g7JGxBYF9fbTsnM0BtVEJRcW4xQyxcI3JAXDQvMDVPPSEpWiIncFQ2MyY+aVpwK3JeXyVDNlBbPCJlYycmXnE2WypZX05XayJoYkwmJHRsQ1FuZ0BmKUR1cjFTSG0wIUpiZGZvbCwyak0mRCUwTCZeblY9QXRmWzNeIU9AW2c8PyQyJjo8b0QnVnB0VEIrNVJtbXVTNitAL191ZmA5XEowVSg1REZMNVZGaV9jIyE4cTonP3FaWkI1UixGQ3RsJzshSSIvZiZqO21tJjBCY19mWGtjYjw/N0s0PCE9cjBdbXA1Nzw4NjQ+PFdAYmJsbnFyM0xAcGMzJVMhXmpNUmBiPEhBaW01dHMzI05jVkdNOVdMaWs4UzROUG0iYTdMOzovIjtILzMsZGsmPjsvPGxrN2AxXmNMRElvTFUyJzxBZDk1bEJoYFYiYmtLM2VcJSg/ZXQxbmcxXVBWSiNuNmInM1xcMzpaYVpHYiNYLi9fVWxwIzptbHNCPkEyTWZDQVUoXitvQGkyci9lKW5dRWNvRy0qNFY4JyNCIzxxMUMmalAqX2dhNnJCM3FwXk9CI3AmckRIQlx1QTJBWTRQZ1EyPDlIZTJwMWo5S0FjVEtAIiVvLWUqUmAqXVNCOk8yPDQmJWhpJFdyTSxqWkVvOFFbTUBqOCVPJy9mO3IxMWZmZzBpPGtUYGI4PFkmT0I2Vz8kbzJwalI5Sm5sSEBObF04aCc1LWsxSFVzX1dHJnQ/YnBXZUdNQzMnQEhwLkJlZ20nYVo0R1EybTsoMClWYVdnIzd0KUM/KURkWiVtRyU2J2wsLDtibjZOZk47T1dBJmFsSztdYUxgMUlDQVJAciRORWFxXTNSWyFIJk45OTJaTjkiaFk3bi1HP05vXj03SDY+VDwjP0tINTtwYC0mSisuMlQvYlomZV5ALUZpby0wT0g5P1c9PTJuTTk8VGNSTWxTcCs1KS8kWU08XUpEQDRvWG4rb1AnPyVYW3JnSjBDYi43Izk+RXFAU2RVcy5CVmcwVj1kLC8iKCg5R3FtKSlhMEpBOCNLWmUzP3BBdFMnRjxEVi1sQVk1QzwsXEoyZ2ttPyRVREtKTmFUPmVmSmpJRTViPDVDclU2TjNVYFJcbzI8YEleLHRwVFQtSDUxQTtuZlo5bE4qalUxVCxCRkIoOFwmSkcxcyo6YDxtOnJdQjVWZmFrRlRaNFAybz4/MW9mQ1VON1ROYzIoVUtYLy9IYmphWDtBcWo2bkdtLzJmOD9hYk0zTSUjNHBWMy8iYkJUQ2ZUKFkvRmM1aCoydDNfXzY/IjUkU2lhZVRLOXNvIWRedDh0KUw7PXI8dTZJPS5LUCpTblNIQzJTRTw5S10zXihNU2NpWEsiW1MuZUFDVlpuL1VpOmUsJnFqYXJsbTVuS1M9UTQqLDk/LCddL0tSXmhcNixHViEzZlUoPS4jRlBNRjwzRW42NE1vQCQka0hzMEBWTzNRbUFTb2FXY0ZYWHRHckpiQUpYMzRHUDQkcUNJcUdqOSNLRUFIUGNPYjNvWFBSREJMKXE2MihWZmksKktjbmhjdGFPVEU2QnNpNSgxZS9nciczOlQ4OCUzUlE+QVBrUGcyXiZqLzY0UVRrdUYkYEgwZE9CcFghUVhoIi8vJ0BvJ2RdNyRoN0JcbGpIb1VAbiJeMk9fXzRbPFApN1xTWDVkXHRwKG5AWTYqYyhNUldUX0olRGVBWV5NbjJvNmlIa0hLPiVUPmdCS21sSGsib2lmbDk6RUpiKjxbUXE2RiJLKS5pZTJZdGNbOi5UWiZ0OVtyT0wkVzllNVxLTScmYVRgYm9ZVzcucVQ5UiVEOjc4Jis0RHA9J1UuLHFnPWA9QVxITnA3KSNvPztMVVZHSXNwQW02Ly10TEJWZmViSD1FYGVFTGNXQl5DRCtvT2ttZVtjREwpOWo9V18xV0NvRS9qVy1yPGoiVEAtKyhYIzM5SzdzM1pnS1c7VV8lN1JdPDBxcWUnLEhAY1s9K3JsaXVeUTxcJDJENUZHXWc5dCJmXihSQDtVdFBfZSg3TGk2M24jbXNaaUFOKjZSKGldOURvZGNfcz06dDQqQyxzOSRdXW5LTXBoQmlgZUFDL05LVVYtPSg4T1ZsQyY7ZSgyKnMlLXM5K0ZRMT1WcylFJSRgNVU4aUB1VmBsbSdkVylZRyk5WSFBQXQpTW9SQzhWJycyMlxmS2NeRVRrL0ckMTkrOFJLOy43JiRVSG1eKyw/RS1yK284KClIRUttKiJtMFEwOm8oV1gjdTtOK1pSK0tQKyNSMmFzX2ZmWiNcPEttYTkhUCFqNUc8J0BJRkFOVUA0U1goUko7bCZpNEQtQzlLIiNqNCpsalsiYz9vLTJNWWEqYyRpdVovPSMqKlIxWmFMcWZHMCRjY0ZDVUNoXXI3MTUqW0lNTSFTUlViSU5eWTVkZDdUYSQhYXMkKyViXj9McG1NaT0zLUd1Rj9ARUYsLC8jT08vLEgyYDQsYHU2TWNCNTVcXzs2NlRrTFE+VVNqMjliRW5HWFIvTjIpS0k+LzoqQSFXVShSb146XmVeKkQjbW42TztnVy5LKCwpQW9hMUZrJ0lPMCkkIWEqYSslOjEkbjxTbW8nQ19iRjosJ0VUYHRtKU5qOUpUQ15lYVM+RElrbSElVy4pMiorV25OLDFNXVkjcXVqT1ZBR00yZlJtV01MTTcuU3FMbVdQTUsrPFkiS2tQQU8ubUldR1k/dWtLYCE2VUVKMWVoNyVcdU83NTlobVhaczdVNHM8LlApQChfY2EpSiguXjUiVThcMjI8bVtKYm5YNlorMlgvIkEmJkg7VE5SNFhlPE0zPEBoOFwzOyZwTUszaTdMcG1NaTpXU1RrPmIpUGYvVjM0JG50UlU3a0NlKFE3Ll5mXDszXCwmSnBjbUYvWWwxYCYjQDNyVEJKI144a2dIbFstPFdlRUtJVSxMZXBIVillTCJAViExO28pWVA5azNgSis8ZyZlY0orWkdSWTZfK25LL1YzNCRuZm9TRWUyW1FkJyJDK0s1RV9hLlNKMHA1Jl5fdWE3b0ZILUYkYjk/TyJJLydhOkcpZEpOcVgvZCl0YSJzODNhJmgzaGlzZzN1R2craCYpZyghYCUjXXI0PzoqWWRZN1MsZEMsPmJAKXM3Q2JILGAqMztwLWZkY3BZMElARFFHRS8icSwqQldGJGRNYyw1TUg/LipDKCM2LCokNCg9RlNrIz8nVHQ6XDVLQTIyMVxMVj9oQlhSQmo3QyZTZkNoIkRpY0osdSQkQmRCRWtwXDEvams+Nio4JmpAMyJMYzNhJCxfIkEkMDszXCwmNkcrVWBJNnJBc2ptJj9JRGknOTYhQylIXkZcXCQ6ck5WKEskMksvJTM6SVNFTDBJQHE0Z2FKMihkTEA7cCoybTVcV3FdSUUyS0dxNzNybEdUR1VibCJEQTIkcUxtV1BiMS9LcWhAZD1eK1s6ailGXFtiJSJLa1BBTy5vbU0nQjFTVWQzbWpCOzZKMU5udVktYk8/T2dQTztcQFFVO3BaQldNPjRxcCJhaiZPZXJwLEJ1JFMvR0k+Wz1WdSc7KSMwZUdMZTJAdWtGUThlbUhxN3FMQ280VChhN1RddE9qSHFUOVBNdDpDQ3RNMFRxUzNLZFxdNydfbHNkXCVGbi4mRFM6JUMxXkgmQSdeK1peYyVYa0ZQcnUnaWdlJE9mMVMoMElWc1pzVi9Rclc1aDFeWTxBMUlbXllZN1U6TWxBPnE1VSpAMVJCaVwvO2RAdC02c1BSKEFQRytcW11nIW5cQytwMVJWbCk9NW49VEosdFdXKF1lS25xL0Y0T10uYFdVby5iJigxaCFvLCcjPDowPWImLUU9L09ZQENoMVorZEE/MiZnK2skIWwuTFM+Yi8nXThRXGhUSig0bTgvQ08+WWpdYi8sNGwkOF1ibERIKDE1JXNoZSlBbTkydF9DPnE/I2NsK1EjSig4TVI3MVhucGByT21Jay9CKEMoalsucmZJLERCbmloYyM2YmtzUGwxYUNGPEBCXVRYPyRONy1bTkA8QyhbdCY7XGksUiVmMnBPcnQ9ODQmSWtoYlUjUD9aTHJbWTY7VTY+bzpVK1QzUyRzOEFMcmJkYUcqLzJGQ1thLy1GQEZHMy49aFZaNTxOT18lOklDfj5lbmRzdHJlYW0KZW5kb2JqCjE2OSAwIG9iago8PAovRmlsdGVyIFsgL0FTQ0lJODVEZWNvZGUgL0ZsYXRlRGVjb2RlIF0gL0xlbmd0aCA2MzcwCj4+CnN0cmVhbQpHYiIvbD9aWThJJURebGk7dC1jLWMub1Ivcm5mbXNEM0lYVEQoIXFBLTgxcTthTDdVIjRraiZxXE9qUGFcS0grJCZjcT5zb1pFV0dqXnF0O25IMCYyIT4nbzQ9XzVTQTpWbSZhRG1TZylEbVM+S1hZTm1nRG0ocnNrQjZMbDBBMEVGP2k0UjNWXj5GWj1eTWtnZWElXDIpJEMqSyplJj9SI0pXKiRTUS4uWFpBMl8vclBhW1JeMiFAZlkjRGJ0WTFnMic8MT5nPSVET19MRGBkUTgxODQ5TTBZZ0k7IzYwcC9cTGQ8U2IyMiFMS2Qoa2pRJ0xITW0obU9gK3E2WEhxIk84RnBAPmg2XlxRQDlycSxPQ20+b3JUMD0nNCxNU28lNSI3RW5WR0MnJGtBIklTaU5rVGtkN1pBcEQ9Jl1NSGA4QzhuPEI9NCRRZVAzNV1RRVJhM1ZbNW9OOW9YamI9NigjXiZSJ1JtY0lPQ2EyYSwqbkRoLDZeQjAxTWEiS1luaHNFVyptTGI5UW8pQDMoUHMrIjhdUGZXT1k3RnJiXUBSNSE3JkFYUFgoYm5bOjAlK28nNzNPMFhNNltuKWtWSDRwPiwqMnA6NDVkZmxqaz8jTEUkZ1pbTWFySiVhVWxETF5PLFUqPzM4KmppLENebWhYVVgoTCglaFFuQ1okSXJVRUdZMjRvWy1eZTpmQW9YQm9NLS5AXlM0IW40PmstblpMM3FFam0rKy9xYiJXR0wwbVBRTmthKDQrNTU1RS5bJ1djLTtxWDk+KWUpPjchVUhuczhMOD5cIWl1cFJgXEhONlVEPCQlKnRiZ2dxcFxpKy9EcGxwbz9tb0Q5Q0smYVBjcTFVV3IsP2UsKy9WVFdjLSxEMEVWSUlYSE9xSUU4UTVtVmFuK1x0XXVCckYlKWtHPzxOKHFeVDdrZzQlaDM/NSEyTmZ1PyxRb3R0WWBFNTxOaG1KR3Rga042WVxsOGtnO1hTJDBrblMrOipUQE1kRS9qQU9uRVtXZlZXQi10PElBKEVONzFFbmdXOGEjZFk2RG5DbUdnPigiVm1ZT3FcIStcZz0oLi1GVyIyLDxkTSpGcG8jRXBjV11kOChTPjViQmtpWUhnRHNRWDtyPDYjPjpyKFxdTlMzWmc8WTJuQEhnQGwwPHFATzNfZUtGbSpFYCNaZFA/PGRTbz9TOSReXTA7Tzx0Y0hUPG9DVlVtODxIZjxNcTxMbVkxL1pDZV1vL0FkVUFlXyI0IlI5RVZiQGRuTEJeIXV0YzxuJGtzNSYyJU9OIVFqQT1GUUNfVT9iaVkmPTZOKS87RyM+V15OQFA3PFAwcmVNSjlrKEJGTlJwImZYaD1bdFcsJmMjYTRmUS9RbSUyTDJDPUppa2VFRSshQSdbO2lDKktrKkJmQDVCbGcpZWtfbE5ePWg4PGlMOzBNQkRqIjY7aFwqbDkzVlZQUFAoSV0nImEkWzdNOixdKDRWVjgwRy9vZTonbFE+Um9RJ1lLLj5WLUZNPFNiQDJMN0hsLE5OLjBkUzZBYlZkUS1qcikidVhkWkhJR05bbU0/TUdQO1dXZ05PI3Q3NjlWR0lHIUI0NE9XXSoqRTdxMWMmQjRYV1hQRDZBb3B1aTM6aVA4XSJLcEZVVHJLZFtIY187VlhFS0loVTZcV1VeaGREKTlvMi1GM2ZmNic/dUtZVzB1JTpEXGVTL21ZSzs0anRpY1NIV2ZFNUc6ZiZMWSYxKjJiZHExYDNSc15CUWxJdHIwS0QyJ2dATys7VCZxamcjcT1EWmhVPEwnY2ZwMElgdFkuJSs4Mk1iOVUuK2MlPUBxUF5XS01eZjknLSFrOmw0OTUwblA8Yz9kb1VFYiQmZzpOM3EuXFUoPE4+LFxqYy8/ISNKaCE7SyhdPlJdI2gtTkdAV19GNVc3QTNCaS8mSDUjTmInYzQ7W15gTUkwVEVhSUVIK1BoJ1UxLlluSVA+TCtDKjtlUFRvRUZAMyE6YjFOKm1VIWk+KS46OTI0QVpUaEgoPFRkYGopMThZa0w+WU1bWCYvLnAzRyZYaC4+TUREakZgNlZWQEJnXHMlUkVBX3V1MlgxNm9NZiIuJ1RuPTk6Wy5jIlxUTyVMZls3OFlxa2NSdUJpU0FQPyw/OU5pOGUtYU5DTy5ZXE5JNz5mNUEnLm50OixkU15WWEJ1TW9JOFUmUlFEZTxrbmBbVlFmMVE+TjRkZ2xTUWVgOmNQWy5hYz48LURESTRUJzpOYCtlVzJcXzBfYmJeMkhCWWYyWFMrOGRtN0ZkUmszXVRgb3NXcDQuUiElLz4jOU9GMURoJSQ9bThNZTA8cUE6NyEicVBvSCk3Wkg7NkVeM1RBTW1YMV8vM0g7YFU5PDdQcnVlTVVoP0MzOFAiZSdeN2FWIi9vKW8sUThOa0ZWOUVBWENGWDVCKGdnPVtjO2FsXlBOUmg7dW9UaDA9R0FqK2pcW21kWF88Rz1RallSdWQ6X29mbFplTCk5ZE1sPmJfbzsxNnJCIicrRUlyUyUqSismVGRSXFgnZ09YYDcqYFhdL05BSjRPZy8qIy1xc0RlYlhoPHVSLWNQY1k7LGslQSxhV2s1cTwvKF8hLWNXUmZNXDhcOnRQaDwhOVsnOlJVbV5rbF1MPTlxTzhSLSxgSEMpNSQsaGt1YD5wPztOYFokMjhrdF0/JG9sOVRmRkZHZ0A0Rz5sTmtETTMhSF1tYmlBR0lbZGBEK2hQOlFjYWo4ZnA3UnM4O0ojLktKc2E8TDRNZz0mRT1KPDsrYCZZQGY3W1gxXy8yVFtycmVJIlxSQjE8azMiWEQlMSkqZSY6TWxPZT4kUWQyUTZlTEAlJk1mNyo6az1UUGJCVGZoTW46bDRmVStVckhdIUVPQFghOk1rWGBwYUM1MXNQOjQ2OmR1JWFxcWxiUks/LS5jXXJkOj9VLGlQXSwsMyxiTl10LWYpTVRRQ2Qxb1MyOz0oWU9uXixdJ182RW1PRzUrYEV1WkxYXG4wbDIvOTc7V0dDIVVzKjExJF1eTyltZ1pwJENDMkpGbjcyUF10Wj8vaG5XRFVkLUdfL2AiVmZPS2lQTzJyUjxUVCppWitJWmBdPiklaSolVCVqYFZdT1ZTK2k3Ui8vVD4+XFteQSREL2cvMyZUYk40YjslUSxiYm0iLXI9YyVaQVI5TzZBUHBAYTlbZ200XHJIVWhaWkxYSi4yXjBzcSM6OU9oLFMmYytoUDpzXSItVUZdUlRcZj0iQmtoZCVRVi48PzVEcTciIzxbPidKRFxKQ1dMJi9jazJwO1tyXTxIIUIhLWdsLmovPFBgU2godDFePzpDR1RYNz9AJWgxIlM4SHAqSTA8VWBaTU1WcE4rUUk+YUJSRlE4VHEuYU9ORDtwb01wT2s1bGBgYzZtPWh1Y2YoKT5GLCozaUE6LlNnUEFRSHVlXUVVdF88aWlmaV5JRDg1STg8UmZpTENZX1FlSSpSKzdQJjwpUyVtPzMsNFk7ZiZnaVE6Qy42Yy4jX2Q/MHJQQUZUODlAIXE0Q2JePzYqVlpbZ0NZX1FlSEhwcCVQJjwoMi4nOVE/RDU4KWFbXEUwY2FOQVE2IXVMVjVcJF5UdVEwNVxqNFhWMEBlNCE/cTNVOThfUjFGVmxoNjBgTEghUWUhPEQjRE4+cj5sLCVCaW1qUVlrTltdXVYhOXEpbiIoLzNWPEJsXFc9W0lfKi9VYGVRWUVAZy5xJmdcNzFYWmBSNVVGXjg6a2U+VF5GJChebF8uK29ucVB1aDZvUlElQGxXZFUvP1xTZUlwKyhfZTlgcixiUi5AQ15pXlZLPEtEZV87SzRZPlglVy9KcGddIiM4W141ZE10cUstZUksUT1lJVI/KSVwOjIvRl5KUDJpRkNXPSs6PiNySmNPQTI+SjMubForaDlATE9oT0F1XjYtMnJwQy1ES11HI1dMJ1wjSU5bXlppO19UPSFrXyJURzdzX2MtcWRGQGM4LlkyUEE3PidKSGlgYC4qQSsvX2BwZlROakdFcHQ5dSVLPkFLUEMnbmlqbjh1IVc2RzYnKjoxXV4sPFdWTjM/NnJlKm88QDtZOzFrVF5FTCNMQzAzPlhySDFiKVAub11iXDsuUTJDVlInKk8sJVBSZ0g/RTxePE5bYGhpbSRaPlBNTUs/XFhVSFJHTixrKyJyIlI3MGYiT0NMZWEoJVQ3bDBNKiRbNC0zOjErUixDV18+NkFtWSQhTi49cEo8VU9sbS5lZU86MCpfQS8hVGUtS3VaaU5dInAqWWBoYy82UzlSMyJlMzsyUkE/YlRAbiJOSGFlZmROXilkbWRYSkc1VlJmTTxWaU4uXmE1cTdzOWdnTEUyJDxSYlgiT2h0M0FrNEViWmsqVy5LT2lOODxbUiZTKFg8Py9WST9UI2RSLFhXJzlaKS0+KykxQT5YVjxtMkBcdF9QK0xOaydlKExVUm84blVITHBuSixgT3Q3cSE1XlE+c0pYbzVdVWghMGopb0gpTkctJCJgRmprVkAuKV0oPSE2LixkOXVaZTNialknOVondFJrQ1hwPlc9KVZTJXBwZjpfMSptUy5LSzxDTHJbI2hOJkMjLVI+MFpvX1dyJnI6PylvU25TJUVpNExpdVhiMFJxM09sc0QkcC4wZV9fSyE3aTJtJUVGZG49KkBjPGk9OUVPUFFTIihPP2lMSCFHIXBmTktTL3VfMFM8Lk9nbGgtYTsqY19pUStrUXFLbFNoczBdY1NiJjouUjo+a2tGYitwdWBza19UPy1pYzkoKDczXzBGO0swLCUuWWddQyoqInUhUmhBVkpeXCZpOywoPSE2LixkOlVpYWxzcmJjM19UPllbNSlka29na2ckLT1OdT9HRlZIK1ckN1NKa11YZElacj0ycWxxQCxLT2UjPUlVQS5sSW9iIi0kUl5HW0UvZkBlLSQ+OlYsUjhPXCFPRGkuX19LITdpMm1tRk0/R05MX0RyZC0xb3VzNkhIOmVdNkYoPC0vIUtVZSRnMzFSZSQpayJrb2drKic3cnJyM2dsZUFwTD9ZNyQtQiVZclAlLE5yV1MuakU6VlYzbz9Pa1ElVDdsPWkhczZObG5pRGNgcnNrQ1tnJllbRCksOk5LbF1SOSQqO2BzRWRHZlxGJGQvPVhPaEIySEg6ZV02RiRwIWY1R1xVYUA1MEM/a1pZR2hkbEVQSV1RKCMra2AqU2hxJys0VDltJXEtXCEtcm11MHAqKztJRVdtUCJqXzo2WDdKOUpBJkNDSSE0JS1EUThzMyUjdTheaj5yK1ZoXE06LVI+MXNITW8xZ0xLbGVkLGIpU3FyP2VGdD5YVjxtMk0oUHQ5aWInWWEsNilwUCJkRCVJNkFlUkgmOS5QbyUvSGFjRkM0aztNIW9lJVYlM1oxaGRFPiJPaHQzIyxLamYxMFRLZkYkX1ZnWE9oQjJISDplXTZGJHAhZjVHXFVhRyJcJVozZFZhRGZVMEY3SEIsMCczTUhxQUcsU0RYQFA+cGZwJjVnZi1COklRLjU2PWFeNnUzbUBTQWkqTWBiWV8mWy4nWEZTaT85SkEmQ0NQSzI/NW1zcjo6LlFdQENMcllNRW9FT01DYDptSSxYKDUqMz9kJzRYSGNBJ2FANTBDQCsyPlQtTCdkbj1IUlZqWjcvNVdZO19NbDYvak1lcixwcjExRzVlXjwkNDMyX1xgZUQ5ajVGaF82aS4mIVU0YHJOIyNtXVM8LURHbGgtYTsqY2c1ME9ERyFhb3BfSG1Fb0VPTUNdYHFxUyIoTz8mTk0jZSJQMmx0PVpzRz8ub0ssNTJQb1gzb25gRCstMThYbD9PK2s8ajNmdFoiZDRMIk41O2FJVWJzLCo5RktccU9DI0U8QkhcLzokLT1Icz9HRlZIK1cmRTFhWDQ1dV5XR15gKFg8Py8tRXBna2Fsc3JiT1Y8PUBAKGgjUWVeT0UjLDM9Smc7aTYkMk8sLzlsaVwkYyFGbDluZzAhMGIqKz8/c0woXnJLIz4vTikyWyxBJWVsI2lKUygxUTZtT0EjYEFvcF9IbUVvRU9NQ11gcXFTIihPP2lMSCFHIXBmTktTL3VcXzM/ZCNYZic+N3Q0aFZwZjtHS2JAVjxJW0hNImtVL1ErTSMrZip0Z1dCM1w9PldCYktDTERfY3I/bzhvOzlGS15HK2ciO142N2VXP1AiRVBwUkE+VUMzJSN1QEw6JmQuJiVRWFM4Ml5vbUFXZSpUJk5NI2Uxb3VtNEg/cWVWVW4hTl85JSErbmMvVy9tXC1qWzYqQjxNSDlDIV04OC5QJkEjL2EzImVvNDs6L1UyJXJISktwQ0tpZzteLGE2I2lyP2VGdD5XPSlWUyVzQEstRHVXKDMlI3VAXmo+citWaFxNRjonYGIvcCVoQmA6W2M+XVBTOTNTLkplSFUsNXVqWjNKSUshSWxhYFJdSG1WTjYoOWYwLkY9OEBRajAnJGkoP2thLDJxMjtOPCoyKTNnTCltNER0XE07ViYqSDM3YEBqNWFKXjlBS2tUUlswQy5aZCpbOk44P3BFRGouZEg2QW9VTUooPzs9WUUiLlZ0P3MrdXIhaDFyXCEqQ01nOExmSE1EI2tKVUFuVlJubl1SPSQkSiU1byZvdWNKRyg+MGVOampaXVlGSFcrQCVIPTAmVnNCKiVUKTFIYShwMENcYlA3UEU3J0w+LzA7cGBaQz9gWj47TzQtOSFfUE4iPWR1KyE2LkhqUz45Vk1kTTw2SS9pMGo8alM3ZlsoaSE9PUdZPy1KYWs4RHVcQmFXMU9RMlAyQSNPQzxqIjFrITpXQUVnVktJcE5ybl9cY2FrPlhJJmMnPWhBNiwyKW5EWT50OXU0LDkvZCpZOGVjOEZcT2NyYFE7OykoKjl1NTlvT1EyTlwiJnIyKV1IdVk2alFsbHMnRVcxWjNCZkdiNVcrODI+OVhXTk4jZVJbNks1RGZbcDQ8JEcuOzNSSU1TIjpsSTo0QSlBKT5cMTIhXm8jWlNzSiFHbU5JLVJZbDFVOWspMz5hSWgpKDZJUj8xQldtLUYiI2xYRWRWbk5KOSQmSmBFUFpoOlgwR0hZMFdlZDkqRjc8WWxnNlZGJUJYN0hjc0FVQjg7QzdqQ2UhUlk+MSc2WG9bTSwvOUJDYktnO0tZKVNnTVVGKW1HJCtcR3I9YGNYOUVEI2xYXDNBV3EyNSk4LEwraWJzQyM6UzNlOnFTKzhwdUxjQWpuXXNTW21WPyYpKjoqbzUpODQsXlVJSHFFZCJzKzciLG80akpuWGVCajxISV9EQkFvWzttRWUuQzAsTD5fYipbLWBJcldaaiI+cWx1TTZxIm0jST5iU1dyXFQwcis2T1EyUDJAam0lWiVgKUA5Tl9kclxUYlIyXCJFMCxeSG5valJWNko6PkdqWHJPKFNAMzwvZktqOk4oN0smQzg+aFkjXjltS1pXOFtdLlY3MDJbX25Nc1A+aHJmZyZgdDJiOTpPLGFSUkI/IVF0J3EnUTQ6PDR1a1xpXE5ZZi4vS3IuXkIqVGo6az44ZjshcUZDYiFRdCdxLGQ3MFtqbDJLMV9hUGdAWlpyOUlWYV9UVko4Zi5lM0dbX0NUTWZBMj9vc2w9M0QlMSRWKERdLVxmPz0xSi9rMk8pNSg2LDZoLUooai0tZU9QajxCPWhAYWpWRWN1dFJJMUY1IytxVUIqKk0/WjA2aDhzZz46cioiNCdYVGQ1RHIkWEZfW15sJTElL2lSQm9wSCI9ZSE2ITRLZTVQRVNyUzs7KSgqWTAudSUkY3FrW1IvdEonMz4/QjwzQmZHYjVlMCg2aVtsPW8tWUVaNGZCNXVDLG0qVllmRScuZjNAKGcsXiNlNztaYm8zVm8hPFFkPS9TNSNRT0pFLVBzXVNUJDouOk8qOT05MzNUTll0KG4uODM2KlJoZFonLzpNOF1ITDlZZDliSFA/YSw8YGVdMk1YLXFHIz5gTTdtTGsyZSpSRkA/XiY7UlYpIig9LFVkK1s1RS9kPDE8OVovc2YrUWZXMVdDdSs2RzIsW0xPSUxvPihzXkQhQVMuRXQ2WVs7QV8rM2AuXmJtWiFFZnMkbDdpTy48Q0s5TmAsYUtYN1tVOVp1VTxNOl4vNENMcF8nI208UkJyKVpOJjh0NzYhUiZMWWhJaGYzbSkrREZBdDlvK0toWk5XUVgraS04bDhrJC8nOWVSdEYhYDlvVT4/Y21bXmlvWldHXTwvTkhiXmM2PUdmaCFfYCkvV2ZQMXBjTm9RRDA+SDBNXCE8RnFUXjE3VHBXVmI8Mmk9NGVuZDJbUW0/SkBoN1JWPis6OGZJYykjITIyXiRfUyFiMUoiaik5WyNWXFRtYTohX0FBUSEnJGc0aCI4RVlNLEM3Qi48JGk1ZWJENzIyXz1MazZqQVRicExnXGZoRUhlQDdfYixhJUEmakItRmVHM0c0aVliNjAqZyk5MUBWLVkmKVJJMG5BIzYmMGVyWFslL1plR34+ZW5kc3RyZWFtCmVuZG9iagoxNzAgMCBvYmoKPDwKL0ZpbHRlciBbIC9BU0NJSTg1RGVjb2RlIC9GbGF0ZURlY29kZSBdIC9MZW5ndGggNTI1MAo+PgpzdHJlYW0KR2IiL2xEM05fXyZdYGYrO3QqZi1jLkZRSiZ1PS9dOXEtbzBWc1ZGSUFicjhbKVAlb2gtJE1DP1xvWEJbP11uTSg5NiUzRVI3R0BrKVVJJWBpNCNhNW5SIWdJbkl1XWFlSzw/Pl10QkUjXllWQS5xRlgxSzdsUW8uQVQ4TEFyJDIoL2svR1pzKnNKYDxVMDNZdGwpXkNUMkg8OHFGUjdvIWZKUG1cLCldPjZScVRRczJQN1stSzImLG02UTtSRFotJ0oyPCQhIVRXWlIxV286Z1tDL2xcPmUyPVNlSS5SKUM6WEhVLmJVUlFWbitjMSk7T2svJzA9KCskKEBbW1s9cnA4TjMwPklQXGxZbGRxYm9gXk0rLz49T1U9WGgybDhtZlppUCtPXT8yXEAiYjpSYFI0MVo+QT5OLWh1PD4yJiZXPkRRYUBvXlFpKyI3cmowImBCR2liTkklb15dY05XOUYsJkRuIUBHWDY+Sj5nSTplXXBSY3JnIkMrSXBvISNXLis5KGlcJkZvPk1eOmZiO2xwb0c+ZVckKy84I21aclVxJnEqKXNQcVpeNVhKQ1VbOz8waD5Ga2BiP2ZJW2NcZlIjY0poYVAoTCtEMzM0ZEpdSS4/ayhZWl06UmdcNWNbJ1VsWkdwVENpPUhvLS1iVlp0L3ArJ0I0KDhZVl9DT0hFPF1IMlw1Z1JGaTNfRSU1Uz05M2NfX2JTLVNuQWxGX2NXV0dmOT0mQlRzPV1ZUFk7ZTcsMkFzdCZGTDFDcmdMYG9dVl5xMk49NkVtJFxyam5RJjlKdVhyO2FPTWFpU1IwJC81Qmc1bGF1QEJkXG9kVVw/bEhPNGAvJDkpWGt1ZEgoNTItcE5gI2E/W19iNUJYOyMtNTQtc1dCWDwydU8uKzgiPz5BXHJNdT9IO2EkWTFlP0VQJykkZ0VcOWNdRF06WWVTbnFmMFRXNUhfYkVBLkhjME1AOXNeUGFHX28xUXReMydaLCctc2olTUBtPFM+dThyW041YmAtRipvYy4jW1gtPjpcbS8+czZFKipuTXBGLEs2ZEInLDtIRlQsPUM6M05cV3JxJz8rWj5nMkBGYGEuPW9tXTdOZCczYC9gNko0SGxMdDFcaFRyNUFaZ00vND5JayFwQFwxbC8sVk87Sz9BNlUiZVNMY1sjQ180cWw1QVROR2IsZnFUZyxSLz1eMzshZzw8UFgxVz9DQ1hfZFBqQldkZFpZUzNuNy5EdHFBYyUsIWdkSU0xJT9mYVxfSGVANC9tTEUrYGJWPFtSaHNUK2pnRiU8MnAlJlAzck9tTmwrKDdaPjl0NTM3KmQvP0k/VmVDWlduZk86aWp1LGdbcWVbS1ZQSXVWYmBIU25CJWYscVQ8IykpTl07OFxWK1ssZDxkOFUrVjBfOS1pUGc0Jl5hTWB1OzcyX1JjLzhhR2VQVmVaMCYkcmhoNmlaaEohRUJGPEgkPlM6cHU6bTRkOWRtMWxXYWVeImhHPypSbVgvOSFjbWhOPVlFTTdbZEFIS2wxZF1CYiopTFsqZ0xJWlBqdU1lOy50PGZiMDheWFlTVDRYZkBDRWRNOjxgLztWWVFlX1NyKDM5XiJXRDxTLmZlVjlyOyhGKGNaW0thLC9Pak06Tk4tOCNCZzM/Y2FrIz1mc1ciRW1aLzlHcV9VSFIrXzJJNzAxPWQ+KmpDLiciKj5HPGpJPENWPi48Um4/RVx0W3BGcjI2Z2gnOlMyZk9iKSFkWSxdZCNBPTx1dEAiX3RFVDZOP01hIWxxUlkpMShlZy5rQ0NVajVaWzUxNFVwTUJeO1wsNFVmKFA+cjktPzUmMF4vRF4qSjhnO01Pamc6aTQlV1FaXj0pNG0iRDluNkFQQWFCc2VDI2dAMVluUkZsV0Qhbzhsczk7XlZLXFRJOT5wSG1pSnFLXUJFWjpmaEgoamEsRzIicXQzNlciQkk2aGVOUDMwYk1qYmxcKzs+RGNFLSRSaixKbVo/OjAyOW4/Y1E2YkJUI0tJK1AwT0M6P0RXW1BYJUYtSD5gb10kWGY2ZltSQk04dWtmMEgxUyRGcyIkLHBcKy5DW14+Ml42TSI3KGBrdTQ+IkVZVENjVVJNRHFtYUgmVi1QZDIwLTRPZF4nMWxBR0E1NTdbNjpYYWFySFhzTUxKQEg7KGAwI2c5UV8kPmRXYzp1XD8vcDZXNiZsamgzR2FMY2JgJ0NQYFU0TVtwW0dDPzdPOXQ7YlAzPSxhbkw6Q0FpVXBIVFxbdTtYOXQ7YkQvR0cwQU9DLmQ6VF5bUSNxJVRGKVVvIjJyIS50XChpVihDcmpmdWRxViRxZlhjPXJrL0QqN3BiNWRhY0JtY1Y9ZmRrW1c+Jm4qQTdKc1VILCoiSS47JD9ob0syIklOKFVpLzhWPkk7IjoiSWZsJChlSmU5cEU+Uy8mTUZGVzZXcUI4QUpoclI9PCVWQ1pARz1aPi91I0EwUCZoJiFhPERTYGlhYjlSZmllc1dpW11qS0JMSTlsS3BdUT5WdTw0OC8zbltSRmZoPVU1JEhlKG5MakZMR01cLWk1W1ZWRSUxWSxfJUVZZmM0Z2NYOHUqUForN3RWJGohXzF1UDU4MDAtKUpYJlw/QUxbRjVEP0RzOGEqS21UYkBAOS04MTtfSHAudGFHcFUsLF9MT2M3QWxQT24ha0oxI2VAZEFCZkJMLUFaM0MkZ0ZlPGE/cEdoO1lZQnIvQ0I+SzFzRSdma1FkKlY1SD1pcl8wNUdeX0E4TS1kdGo6S3UqcDVQc1FzY1ZLUE0ocjhhaSpaaj5QUWdmOFopYygsLUIiSCxyLE9zQ141MFhLR1JKXFZlVyVqKyFaUEtYMyUvb1IoLGtuLUVWUSx1S1owTkdEb1gjQW87TyVMLmhQLUBwLVknSWE5WExaLChmVzZOJm1NX2ElbExlVmBiVSwjbC08ITk+cUxnTlY1RVlSRSVzVlhdS1VqbzBWZipiQ14lQWtOMjoxVD8wNEFrNGhXNCEjKUAiOVhhXmMhTDgqUkV1SDs0YGo8JCVtQllrKk0+IW8mSUltW1pxNDVvcyM1OVQuU0BcTEdecG9YUk5WQShHSkZOST4zPz5oZXU3S1JjUT05OXQ3NWchXTM+LHNbPm0rUTAwOFddQHE4IVZiblFDNmw9VT50WzBmLjxGSGI6LSpRZjFIYihIST9aPHFjMUYpZ2sqUFYkWVtiKjUqMUkpcjVtVEAqVEhpNzJDb0s+OVljS2ovYCQ6O2wrXGE6Jm5uT3NmZFVfXWZqcTtBYHJKbm1wOGAyciUqMU1OQjlwOVdnZ25vcUo5PzUkQkctT29SQDsuTE1PR0JaaCprUFhlclhWZSNcLThZNS9lLHViST8kSi9aWSYjciwhSzJZXiMrOFUvRXMyLT5iNVFOVTAqMzRoSy9pQVIhVz0lNThQX0YtY0EsIj1pKTRuZWBZUlo0UjQ1b1Fca0x0U2NYUiVSO0JxSGUpVWlwND1BJzAva3MySCJQJmptbjlmVlA+aHQtSVxmaFNYUDpQR1hTLlA6ajFzKlZbIm5cV0w0PEwxQihZUzpXZU83YENNbXQ8dGZrZElmKTFhV1RuOmpGcnMrWTFXMWNaYEE7LykxZC1fTkBsZTQiTy9AdCdSIWxrLDtdLUlXRUxAJSg/WmhXMD9XYSptJlJmTElhX01IOVM4LUtnRDZvXlVVVjZRVlVBPTFDMUwrbSpMUiklazxYLCgjTU5CbF0/TDhKPGlUJT1pI1VoKEo8J084NVttbyJbKW1fUysldDBvbm0+UHBGZixvVDFHZXFKPjJlSiNoXWUmV2JWODlLMipCSDFMdEdBJ1ZGMDsyR2QwVlhvXT0lNiFCJW5HcTs6bWVxR3JJdUA/SG4pYlIxUyM9ZUQ2InRRJV1oXCdzcFU/VDVfKUdiJGNEYG9Xa09SUWctLDA8SldyOEJMZSYkT0loXTpQJz9RPCVZRSxpV3UqL05Kbj5vPDRhXyEqVSdfTD9pUi5VYEhEX0Q8TWhjaS4+OSkpPFRKNEYlNTNAZG4vMkFHXyYrKTFLJkJKbkdPaU9baWYtNDY7cms1Rk1LJVBpJ09KZFY/Q2BYLXJUKyhRX1gwcUosY2ZJNV43ZDYnJDxOQCo1MUg3YmVYWm8vNTxLZXBiR0hyRFdhLjpnRkouRyJnLS1lcDZsZVFQdDBgZ082X0VxWWxjJmlnS1FPNVhDSWcjJzJyTmsuUyxTaiNrc0VkKlR0akBeXXEqXVBqN2hzIXQ/TmNUamlORGk8Oz9Gbjw+OC46WENiKS8vNnFEKSdlTy04YFg7b2tVSUQ4KkoiSkEnMU5HJjhILXRMRFlAODJORXMuamEvQEpbWEZZZC1Hc3BPcTZoJlVeTFdEaTBSWk9sWFtVdHRmamQnOkI5SWFbZElwNixRanV1YWpJT2IlaGZicVNWUGUqPzcsNlg8S2JlSkUtIzpqJDotXVJ1Wyk2RkFoQl51ZDs8VC1MOVNfayxuZGNMaSVeTyxzUiwwK2c/cj8sMUhWQjNuOkBjXEVYRF5icWJoblZsWlIwUi5cPyQ2WCokb0NIcEoqdGNLa1E3YDBZTCZsXycxQ11sbktOWDJwIjlkQTQ7U0NWU2kkUXEkMmhaI2RWS21NIT84U1NBdEU2S1swS1kkOGUlaEFXR2RGUUIzc29eQjhHNFtyR0I3XjNIaXMvKHJMOUBDa0ddIjBaNj43dSQ4YnBDK110RCZqTGctSmtxNTQ0bkdEKzBtYVNtPSpCaGVWJWU5ZnNbTykmYHFcJFtiXHRjN2IvIjJjYSghP1paRFk8KCFgXmdEJypFUjMqQEpyOldxSFVjSF5FbTY5KCNpOWpqSCM/JEtPbzQmYFx1TDwsQEBEPlNVTDpuRTZbJUR0N3NlY3Q6SmZcP2FVTmckbGVxI2lUN0p0OnE0RC9fW2ljJkgsbzMoWTlgOCJWLTRiczMoZUNNJTMmZkBDTWgzUS4icnFnImAvU3EwMmo8XlledVo4T1tsXm5QbSNnPE9dRDJFNz5FVUBUa2djPmctSjMxbiFcRiI1bmhFS1dYSk8kNjlHUnQzM1U8YGsyaV1iQEtLUnI9J3VnWCMyPW5kR3IsXkktajRaOE9bbF5uTmtgZ0dyJFsjM1FZJTwvNTBMYTMhJm5IaWY1azBRI3U0OEtqVG9ULWdlZTVTbXNIJEVMODA9MCM3WWhbXDtJVEBYRDJmZVAiWl5CPD1JWjhPW2xROyk/Pi1MRGQjQ1AyNG1mYkUlSGRgdWo8MkU3PXA5bFYxI20yUksmS18rRVYiTF4+QUtyNVlkPV9ZJz9WcWxfXkFEO1E+LV44N087I01GKk5mZ2BjcSNfRF9ARzkiSFo4T1w3Xm5Oa2BnR3IkWyMzUVklPC81MExhJTZXczRTZ21jRCRJU0U+QEVlXnAxZWEoYypwJ0ttSDhVWUdtNEsnaF1fRyo9VzxrcT9yN3JBbTJSS2hLQ11DI1dsKTM3aigqIkc1KFEuRlIncSgrVV8oaEg6RDtBbVRGOD1HPGBzLj88aT1jJDQoUilwPzcxdE0/cjZlQm5yQWo/Xz4rMEtlUkAxV0VPJUpeVD43MF45XFZSJmVjdDpOPUIoJmk0MydvImlCNnJuSlNiViYrQnBfKVpJMyddZW8mMkJZXGNWLic/W1htMXA0UnFoRCk7bzMuSTdFXC40XkdOZyRsZXE2WzZDRmRUT1dTPyoxRlZlJWBnX2tgamAsX14xWUlAQHIwYTFDY0lfQ0E0UUM6M0tsZ0VHPkZvL2BSLSIsI24tT0VaWWIlRi0nIlciLjoiTmckbGVxI2hKYEBHOSJIWjhPXDdebk5rYGdHciMsI2o5VTUkI0RFRSJsME5kL0RbQVdcc21WbkN0bTslS15vTltXa1VwWDBzV1xzSiYlZD45XFZSJmVjdDpOPUIoJmk0MyxJc2ktWVRhbDdkKTwzKFk5YDgiVi00YnMzKGUvJC0kdVk/J3QsXilhTHI1SGJhQzFHR2QsJVhIKzlnPk1sME1zPCE1aztaVGBTNTNOaSpOJjNELVluQSsjcVcqb1slNjUmS2xBKV1SX1VmYD8nKS9xPGEhIjhYLUsvbSNBaS9AbFwraEYpMjdERko5UXNSJUYxU1cncz5ITVNgPTZ0RSc+a1NFI2c6bSolLE5TbzRfP11sUyomOTMoWTlgOCJWLTRjKjhsYFhnI3JHXWlxUExxMCdpZnJPYmxSY2JRNE00Ni5ELENQMjNgLz82VXBTYD02dEUnQWhBRmRUVVlTPyoxRi1hOU5aZHJwYjgnWiwuZkJgZCN0RkAhQ1EuU0tHTFtIY28vK2t1X14zaFxZPEtCaG9lR0RyVTRjNic5aCViI1RdUEk4NyYiO11Ocmc8T11EMkU3PkVVLGwhJjNETkhYa0wkMTZDYnNFQWgkVTI2ZVo3NiNScj0ndWdYIzI9bmRHcixeSS1qNFo4T1tsXm5Oa2BnR3IkWyMzUVklPC81MExhMyEmbkhpZjVrMFEjdTQ4S2pUb1QtZ2VlNVNtcl0vQCY2WTw0Z2lXUiJTZFAsRDktVmk2JEM/R0QqJShgZ0s4OG9xZWBOOSVGKylkJVwmQDtIPWVhQ09wSj07LVw1bVgsYEBtXnBydXA1SSo4cyE3Yl04YTMmYERmc2xmI0xNUjM3V2g7SVlgOEhFJ0xITC82Mi9yT0dDQEstV1psSzJvNzt0RkJDQEZVLFpsSzJvPEgoLFJDQEstVlpsSzNuSTtnNlVSY3JFNUZRJSNlPFlxWTVTP1ZebmNuLV0jbmROLSFOcGkmQEZgQD1mVl5VNUA9R1QhdFQ8TTdZbG9IW2MqTG9wWC5uWHQqLT5TOytrZ0tbPzNSUyldInQoKTpCZ1BiLE1jN1gyUyphIiFBRDhbYl8hQiFcJCJxWDBkXHFMdT1ZQVlhPiFzOUNZOklkQlM0L0EqQSplPitOaVNyUEBuWDotVVpLLCpeOldDOlA1W1BXQyZVTFJyV2ZKVztQan4+ZW5kc3RyZWFtCmVuZG9iagoxNzEgMCBvYmoKPDwKL0ZpbHRlciBbIC9BU0NJSTg1RGVjb2RlIC9GbGF0ZURlY29kZSBdIC9MZW5ndGggMjUxOQo+PgpzdHJlYW0KR2IhO2g/I1NJVSdSZTwyaSsjZmAvNGs5YUMkakllKk9dRDBncFs8OUNycisiZl5BW2IsNiorVjg1IzswVy1eXEoyVVZUKTZfOEBFLiVZM1xiKDpvUXFGPEhZLVpkO2FObkNFLFAiRVZeO15PalFaSSxsQmg8PS0ycj9FbXAkQzIlOEsvPzRZN3NCY2RAcyoiJ0JPNCh1YTknSS5bXTghUGBSUVE5WkJwVjQuTWM6Ly5VazBxT2QsXTIsXkdwMEooa050TFM+ISNeWERzaC5wMzFNIkRmcGArcF4oVlI4Uz9JL1xARUFlNGNcNj1sJEBLOk9kY2VxInIpUmZdWSsxXWpOTCFVN1VPYixQVGIoWGFgZTRGSGI/aiNJQlBpS2RTKCtOUE90SSw/OD5cZWxxMzA5ITI/QyQjZkonL2RBcmU+PUZeJ3FLYikpYlxsKFpnTXJxZXF0MCNWLElnZCVdZThgUm9vSWkzXydkRyVEQ1VcPzRuWHJZcUdxQ0BldFRdQ1dhNGowWmJEQUolXyxnT0JBLk0qYlBJUW5INU5QTzReWlw2a0QuJVwkLXM1SWMkPS9aOmRocTFuKEQoOUZcLWoqbGA2MWo5QGREXVpYUS9gI3FzRzFgUURYZ29aZTVyPEAwZ2Y2by51KD1lMDg1Q2NCT09RLVgqJD5jQF5jVUI4REdELC03W0lTaS1SNjwkdFhYXWZQbFxcOkMxcms1PkdqSEpbZGFIT24sT2MkIzkrOyk6USkiWytMSDY5LnI8VTVvcWYnKm8pL0NHcTlvUzBYM2FVKzs8WTszUSdGYyQ9ZG8xS1wsaytiZlc+c2IjKSFEVWE5VlQ9KGxPRW9QXy9rajheM0A6V0VIMWA1Tit0JFQ0QFomNj5cO1NdaystZSVUVTg8Wi5zIjg9a01PW2FkUDlPMjZiK2heTVE6OTJDPjEtPTBBQlJcPyZYYmlZMCFcbT0zQ3QhLyhkNj4tSGVMPUFrJz5HVEQ2VWJpWCJXIjg6IV48TzAjOkMmUWRAVzpSNklmS2ttVm05WlVNLWRiX2dgbEdzL2U+PGl0cXVkcCJyIVpmdEhYcWliYF03QDd0VkgpRmtpQGNmaVAmYS5oWWhPLiw0LklHJiEwNXRBXS5lP0U9RzsmUXJsVmJLQiExP29kPnJuUkE8QWIoc0JtOE5HUEMvLCpWPzhYc1BwW0coOlMsZmNgOSwvRm9KVXQ4RkYjPEMzMWUoLCdZM188OE50JSVkZkdudTkrYnRIRDJNVFYoaWlUNTRMOFBIbCdAZyksIzxdJzNkSElNa0VIVy5nM25cSCpjY0giVSM9MltAUFRSNUVfT1c6JGNrSkMjSic/T2sxR2xXZFImdThOSiNQI2s7ZThiRUNOUVtaV0hnYGVbRFJNamZKKC1JQGNdIUFzcGh0SGtLRFEtdFBfO1BJIW9zPk1iXlNla1dlUj51WkBoNiVXQl1QOltTN09XOF1qM0hxcCVrOmRNXERqUiQvW1FkcCdTNmBfPkU8Yy1QN15sRiVWNkJvZTlmS1U4XzI7MXRnK0JaPlQyUk06Mj8rMDJTTTkjOlFUZSFCQkNeUSNhJTFXUi9jNVAnQ0dyO1BjKmkoO0FAN3I2QHJJO1QqbiJcVShlIlVdYDlYdFs7ZixVb0Q3K01yOiFsdEtTczxOPm1pWEMpPlwhTGVZLzgoKHBFXUw5NEVGQ2U8Ky4sWGIxMSVpNio8O3I5VDUzWlFWYUAtMDcnRz9wKmgmUjdfRlJxVCJMTkQyRzxBQGMhQlEwOFpdTTJyWkFTLFtUMFtkVlM8WVJsXUVzUHEkUiIsTXIrSjVgYWJuZ1tjayV1PT9mUmNxZElbPEtpLGpUZGdvWjtQa0ZaOjhebTsrSEwsdFVTLjo2WyFULUVgQyY8WDAmNHNMNj1EWjBicj42V05CcmQhLVtnXyNQbktGQGAkN3JvJmZSQWJpZDFrMkBkPidqSEVkTjJybWc3TGhBWT9gUSJVYTQxLiw5MGBPWHI3YS1rQE05SWAjVyE3XEU7IkxvMHRXTWYwSmEsNFFoRmp1NGoqQUhbbi9MTTJTMllpbkZxRjFGRnRvQ24oNz5yMS1WKktfSjclWV04VTJqLVVlIlFfb3BjIzZeI2I3RnU6JigqNUtASVlwOixVPlFBZSw0cz5bZ1xDXHBeZy8+Kj5YKEVAa1A3MkJBT1x0W2RUWyVib0ksYk9eOmU8X1MsK09hV1JFYVZ0Qk8mUDMrXFNbVURfOT9MZFMwUmNaT1teMHNSQT9MZFMwUmNaT1teMHNSQT9MZFMwUmM2QFpxTi9hJm1VTWp1b1glVyNnb0c5O2ZMUGN1Kj1EUDREXjo2X2xCSGA9NysyIWZgTzYyUT9MZFYxUmNaT1teMUI6c01PdEYsMXIhSmgvXTRQaHItWDx0XC40RVxqPiEiVWoibDBcPkxnbTBnLiRbQlVuPywwRTo8VGxaOkxsZ2wvdD5YYyM2XiNiQWNfXTU5SFY2SWAoL0xML1k7TnElLTlsKV0lPGRTOWkwI0xNMlMyWWluRnFGMUZGdG9Db1VsWGtdc28saFBXYDM/OEokU281bTRGUiMqPipebkhTTDtnUzBWZEFvYitlJU9QL0E+W1Rvbm9AUGQ1OFVIbkxfWVg9OFtIJVZSUitvNTMrR2JnWigpLjpLdT5rXiFbLFEsKDVDY0tEV3FNTT8xOic4Zm5IIUJLZWNiKWhNOmpwdCxSPm8sJitxJkRSVzNgcyxZN15RQEIuaSlWM2gyU2AzMUw0Z1c7UEpfZS8uOjdGK10nZSolQCZyTS9baC1ibHI/RS9IO2hGWF0hMCNwOWlNWnRLUFRXLkJKNVkvWio4Lyx1ZF9qKi86bDpIayw5Ky1rRXFtLUVNTDAlc1kyOztObXVgKkltOzQ7YD0tJW1Acl1ZXTtfJlV1aUpxNXAuNzM7Y00tblpFdUM+X2lZaVNzdGZgQzdcLCVHV0JZSHM/WkpcN2RrLUpORzAyTnNoVmpRXE9Qc14jU1QncThfKik1LWBsbi9xYWMiSVU7OFs7LDovRCZVcz9eNV1PdDQwUzorWFg8ISxWT0Zfb2QudSUxZyZCLEBkIT1gJzxaWltKSCVnMWNRbGVhRVgmKT9TO1lUWyw5VkU+PzNoZkkxZ29SJzo6R1ItYG1PV0duNEA4cV9PWUhQPGhIKCkvTm9oYHEocEJhVypfQUBLVlE+RjNeQCs0NFw7KVphaVlrPCVLUlQvU2xwQFotTGVlT1oqKFJubT5IK2o2PiRMJktuZ2opQ0VFU2EzNzQzPzVsXWpbdSxZI3B0VFMrY1o7PTc9WkxIPlVDLUtUMyIrP1Q1VW4lcDgtNGpUfj5lbmRzdHJlYW0KZW5kb2JqCnhyZWYKMCAxNzIKMDAwMDAwMDAwMCA2NTUzNSBmIAowMDAwMDAwMDczIDAwMDAwIG4gCjAwMDAwMDAxMTQgMDAwMDAgbiAKMDAwMDAwMDIyMSAwMDAwMCBuIAowMDAwMDAwMzMzIDAwMDAwIG4gCjAwMDAwMDA0OTQgMDAwMDAgbiAKMDAwMDAwMDY3NCAwMDAwMCBuIAowMDAwMDAwOTAxIDAwMDAwIG4gCjAwMDAwMDEwNjIgMDAwMDAgbiAKMDAwMDAwMTI0MiAwMDAwMCBuIAowMDAwMDAxNDI0IDAwMDAwIG4gCjAwMDAwMDE2MDQgMDAwMDAgbiAKMDAwMDAwMTgzMiAwMDAwMCBuIAowMDAwMDAxOTk0IDAwMDAwIG4gCjAwMDAwMDIxNzUgMDAwMDAgbiAKMDAwMDAwMjQwMyAwMDAwMCBuIAowMDAwMDAyNTY1IDAwMDAwIG4gCjAwMDAwMDI3NDIgMDAwMDAgbiAKMDAwMDAwMjk3MCAwMDAwMCBuIAowMDAwMDAzMTMyIDAwMDAwIG4gCjAwMDAwMDMzMTMgMDAwMDAgbiAKMDAwMDAwMzU0MSAwMDAwMCBuIAowMDAwMDAzNzAzIDAwMDAwIG4gCjAwMDAwMDM4ODIgMDAwMDAgbiAKMDAwMDAwNDExMCAwMDAwMCBuIAowMDAwMDA0MjcyIDAwMDAwIG4gCjAwMDAwMDQ0NTEgMDAwMDAgbiAKMDAwMDAwNDY3OSAwMDAwMCBuIAowMDAwMDA0ODQxIDAwMDAwIG4gCjAwMDAwMDUwMjIgMDAwMDAgbiAKMDAwMDAwNTI1MCAwMDAwMCBuIAowMDAwMDA1NDMxIDAwMDAwIG4gCjAwMDAwMDU2MDkgMDAwMDAgbiAKMDAwMDAwNTc5MCAwMDAwMCBuIAowMDAwMDA1OTY4IDAwMDAwIG4gCjAwMDAwMDYxNDkgMDAwMDAgbiAKMDAwMDAwNjMyNyAwMDAwMCBuIAowMDAwMDA2NTA4IDAwMDAwIG4gCjAwMDAwMDY2ODYgMDAwMDAgbiAKMDAwMDAwNjg2NyAwMDAwMCBuIAowMDAwMDA3MDQ1IDAwMDAwIG4gCjAwMDAwMDcyMjYgMDAwMDAgbiAKMDAwMDAwNzQwNyAwMDAwMCBuIAowMDAwMDA3NTg1IDAwMDAwIG4gCjAwMDAwMDc3NjYgMDAwMDAgbiAKMDAwMDAwNzk0NyAwMDAwMCBuIAowMDAwMDA4MTI1IDAwMDAwIG4gCjAwMDAwMDgzMDYgMDAwMDAgbiAKMDAwMDAwODQ4NyAwMDAwMCBuIAowMDAwMDA4NjY1IDAwMDAwIG4gCjAwMDAwMDg4NDYgMDAwMDAgbiAKMDAwMDAwOTAyNyAwMDAwMCBuIAowMDAwMDA5MjA1IDAwMDAwIG4gCjAwMDAwMDkzODYgMDAwMDAgbiAKMDAwMDAwOTU2NCAwMDAwMCBuIAowMDAwMDA5NzQ1IDAwMDAwIG4gCjAwMDAwMTAzMzEgMDAwMDAgbiAKMDAwMDAxMDUxMiAwMDAwMCBuIAowMDAwMDEwNjkwIDAwMDAwIG4gCjAwMDAwMTA4NzEgMDAwMDAgbiAKMDAwMDAxMTA0OSAwMDAwMCBuIAowMDAwMDExMjMwIDAwMDAwIG4gCjAwMDAwMTE0MDggMDAwMDAgbiAKMDAwMDAxMTU4OSAwMDAwMCBuIAowMDAwMDExNzY3IDAwMDAwIG4gCjAwMDAwMTE5NDggMDAwMDAgbiAKMDAwMDAxMjEyOSAwMDAwMCBuIAowMDAwMDEyMzA3IDAwMDAwIG4gCjAwMDAwMTI0ODggMDAwMDAgbiAKMDAwMDAxMjY2OSAwMDAwMCBuIAowMDAwMDEyODQ3IDAwMDAwIG4gCjAwMDAwMTMwMjggMDAwMDAgbiAKMDAwMDAxMzIwNiAwMDAwMCBuIAowMDAwMDEzMzg3IDAwMDAwIG4gCjAwMDAwMTM1NjUgMDAwMDAgbiAKMDAwMDAxMzc0NiAwMDAwMCBuIAowMDAwMDEzOTI3IDAwMDAwIG4gCjAwMDAwMTQxMDUgMDAwMDAgbiAKMDAwMDAxNDI4NiAwMDAwMCBuIAowMDAwMDE0NDY2IDAwMDAwIG4gCjAwMDAwMTQ2NDQgMDAwMDAgbiAKMDAwMDAxNDgyNCAwMDAwMCBuIAowMDAwMDE1MDAyIDAwMDAwIG4gCjAwMDAwMTUxODMgMDAwMDAgbiAKMDAwMDAxNTM2MSAwMDAwMCBuIAowMDAwMDE1NTQyIDAwMDAwIG4gCjAwMDAwMTU3MjAgMDAwMDAgbiAKMDAwMDAxNTkwMCAwMDAwMCBuIAowMDAwMDE2MDc4IDAwMDAwIG4gCjAwMDAwMTYyNTggMDAwMDAgbiAKMDAwMDAxNjQzNiAwMDAwMCBuIAowMDAwMDE2NjE3IDAwMDAwIG4gCjAwMDAwMTY3OTUgMDAwMDAgbiAKMDAwMDAxNjk3NSAwMDAwMCBuIAowMDAwMDE3MTUzIDAwMDAwIG4gCjAwMDAwMTczMzMgMDAwMDAgbiAKMDAwMDAxNzUxMSAwMDAwMCBuIAowMDAwMDE3NjkyIDAwMDAwIG4gCjAwMDAwMTc4NzAgMDAwMDAgbiAKMDAwMDAxODA1MCAwMDAwMCBuIAowMDAwMDE4MjI4IDAwMDAwIG4gCjAwMDAwMTg0MDkgMDAwMDAgbiAKMDAwMDAxODU4OCAwMDAwMCBuIAowMDAwMDE4NzY5IDAwMDAwIG4gCjAwMDAwMTg5NDggMDAwMDAgbiAKMDAwMDAxOTEzMCAwMDAwMCBuIAowMDAwMDE5MzA5IDAwMDAwIG4gCjAwMDAwMTk4OTggMDAwMDAgbiAKMDAwMDAyMDA3OSAwMDAwMCBuIAowMDAwMDIwMjU4IDAwMDAwIG4gCjAwMDAwMjA0NDAgMDAwMDAgbiAKMDAwMDAyMDYxOSAwMDAwMCBuIAowMDAwMDIwNzk3IDAwMDAwIG4gCjAwMDAwMjA5NzkgMDAwMDAgbiAKMDAwMDAyMTE1NyAwMDAwMCBuIAowMDAwMDIxMzM5IDAwMDAwIG4gCjAwMDAwMjE1MTcgMDAwMDAgbiAKMDAwMDAyMTY5OSAwMDAwMCBuIAowMDAwMDIxODc3IDAwMDAwIG4gCjAwMDAwMjIwNTkgMDAwMDAgbiAKMDAwMDAyMjIzNSAwMDAwMCBuIAowMDAwMDIyNDExIDAwMDAwIG4gCjAwMDAwMjI1ODcgMDAwMDAgbiAKMDAwMDAyMjc2MyAwMDAwMCBuIAowMDAwMDIyOTM3IDAwMDAwIG4gCjAwMDAwMjMxMTEgMDAwMDAgbiAKMDAwMDAyMzI4NyAwMDAwMCBuIAowMDAwMDIzNDYzIDAwMDAwIG4gCjAwMDAwMjM2MzkgMDAwMDAgbiAKMDAwMDAyMzgxOSAwMDAwMCBuIAowMDAwMDIzOTk1IDAwMDAwIG4gCjAwMDAwMjQxNzEgMDAwMDAgbiAKMDAwMDAyNDM0NyAwMDAwMCBuIAowMDAwMDI0NTIzIDAwMDAwIG4gCjAwMDAwMjQ2OTkgMDAwMDAgbiAKMDAwMDAyNDg3NSAwMDAwMCBuIAowMDAwMDI1MDUxIDAwMDAwIG4gCjAwMDAwMjUyMjcgMDAwMDAgbiAKMDAwMDAyNTQwNyAwMDAwMCBuIAowMDAwMDI1NTgzIDAwMDAwIG4gCjAwMDAwMjU3NjMgMDAwMDAgbiAKMDAwMDAyNTkzOSAwMDAwMCBuIAowMDAwMDI2MTE3IDAwMDAwIG4gCjAwMDAwMjY2MjcgMDAwMDAgbiAKMDAwMDAyNjgwNSAwMDAwMCBuIAowMDAwMDI2OTgzIDAwMDAwIG4gCjAwMDAwMjcxNjEgMDAwMDAgbiAKMDAwMDAyNzMzOSAwMDAwMCBuIAowMDAwMDI3NTIxIDAwMDAwIG4gCjAwMDAwMjc2OTkgMDAwMDAgbiAKMDAwMDAyNzg4MSAwMDAwMCBuIAowMDAwMDI4MDU5IDAwMDAwIG4gCjAwMDAwMjgyMzcgMDAwMDAgbiAKMDAwMDAyODQxNSAwMDAwMCBuIAowMDAwMDI4NTkxIDAwMDAwIG4gCjAwMDAwMjg3NjcgMDAwMDAgbiAKMDAwMDAyODk0NSAwMDAwMCBuIAowMDAwMDI5MTE3IDAwMDAwIG4gCjAwMDAwMjk0NTMgMDAwMDAgbiAKMDAwMDAyOTU0MyAwMDAwMCBuIAowMDAwMDI5Nzk3IDAwMDAwIG4gCjAwMDAwMjk4NzQgMDAwMDAgbiAKMDAwMDAzMDAwMiAwMDAwMCBuIAowMDAwMDMwMTYwIDAwMDAwIG4gCjAwMDAwMzAyOTMgMDAwMDAgbiAKMDAwMDAzMDQxMyAwMDAwMCBuIAowMDAwMDMwNTQyIDAwMDAwIG4gCjAwMDAwMzA2NjMgMDAwMDAgbiAKMDAwMDAzMDc0OSAwMDAwMCBuIAowMDAwMDM2OTA0IDAwMDAwIG4gCjAwMDAwNDMzNjcgMDAwMDAgbiAKMDAwMDA0ODcxMCAwMDAwMCBuIAp0cmFpbGVyCjw8Ci9JRCAKWzwxMmUwMGNhMWI2MWFmODcxMjc1N2E2NTU5NGNhZDA5ND48MTJlMDBjYTFiNjFhZjg3MTI3NTdhNjU1OTRjYWQwOTQ+XQolIFJlcG9ydExhYiBnZW5lcmF0ZWQgUERGIGRvY3VtZW50IC0tIGRpZ2VzdCAoaHR0cDovL3d3dy5yZXBvcnRsYWIuY29tKQoKL0luZm8gMTU5IDAgUgovUm9vdCAxNTggMCBSCi9TaXplIDE3Mgo+PgpzdGFydHhyZWYKNTEzMjIKJSVFT0YK\" target=\"_blank\">\n",
              "        <button>📊 Download PDF report</button></a>"
            ]
          },
          "metadata": {}
        }
      ]
    },
    {
      "cell_type": "code",
      "source": [
        "from catboost import CatBoostRegressor\n",
        "from catboost.utils import eval_metric\n",
        "\n",
        "model=CatBoostRegressor(verbose=False, allow_writing_files=False, random_state=0)\n",
        "\n",
        "enricher.calculate_metrics(\n",
        "    train_features, train_target,\n",
        "    eval_set =[(test_features, test_target)],\n",
        "    estimator=model,\n",
        "    scoring=\"mean_absolute_percentage_error\"\n",
        ")"
      ],
      "metadata": {
        "colab": {
          "base_uri": "https://localhost:8080/",
          "height": 98
        },
        "id": "sXPPfzbh9tcJ",
        "outputId": "c50cb795-a623-411e-b351-b77052200e6b"
      },
      "execution_count": 7,
      "outputs": [
        {
          "output_type": "stream",
          "name": "stdout",
          "text": [
            "Calculating accuracy uplift after enrichment...\n"
          ]
        },
        {
          "output_type": "execute_result",
          "data": {
            "text/plain": [
              "  Dataset type   Rows  Mean target  Baseline mean_absolute_percentage_error  \\\n",
              "0        Train  15213      49.9541                                  0.25285   \n",
              "\n",
              "   Enriched mean_absolute_percentage_error    Uplift  \n",
              "0                                 0.156026  0.096824  "
            ],
            "text/html": [
              "\n",
              "  <div id=\"df-5bbc1993-cb85-44dd-8639-26e7456e78d3\" class=\"colab-df-container\">\n",
              "    <div>\n",
              "<style scoped>\n",
              "    .dataframe tbody tr th:only-of-type {\n",
              "        vertical-align: middle;\n",
              "    }\n",
              "\n",
              "    .dataframe tbody tr th {\n",
              "        vertical-align: top;\n",
              "    }\n",
              "\n",
              "    .dataframe thead th {\n",
              "        text-align: right;\n",
              "    }\n",
              "</style>\n",
              "<table border=\"1\" class=\"dataframe\">\n",
              "  <thead>\n",
              "    <tr style=\"text-align: right;\">\n",
              "      <th></th>\n",
              "      <th>Dataset type</th>\n",
              "      <th>Rows</th>\n",
              "      <th>Mean target</th>\n",
              "      <th>Baseline mean_absolute_percentage_error</th>\n",
              "      <th>Enriched mean_absolute_percentage_error</th>\n",
              "      <th>Uplift</th>\n",
              "    </tr>\n",
              "  </thead>\n",
              "  <tbody>\n",
              "    <tr>\n",
              "      <th>0</th>\n",
              "      <td>Train</td>\n",
              "      <td>15213</td>\n",
              "      <td>49.9541</td>\n",
              "      <td>0.25285</td>\n",
              "      <td>0.156026</td>\n",
              "      <td>0.096824</td>\n",
              "    </tr>\n",
              "  </tbody>\n",
              "</table>\n",
              "</div>\n",
              "    <div class=\"colab-df-buttons\">\n",
              "\n",
              "  <div class=\"colab-df-container\">\n",
              "    <button class=\"colab-df-convert\" onclick=\"convertToInteractive('df-5bbc1993-cb85-44dd-8639-26e7456e78d3')\"\n",
              "            title=\"Convert this dataframe to an interactive table.\"\n",
              "            style=\"display:none;\">\n",
              "\n",
              "  <svg xmlns=\"http://www.w3.org/2000/svg\" height=\"24px\" viewBox=\"0 -960 960 960\">\n",
              "    <path d=\"M120-120v-720h720v720H120Zm60-500h600v-160H180v160Zm220 220h160v-160H400v160Zm0 220h160v-160H400v160ZM180-400h160v-160H180v160Zm440 0h160v-160H620v160ZM180-180h160v-160H180v160Zm440 0h160v-160H620v160Z\"/>\n",
              "  </svg>\n",
              "    </button>\n",
              "\n",
              "  <style>\n",
              "    .colab-df-container {\n",
              "      display:flex;\n",
              "      gap: 12px;\n",
              "    }\n",
              "\n",
              "    .colab-df-convert {\n",
              "      background-color: #E8F0FE;\n",
              "      border: none;\n",
              "      border-radius: 50%;\n",
              "      cursor: pointer;\n",
              "      display: none;\n",
              "      fill: #1967D2;\n",
              "      height: 32px;\n",
              "      padding: 0 0 0 0;\n",
              "      width: 32px;\n",
              "    }\n",
              "\n",
              "    .colab-df-convert:hover {\n",
              "      background-color: #E2EBFA;\n",
              "      box-shadow: 0px 1px 2px rgba(60, 64, 67, 0.3), 0px 1px 3px 1px rgba(60, 64, 67, 0.15);\n",
              "      fill: #174EA6;\n",
              "    }\n",
              "\n",
              "    .colab-df-buttons div {\n",
              "      margin-bottom: 4px;\n",
              "    }\n",
              "\n",
              "    [theme=dark] .colab-df-convert {\n",
              "      background-color: #3B4455;\n",
              "      fill: #D2E3FC;\n",
              "    }\n",
              "\n",
              "    [theme=dark] .colab-df-convert:hover {\n",
              "      background-color: #434B5C;\n",
              "      box-shadow: 0px 1px 3px 1px rgba(0, 0, 0, 0.15);\n",
              "      filter: drop-shadow(0px 1px 2px rgba(0, 0, 0, 0.3));\n",
              "      fill: #FFFFFF;\n",
              "    }\n",
              "  </style>\n",
              "\n",
              "    <script>\n",
              "      const buttonEl =\n",
              "        document.querySelector('#df-5bbc1993-cb85-44dd-8639-26e7456e78d3 button.colab-df-convert');\n",
              "      buttonEl.style.display =\n",
              "        google.colab.kernel.accessAllowed ? 'block' : 'none';\n",
              "\n",
              "      async function convertToInteractive(key) {\n",
              "        const element = document.querySelector('#df-5bbc1993-cb85-44dd-8639-26e7456e78d3');\n",
              "        const dataTable =\n",
              "          await google.colab.kernel.invokeFunction('convertToInteractive',\n",
              "                                                    [key], {});\n",
              "        if (!dataTable) return;\n",
              "\n",
              "        const docLinkHtml = 'Like what you see? Visit the ' +\n",
              "          '<a target=\"_blank\" href=https://colab.research.google.com/notebooks/data_table.ipynb>data table notebook</a>'\n",
              "          + ' to learn more about interactive tables.';\n",
              "        element.innerHTML = '';\n",
              "        dataTable['output_type'] = 'display_data';\n",
              "        await google.colab.output.renderOutput(dataTable, element);\n",
              "        const docLink = document.createElement('div');\n",
              "        docLink.innerHTML = docLinkHtml;\n",
              "        element.appendChild(docLink);\n",
              "      }\n",
              "    </script>\n",
              "  </div>\n",
              "\n",
              "    </div>\n",
              "  </div>\n"
            ]
          },
          "metadata": {},
          "execution_count": 7
        }
      ]
    },
    {
      "cell_type": "code",
      "source": [
        "# Example of batch processing\n",
        "batch_size = 1000\n",
        "enriched_train_features = pd.DataFrame()\n",
        "enriched_test_features = pd.DataFrame()\n",
        "\n",
        "for i in range(0, len(train_features), batch_size):\n",
        "    batch = train_features.iloc[i:i + batch_size]\n",
        "    enriched_batch = enricher.transform(batch, keep_input=True)\n",
        "    # Instead of using frame.append, use pandas.concat\n",
        "    enriched_train_features = pd.concat([enriched_train_features, enriched_batch], ignore_index=True)\n",
        "\n",
        "for i in range(0, len(test_features), batch_size):\n",
        "    batch = test_features.iloc[i:i + batch_size]\n",
        "    enriched_batch = enricher.transform(batch, keep_input=True)\n",
        "    enriched_test_features = pd.concat([enriched_test_features, enriched_batch], ignore_index=True)\n",
        "\n",
        "enriched_train_features.head()"
      ],
      "metadata": {
        "colab": {
          "base_uri": "https://localhost:8080/",
          "height": 1000
        },
        "id": "0yQ80q9P-xh6",
        "outputId": "b2c6c341-1652-4009-d3f8-09df73e93597"
      },
      "execution_count": null,
      "outputs": [
        {
          "output_type": "display_data",
          "data": {
            "text/plain": [
              "[============================================================] 100% Finished"
            ],
            "text/html": [
              "<progress style='width:60ex' max='100' value='100'></progress>  100% Finished</br>"
            ]
          },
          "metadata": {}
        },
        {
          "output_type": "stream",
          "name": "stdout",
          "text": [
            "You use Trial access to Upgini data enrichment. Limit for Trial: 10000 rows. You have already enriched: 5384 rows.\n",
            "\n",
            "WARNING: Search started with DATE search key only\n",
            "Try to add other keys like the COUNTRY, POSTAL_CODE, PHONE NUMBER, EMAIL/HEM, IPv4 to your training dataset\n",
            "for search through all the available data sources.\n",
            "See docs https://github.com/upgini/upgini#-total-239-countries-and-up-to-41-years-of-history\n"
          ]
        },
        {
          "output_type": "display_data",
          "data": {
            "text/plain": [
              "<IPython.core.display.HTML object>"
            ],
            "text/html": [
              "<table><tr><th style='font-weight:bold'>Column name</th><th style='font-weight:bold'>Status</th><th style='font-weight:bold'>Errors</th></tr><tr><td>date</td><td style='background-color:#DAF7A6;color:black'>All valid</td><td>-</td></tr></table>"
            ]
          },
          "metadata": {}
        },
        {
          "output_type": "stream",
          "name": "stdout",
          "text": [
            "\n",
            "Running search request, search_id=bbc3ba05-b652-487e-a757-3cc9be7c74fc\n",
            "We'll send email notification once it's completed, just use your personal api_key from profile.upgini.com\n",
            "\n",
            "Retrieving selected features from data sources...\n"
          ]
        },
        {
          "output_type": "display_data",
          "data": {
            "text/plain": [
              "[============================================================] 100% Finished"
            ],
            "text/html": [
              "<progress style='width:60ex' max='100' value='100'></progress>  100% Finished</br>"
            ]
          },
          "metadata": {}
        },
        {
          "output_type": "stream",
          "name": "stdout",
          "text": [
            "You use Trial access to Upgini data enrichment. Limit for Trial: 10000 rows. You have already enriched: 5478 rows.\n",
            "\n",
            "WARNING: Search started with DATE search key only\n",
            "Try to add other keys like the COUNTRY, POSTAL_CODE, PHONE NUMBER, EMAIL/HEM, IPv4 to your training dataset\n",
            "for search through all the available data sources.\n",
            "See docs https://github.com/upgini/upgini#-total-239-countries-and-up-to-41-years-of-history\n"
          ]
        },
        {
          "output_type": "display_data",
          "data": {
            "text/plain": [
              "<IPython.core.display.HTML object>"
            ],
            "text/html": [
              "<table><tr><th style='font-weight:bold'>Column name</th><th style='font-weight:bold'>Status</th><th style='font-weight:bold'>Errors</th></tr><tr><td>date</td><td style='background-color:#DAF7A6;color:black'>All valid</td><td>-</td></tr></table>"
            ]
          },
          "metadata": {}
        },
        {
          "output_type": "stream",
          "name": "stdout",
          "text": [
            "\n",
            "Running search request, search_id=18e73cbf-2f59-4a6a-b6f9-ab8a9b795e54\n",
            "We'll send email notification once it's completed, just use your personal api_key from profile.upgini.com\n",
            "\n",
            "Retrieving selected features from data sources...\n"
          ]
        },
        {
          "output_type": "display_data",
          "data": {
            "text/plain": [
              "[============================================================] 100% Finished"
            ],
            "text/html": [
              "<progress style='width:60ex' max='100' value='100'></progress>  100% Finished</br>"
            ]
          },
          "metadata": {}
        },
        {
          "output_type": "stream",
          "name": "stdout",
          "text": [
            "You use Trial access to Upgini data enrichment. Limit for Trial: 10000 rows. You have already enriched: 5574 rows.\n",
            "\n",
            "WARNING: Search started with DATE search key only\n",
            "Try to add other keys like the COUNTRY, POSTAL_CODE, PHONE NUMBER, EMAIL/HEM, IPv4 to your training dataset\n",
            "for search through all the available data sources.\n",
            "See docs https://github.com/upgini/upgini#-total-239-countries-and-up-to-41-years-of-history\n"
          ]
        },
        {
          "output_type": "display_data",
          "data": {
            "text/plain": [
              "<IPython.core.display.HTML object>"
            ],
            "text/html": [
              "<table><tr><th style='font-weight:bold'>Column name</th><th style='font-weight:bold'>Status</th><th style='font-weight:bold'>Errors</th></tr><tr><td>date</td><td style='background-color:#DAF7A6;color:black'>All valid</td><td>-</td></tr></table>"
            ]
          },
          "metadata": {}
        },
        {
          "output_type": "stream",
          "name": "stdout",
          "text": [
            "\n",
            "Running search request, search_id=dc57430c-e91a-4c8f-af1a-528a673df405\n",
            "We'll send email notification once it's completed, just use your personal api_key from profile.upgini.com\n",
            "\n",
            "Retrieving selected features from data sources...\n"
          ]
        },
        {
          "output_type": "display_data",
          "data": {
            "text/plain": [
              "[============================================================] 100% Finished"
            ],
            "text/html": [
              "<progress style='width:60ex' max='100' value='100'></progress>  100% Finished</br>"
            ]
          },
          "metadata": {}
        },
        {
          "output_type": "stream",
          "name": "stdout",
          "text": [
            "You use Trial access to Upgini data enrichment. Limit for Trial: 10000 rows. You have already enriched: 5666 rows.\n",
            "\n",
            "WARNING: Search started with DATE search key only\n",
            "Try to add other keys like the COUNTRY, POSTAL_CODE, PHONE NUMBER, EMAIL/HEM, IPv4 to your training dataset\n",
            "for search through all the available data sources.\n",
            "See docs https://github.com/upgini/upgini#-total-239-countries-and-up-to-41-years-of-history\n"
          ]
        },
        {
          "output_type": "display_data",
          "data": {
            "text/plain": [
              "<IPython.core.display.HTML object>"
            ],
            "text/html": [
              "<table><tr><th style='font-weight:bold'>Column name</th><th style='font-weight:bold'>Status</th><th style='font-weight:bold'>Errors</th></tr><tr><td>date</td><td style='background-color:#DAF7A6;color:black'>All valid</td><td>-</td></tr></table>"
            ]
          },
          "metadata": {}
        },
        {
          "output_type": "stream",
          "name": "stdout",
          "text": [
            "\n",
            "Running search request, search_id=01a879bd-77a2-4fd0-b6be-95f5b0fda712\n",
            "We'll send email notification once it's completed, just use your personal api_key from profile.upgini.com\n",
            "\n",
            "Retrieving selected features from data sources...\n"
          ]
        },
        {
          "output_type": "display_data",
          "data": {
            "text/plain": [
              "[============================================================] 100% Finished"
            ],
            "text/html": [
              "<progress style='width:60ex' max='100' value='100'></progress>  100% Finished</br>"
            ]
          },
          "metadata": {}
        },
        {
          "output_type": "stream",
          "name": "stdout",
          "text": [
            "You use Trial access to Upgini data enrichment. Limit for Trial: 10000 rows. You have already enriched: 5767 rows.\n",
            "\n",
            "WARNING: Search started with DATE search key only\n",
            "Try to add other keys like the COUNTRY, POSTAL_CODE, PHONE NUMBER, EMAIL/HEM, IPv4 to your training dataset\n",
            "for search through all the available data sources.\n",
            "See docs https://github.com/upgini/upgini#-total-239-countries-and-up-to-41-years-of-history\n"
          ]
        },
        {
          "output_type": "display_data",
          "data": {
            "text/plain": [
              "<IPython.core.display.HTML object>"
            ],
            "text/html": [
              "<table><tr><th style='font-weight:bold'>Column name</th><th style='font-weight:bold'>Status</th><th style='font-weight:bold'>Errors</th></tr><tr><td>date</td><td style='background-color:#DAF7A6;color:black'>All valid</td><td>-</td></tr></table>"
            ]
          },
          "metadata": {}
        },
        {
          "output_type": "stream",
          "name": "stdout",
          "text": [
            "\n",
            "Running search request, search_id=66801000-4b92-4b36-8763-96e93603f0e5\n",
            "We'll send email notification once it's completed, just use your personal api_key from profile.upgini.com\n",
            "\n",
            "Retrieving selected features from data sources...\n"
          ]
        },
        {
          "output_type": "display_data",
          "data": {
            "text/plain": [
              "[============================================================] 100% Finished"
            ],
            "text/html": [
              "<progress style='width:60ex' max='100' value='100'></progress>  100% Finished</br>"
            ]
          },
          "metadata": {}
        },
        {
          "output_type": "stream",
          "name": "stdout",
          "text": [
            "You use Trial access to Upgini data enrichment. Limit for Trial: 10000 rows. You have already enriched: 5862 rows.\n",
            "\n",
            "WARNING: Search started with DATE search key only\n",
            "Try to add other keys like the COUNTRY, POSTAL_CODE, PHONE NUMBER, EMAIL/HEM, IPv4 to your training dataset\n",
            "for search through all the available data sources.\n",
            "See docs https://github.com/upgini/upgini#-total-239-countries-and-up-to-41-years-of-history\n"
          ]
        },
        {
          "output_type": "display_data",
          "data": {
            "text/plain": [
              "<IPython.core.display.HTML object>"
            ],
            "text/html": [
              "<table><tr><th style='font-weight:bold'>Column name</th><th style='font-weight:bold'>Status</th><th style='font-weight:bold'>Errors</th></tr><tr><td>date</td><td style='background-color:#DAF7A6;color:black'>All valid</td><td>-</td></tr></table>"
            ]
          },
          "metadata": {}
        },
        {
          "output_type": "stream",
          "name": "stdout",
          "text": [
            "\n",
            "Running search request, search_id=e9b7354e-6d7b-4bf6-a4cf-6df2e1696e9b\n",
            "We'll send email notification once it's completed, just use your personal api_key from profile.upgini.com\n",
            "\n",
            "Retrieving selected features from data sources...\n"
          ]
        },
        {
          "output_type": "display_data",
          "data": {
            "text/plain": [
              "[============================================================] 100% Finished"
            ],
            "text/html": [
              "<progress style='width:60ex' max='100' value='100'></progress>  100% Finished</br>"
            ]
          },
          "metadata": {}
        },
        {
          "output_type": "stream",
          "name": "stdout",
          "text": [
            "You use Trial access to Upgini data enrichment. Limit for Trial: 10000 rows. You have already enriched: 5958 rows.\n",
            "\n",
            "WARNING: Search started with DATE search key only\n",
            "Try to add other keys like the COUNTRY, POSTAL_CODE, PHONE NUMBER, EMAIL/HEM, IPv4 to your training dataset\n",
            "for search through all the available data sources.\n",
            "See docs https://github.com/upgini/upgini#-total-239-countries-and-up-to-41-years-of-history\n"
          ]
        },
        {
          "output_type": "display_data",
          "data": {
            "text/plain": [
              "<IPython.core.display.HTML object>"
            ],
            "text/html": [
              "<table><tr><th style='font-weight:bold'>Column name</th><th style='font-weight:bold'>Status</th><th style='font-weight:bold'>Errors</th></tr><tr><td>date</td><td style='background-color:#DAF7A6;color:black'>All valid</td><td>-</td></tr></table>"
            ]
          },
          "metadata": {}
        },
        {
          "output_type": "stream",
          "name": "stdout",
          "text": [
            "\n",
            "Running search request, search_id=394ac2ce-444c-4c13-b6f3-403c025e926f\n",
            "We'll send email notification once it's completed, just use your personal api_key from profile.upgini.com\n",
            "\n",
            "Retrieving selected features from data sources...\n"
          ]
        },
        {
          "output_type": "display_data",
          "data": {
            "text/plain": [
              "[============================================================] 100% Finished"
            ],
            "text/html": [
              "<progress style='width:60ex' max='100' value='100'></progress>  100% Finished</br>"
            ]
          },
          "metadata": {}
        },
        {
          "output_type": "stream",
          "name": "stdout",
          "text": [
            "You use Trial access to Upgini data enrichment. Limit for Trial: 10000 rows. You have already enriched: 6054 rows.\n",
            "\n",
            "WARNING: Search started with DATE search key only\n",
            "Try to add other keys like the COUNTRY, POSTAL_CODE, PHONE NUMBER, EMAIL/HEM, IPv4 to your training dataset\n",
            "for search through all the available data sources.\n",
            "See docs https://github.com/upgini/upgini#-total-239-countries-and-up-to-41-years-of-history\n"
          ]
        },
        {
          "output_type": "display_data",
          "data": {
            "text/plain": [
              "<IPython.core.display.HTML object>"
            ],
            "text/html": [
              "<table><tr><th style='font-weight:bold'>Column name</th><th style='font-weight:bold'>Status</th><th style='font-weight:bold'>Errors</th></tr><tr><td>date</td><td style='background-color:#DAF7A6;color:black'>All valid</td><td>-</td></tr></table>"
            ]
          },
          "metadata": {}
        },
        {
          "output_type": "stream",
          "name": "stdout",
          "text": [
            "\n",
            "Running search request, search_id=659130a7-a702-4243-8ac9-5a971de17ba0\n",
            "We'll send email notification once it's completed, just use your personal api_key from profile.upgini.com\n",
            "\n",
            "Retrieving selected features from data sources...\n"
          ]
        },
        {
          "output_type": "display_data",
          "data": {
            "text/plain": [
              "[============================================================] 100% Finished"
            ],
            "text/html": [
              "<progress style='width:60ex' max='100' value='100'></progress>  100% Finished</br>"
            ]
          },
          "metadata": {}
        },
        {
          "output_type": "stream",
          "name": "stdout",
          "text": [
            "You use Trial access to Upgini data enrichment. Limit for Trial: 10000 rows. You have already enriched: 6152 rows.\n",
            "\n",
            "WARNING: Search started with DATE search key only\n",
            "Try to add other keys like the COUNTRY, POSTAL_CODE, PHONE NUMBER, EMAIL/HEM, IPv4 to your training dataset\n",
            "for search through all the available data sources.\n",
            "See docs https://github.com/upgini/upgini#-total-239-countries-and-up-to-41-years-of-history\n"
          ]
        },
        {
          "output_type": "display_data",
          "data": {
            "text/plain": [
              "<IPython.core.display.HTML object>"
            ],
            "text/html": [
              "<table><tr><th style='font-weight:bold'>Column name</th><th style='font-weight:bold'>Status</th><th style='font-weight:bold'>Errors</th></tr><tr><td>date</td><td style='background-color:#DAF7A6;color:black'>All valid</td><td>-</td></tr></table>"
            ]
          },
          "metadata": {}
        },
        {
          "output_type": "stream",
          "name": "stdout",
          "text": [
            "\n",
            "Running search request, search_id=8fcd7360-e237-4039-8fbf-ab71164f0d98\n",
            "We'll send email notification once it's completed, just use your personal api_key from profile.upgini.com\n",
            "\n",
            "Retrieving selected features from data sources...\n"
          ]
        },
        {
          "output_type": "display_data",
          "data": {
            "text/plain": [
              "[============================================================] 100% Finished"
            ],
            "text/html": [
              "<progress style='width:60ex' max='100' value='100'></progress>  100% Finished</br>"
            ]
          },
          "metadata": {}
        },
        {
          "output_type": "stream",
          "name": "stdout",
          "text": [
            "You use Trial access to Upgini data enrichment. Limit for Trial: 10000 rows. You have already enriched: 6250 rows.\n",
            "\n",
            "WARNING: Search started with DATE search key only\n",
            "Try to add other keys like the COUNTRY, POSTAL_CODE, PHONE NUMBER, EMAIL/HEM, IPv4 to your training dataset\n",
            "for search through all the available data sources.\n",
            "See docs https://github.com/upgini/upgini#-total-239-countries-and-up-to-41-years-of-history\n"
          ]
        },
        {
          "output_type": "display_data",
          "data": {
            "text/plain": [
              "<IPython.core.display.HTML object>"
            ],
            "text/html": [
              "<table><tr><th style='font-weight:bold'>Column name</th><th style='font-weight:bold'>Status</th><th style='font-weight:bold'>Errors</th></tr><tr><td>date</td><td style='background-color:#DAF7A6;color:black'>All valid</td><td>-</td></tr></table>"
            ]
          },
          "metadata": {}
        },
        {
          "output_type": "stream",
          "name": "stdout",
          "text": [
            "\n",
            "Running search request, search_id=a370e9f0-63ba-423b-878f-d90664e4d9fc\n",
            "We'll send email notification once it's completed, just use your personal api_key from profile.upgini.com\n",
            "\n",
            "Retrieving selected features from data sources...\n"
          ]
        },
        {
          "output_type": "display_data",
          "data": {
            "text/plain": [
              "[============================================================] 100% Finished"
            ],
            "text/html": [
              "<progress style='width:60ex' max='100' value='100'></progress>  100% Finished</br>"
            ]
          },
          "metadata": {}
        },
        {
          "output_type": "stream",
          "name": "stdout",
          "text": [
            "You use Trial access to Upgini data enrichment. Limit for Trial: 10000 rows. You have already enriched: 6347 rows.\n",
            "\n",
            "WARNING: Search started with DATE search key only\n",
            "Try to add other keys like the COUNTRY, POSTAL_CODE, PHONE NUMBER, EMAIL/HEM, IPv4 to your training dataset\n",
            "for search through all the available data sources.\n",
            "See docs https://github.com/upgini/upgini#-total-239-countries-and-up-to-41-years-of-history\n"
          ]
        },
        {
          "output_type": "display_data",
          "data": {
            "text/plain": [
              "<IPython.core.display.HTML object>"
            ],
            "text/html": [
              "<table><tr><th style='font-weight:bold'>Column name</th><th style='font-weight:bold'>Status</th><th style='font-weight:bold'>Errors</th></tr><tr><td>date</td><td style='background-color:#DAF7A6;color:black'>All valid</td><td>-</td></tr></table>"
            ]
          },
          "metadata": {}
        },
        {
          "output_type": "stream",
          "name": "stdout",
          "text": [
            "\n",
            "Running search request, search_id=1cf0da3b-c9d1-4780-af7f-543b808a5e43\n",
            "We'll send email notification once it's completed, just use your personal api_key from profile.upgini.com\n",
            "\n",
            "Retrieving selected features from data sources...\n"
          ]
        },
        {
          "output_type": "display_data",
          "data": {
            "text/plain": [
              "[============================================================] 100% Finished"
            ],
            "text/html": [
              "<progress style='width:60ex' max='100' value='100'></progress>  100% Finished</br>"
            ]
          },
          "metadata": {}
        },
        {
          "output_type": "stream",
          "name": "stdout",
          "text": [
            "You use Trial access to Upgini data enrichment. Limit for Trial: 10000 rows. You have already enriched: 6448 rows.\n",
            "\n",
            "WARNING: Search started with DATE search key only\n",
            "Try to add other keys like the COUNTRY, POSTAL_CODE, PHONE NUMBER, EMAIL/HEM, IPv4 to your training dataset\n",
            "for search through all the available data sources.\n",
            "See docs https://github.com/upgini/upgini#-total-239-countries-and-up-to-41-years-of-history\n"
          ]
        },
        {
          "output_type": "display_data",
          "data": {
            "text/plain": [
              "<IPython.core.display.HTML object>"
            ],
            "text/html": [
              "<table><tr><th style='font-weight:bold'>Column name</th><th style='font-weight:bold'>Status</th><th style='font-weight:bold'>Errors</th></tr><tr><td>date</td><td style='background-color:#DAF7A6;color:black'>All valid</td><td>-</td></tr></table>"
            ]
          },
          "metadata": {}
        },
        {
          "output_type": "stream",
          "name": "stdout",
          "text": [
            "\n",
            "Running search request, search_id=c0c21764-9cc0-4db2-a3bc-c31ad3ac3f96\n",
            "We'll send email notification once it's completed, just use your personal api_key from profile.upgini.com\n",
            "\n",
            "Retrieving selected features from data sources...\n"
          ]
        },
        {
          "output_type": "display_data",
          "data": {
            "text/plain": [
              "[============================================================] 100% Finished"
            ],
            "text/html": [
              "<progress style='width:60ex' max='100' value='100'></progress>  100% Finished</br>"
            ]
          },
          "metadata": {}
        },
        {
          "output_type": "stream",
          "name": "stdout",
          "text": [
            "You use Trial access to Upgini data enrichment. Limit for Trial: 10000 rows. You have already enriched: 6549 rows.\n",
            "\n",
            "WARNING: Search started with DATE search key only\n",
            "Try to add other keys like the COUNTRY, POSTAL_CODE, PHONE NUMBER, EMAIL/HEM, IPv4 to your training dataset\n",
            "for search through all the available data sources.\n",
            "See docs https://github.com/upgini/upgini#-total-239-countries-and-up-to-41-years-of-history\n"
          ]
        },
        {
          "output_type": "display_data",
          "data": {
            "text/plain": [
              "<IPython.core.display.HTML object>"
            ],
            "text/html": [
              "<table><tr><th style='font-weight:bold'>Column name</th><th style='font-weight:bold'>Status</th><th style='font-weight:bold'>Errors</th></tr><tr><td>date</td><td style='background-color:#DAF7A6;color:black'>All valid</td><td>-</td></tr></table>"
            ]
          },
          "metadata": {}
        },
        {
          "output_type": "stream",
          "name": "stdout",
          "text": [
            "\n",
            "Running search request, search_id=33369f69-edde-4048-9df1-94a4a54a8dc8\n",
            "We'll send email notification once it's completed, just use your personal api_key from profile.upgini.com\n",
            "\n",
            "Retrieving selected features from data sources...\n"
          ]
        },
        {
          "output_type": "display_data",
          "data": {
            "text/plain": [
              "[=================================================           ] 82% Generating report..."
            ],
            "text/html": [
              "<progress style='width:60ex' max='100' value='82'></progress>  82% Generating report...</br>Approximately 0:00:05 remaining"
            ]
          },
          "metadata": {}
        },
        {
          "output_type": "stream",
          "name": "stdout",
          "text": [
            "You use Trial access to Upgini data enrichment. Limit for Trial: 10000 rows. You have already enriched: 6647 rows.\n",
            "\n",
            "WARNING: Search started with DATE search key only\n",
            "Try to add other keys like the COUNTRY, POSTAL_CODE, PHONE NUMBER, EMAIL/HEM, IPv4 to your training dataset\n",
            "for search through all the available data sources.\n",
            "See docs https://github.com/upgini/upgini#-total-239-countries-and-up-to-41-years-of-history\n"
          ]
        },
        {
          "output_type": "display_data",
          "data": {
            "text/plain": [
              "<IPython.core.display.HTML object>"
            ],
            "text/html": [
              "<table><tr><th style='font-weight:bold'>Column name</th><th style='font-weight:bold'>Status</th><th style='font-weight:bold'>Errors</th></tr><tr><td>date</td><td style='background-color:#DAF7A6;color:black'>All valid</td><td>-</td></tr></table>"
            ]
          },
          "metadata": {}
        },
        {
          "output_type": "stream",
          "name": "stdout",
          "text": [
            "\n",
            "Running search request, search_id=35e626ee-97f3-4546-b8f9-c65d88f1aa9f\n",
            "We'll send email notification once it's completed, just use your personal api_key from profile.upgini.com\n"
          ]
        }
      ]
    },
    {
      "cell_type": "code",
      "source": [
        "model.fit(train_features, train_target)\n",
        "preds=model.predict(test_features)\n",
        "eval_metric(test_target.values,preds,\"SMAPE\")"
      ],
      "metadata": {
        "colab": {
          "base_uri": "https://localhost:8080/"
        },
        "id": "sTjO-7NZzAdB",
        "outputId": "a90e8db1-7a20-4027-a6fc-642972f3a49c"
      },
      "execution_count": 21,
      "outputs": [
        {
          "output_type": "execute_result",
          "data": {
            "text/plain": [
              "[18.295517483678655]"
            ]
          },
          "metadata": {},
          "execution_count": 21
        }
      ]
    },
    {
      "cell_type": "code",
      "source": [
        "print(\"Shape of enriched_train_features:\", enriched_train_features.shape)\n",
        "print(\"Shape of train_target:\", train_target.shape)"
      ],
      "metadata": {
        "colab": {
          "base_uri": "https://localhost:8080/"
        },
        "id": "TbmL5OHC0MLV",
        "outputId": "d6c11070-89f6-4f33-ef8d-69d1fd88ca8d"
      },
      "execution_count": 22,
      "outputs": [
        {
          "output_type": "stream",
          "name": "stdout",
          "text": [
            "Shape of enriched_train_features: (15213, 30)\n",
            "Shape of train_target: (15213,)\n"
          ]
        }
      ]
    },
    {
      "cell_type": "code",
      "source": [
        "model.fit(enriched_train_features, train_target)\n",
        "enriched_preds=model.predict(enriched_test_features)\n",
        "eval_metric(test_target.values,enriched_preds,\"SMAPE\")"
      ],
      "metadata": {
        "colab": {
          "base_uri": "https://localhost:8080/"
        },
        "id": "38kBTxQzzug4",
        "outputId": "948defab-9cdb-4a02-b93c-f03d5cd30d64"
      },
      "execution_count": 24,
      "outputs": [
        {
          "output_type": "execute_result",
          "data": {
            "text/plain": [
              "[13.90813069519919]"
            ]
          },
          "metadata": {},
          "execution_count": 24
        }
      ]
    }
  ]
}